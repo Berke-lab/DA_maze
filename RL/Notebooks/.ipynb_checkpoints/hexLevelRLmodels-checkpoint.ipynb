{
 "cells": [
  {
   "cell_type": "code",
   "execution_count": 1,
   "id": "512f45d1",
   "metadata": {
    "tags": []
   },
   "outputs": [],
   "source": [
    "using CSV\n",
    "using CategoricalArrays\n",
    "using DataFrames\n",
    "using HypothesisTests\n",
    "using LinearAlgebra\n",
    "using LogExpFunctions\n",
    "using MixedModels\n",
    "using SpecialFunctions\n",
    "using Statistics"
   ]
  },
  {
   "cell_type": "code",
   "execution_count": 2,
   "id": "779bc441",
   "metadata": {
    "tags": []
   },
   "outputs": [],
   "source": [
    "# load the EM library\n",
    "\n",
    "full = false    # Maintain full covariance matrix (vs a diagional one) at the group level\n",
    "emtol = 1e-2    # stopping condition (relative change) for EM\n",
    "\n",
    "em_directory = \"\" #directory where EM functions are stored, from Daw lab.\n",
    "\n",
    "savepath = \"\" #location to save cross-validated likelihood data from each rat and session\n",
    "\n",
    "push!(LOAD_PATH,em_directory)\n",
    "using EM\n",
    "\n",
    "#load the likelihood functions\n",
    "lik_directory = \"\" #directory where likelihood functions are stored, from modules folder.\n",
    "\n",
    "push!(LOAD_PATH,lik_directory)\n",
    "using likFuncs"
   ]
  },
  {
   "cell_type": "code",
   "execution_count": 3,
   "id": "3c4a7bda",
   "metadata": {},
   "outputs": [],
   "source": [
    "# load the data\n",
    "\n",
    "#insert df path into function\n",
    "data = CSV.read(\"\", DataFrame);\n",
    "\n",
    "# get rid of frames with no location\n",
    "data = data[data.pairedHexState .>= 0,:];\n",
    "\n",
    "# get rid of sessions with no ramp\n",
    "data = data[data.rat .!= \"IM-1292\",:];\n",
    "data = data[data.session .!= 90,:];\n",
    "data = data[data.session .!= 92,:];\n",
    "data = data[data.session .!= 94,:];\n",
    "\n",
    "data.session = CategoricalArray(data.session);"
   ]
  },
  {
   "cell_type": "markdown",
   "id": "28a6f757-5e50-451c-93b2-255d336f226f",
   "metadata": {},
   "source": [
    "### fit TD lambda "
   ]
  },
  {
   "cell_type": "code",
   "execution_count": null,
   "id": "2fd85bf9-d28b-47be-a588-07352ae28b7c",
   "metadata": {},
   "outputs": [],
   "source": [
    "data.sub = data.session\n",
    "bsTDlambdamodel = []\n",
    "lsTDlambdamodel = []\n",
    "isTDlambdamodel= []\n",
    "betaErrors = []\n",
    "betaPvals = []\n",
    "\n",
    "for rat in levels(data.rat)\n",
    "    datarat = data[data.rat .== rat,:]\n",
    "    subs = levels(datarat.sub)\n",
    "    NS = length(subs)\n",
    "\n",
    "    X = ones(NS)\n",
    "    startbetas = [0 0 0 0 0 0 0 0.]\n",
    "    startsigma = [1, 1, 1, 1, 1, 1, 1, 1]\n",
    "\n",
    "\n",
    "    (betas,sigma,x,l,h) = em(datarat,subs,X,startbetas,startsigma,tdlambdalik; emtol=emtol, full=full,maxiter=1000);\n",
    "\n",
    "    bsTDlambdamodel = [bsTDlambdamodel; vec(betas)]\n",
    "    lsTDlambdamodel = [lsTDlambdamodel; lml(x,l,h)]\n",
    "    isTDlambdamodel = [isTDlambdamodel; iaic(x,l,h,betas,sigma)]\n",
    "    loocvTDlambdamodel = [loocvTDlambdamodel; loocv(datarat,subs,x,X,betas,sigma,tdlambdalik;emtol=emtol, full=full)]\n",
    "    loocvDfTDlambdamodel = DataFrame(rat=repeat([rat],length(loocvTDlambdamodel)),loocv=loocvTDlambdamodel)\n",
    "    CSV.write(savepath*\"loocvTdLambdaModel_\"*rat*\".csv\",loocvDfTDlambdamodel)\n",
    "end"
   ]
  },
  {
   "cell_type": "markdown",
   "id": "57af3428-264e-4b76-9ada-0b296a02cdab",
   "metadata": {},
   "source": [
    "## fit 2 component model "
   ]
  },
  {
   "cell_type": "code",
   "execution_count": null,
   "id": "cb0d6189-a92e-4e7f-b5ec-50c7da845e50",
   "metadata": {},
   "outputs": [],
   "source": [
    "data.sub = data.session\n",
    "bs2Vmodel = []\n",
    "ls2Vmodel = []\n",
    "is2Vmodel= []\n",
    "betaErrors = []\n",
    "betaPvals = []\n",
    "\n",
    "for rat in levels(data.rat)\n",
    "    datarat = data[data.rat .== rat,:]\n",
    "    subs = unique(datarat.sub)\n",
    "    NS = length(subs)\n",
    "\n",
    "    X = ones(NS)\n",
    "    startbetas = [0 0 0 0 0 0 0 0.]\n",
    "    startsigma = [1, 1, 1, 1, 1, 1, 1, 1]\n",
    "\n",
    "\n",
    "    (betas,sigma,x,l,h) = em(datarat,subs,X,startbetas,startsigma,etliksep; emtol=emtol, full=full,maxiter=1000);\n",
    "\n",
    "    bs2Vmodel = [bs2Vmodel; vec(betas)]\n",
    "    ls2Vmodel = [ls2Vmodel; lml(x,l,h)]\n",
    "    is2Vmodel = [is2Vmodel; iaic(x,l,h,betas,sigma)]\n",
    "    loocv2Vmodel = loocv(datarat,subs,x,X,betas,sigma,etliksep;emtol=emtol, full=full)\n",
    "    loocvDf2Vmodel = DataFrame(rat=repeat([rat],length(loocv2Vmodel)),loocv=loocv2Vmodel)\n",
    "    CSV.write(savepath*rat*\"loocvDualModel_\"*\".csv\",loocvDf2Vmodel)\n",
    "    #also keep value-betas for each rat and session, for significance analysis\n",
    "    (standarderrors,pvalues,covmtx) = emerrors(datarat,subs,x,X,h,betas,sigma,etliksep)\n",
    "    betaErrors = [betaErrors; standarderrors]\n",
    "    betaPvals = [betaPvals; pvalues]\n",
    "end"
   ]
  },
  {
   "cell_type": "markdown",
   "id": "5f93d69e-3b05-4ceb-bfad-3f9ddff37948",
   "metadata": {},
   "source": [
    "# fit two nested versions of the dual-component model"
   ]
  },
  {
   "cell_type": "markdown",
   "id": "7a1b2ba2-a7d5-4a44-b4f2-8f2ed19330ed",
   "metadata": {},
   "source": [
    "### local only"
   ]
  },
  {
   "cell_type": "code",
   "execution_count": null,
   "id": "e857d13d-8220-4e16-8e31-9565de5a9f1b",
   "metadata": {},
   "outputs": [],
   "source": [
    "data.sub = data.session\n",
    "bsLocalmodel = []\n",
    "lsLocalmodel = []\n",
    "isLocalmodel= []\n",
    "\n",
    "for rat in levels(data.rat)\n",
    "    datarat = data[data.rat .== rat,:]\n",
    "    subs = unique(datarat.sub)\n",
    "    NS = length(subs)\n",
    "\n",
    "    X = ones(NS)\n",
    "    startbetas = [0 0 0 0 0.]\n",
    "    startsigma = [1, 1, 1, 1, 1]\n",
    "\n",
    "\n",
    "    (betas,sigma,x,l,h) = em(datarat,subs,X,startbetas,startsigma,etliksepNoTD1MB; emtol=emtol, full=full,maxiter=1000);\n",
    "\n",
    "    bsLocalmodel = [bsLocalmodel; vec(betas)]\n",
    "    lsLocalmodel = [lsLocalmodel; lml(x,l,h)]\n",
    "    isLocalmodel = [isLocalmodel; iaic(x,l,h,betas,sigma)]\n",
    "    loocvLocalmodel = loocv(datarat,subs,x,X,betas,sigma,etliksepNoTD1MB;emtol=emtol, full=full)\n",
    "    loocvDfLocalmodel = DataFrame(rat=repeat([rat],length(loocvLocalmodel)),loocv=loocvLocalmodel)\n",
    "    CSV.write(savepath*rat*\"loocvLocalModel_\"*\".csv\",loocvLocalmodel)\n",
    "end"
   ]
  },
  {
   "cell_type": "markdown",
   "id": "41782c11-ebe7-4c0f-9faa-c25da4482443",
   "metadata": {},
   "source": [
    "### global only"
   ]
  },
  {
   "cell_type": "code",
   "execution_count": null,
   "id": "b458aef1-dcca-4f4f-b50f-2c382526845c",
   "metadata": {},
   "outputs": [],
   "source": [
    "data.sub = data.session\n",
    "bsGlobalmodel = []\n",
    "lsGlobalmodel = []\n",
    "isGlobalmodel= []\n",
    "\n",
    "for rat in levels(data.rat)\n",
    "    datarat = data[data.rat .== rat,:]\n",
    "    subs = unique(datarat.sub)\n",
    "    NS = length(subs)\n",
    "\n",
    "    X = ones(NS)\n",
    "    startbetas = [0 0 0 0 0 0.]\n",
    "    startsigma = [1, 1, 1, 1, 1, 1]\n",
    "\n",
    "\n",
    "    (betas,sigma,x,l,h) = em(datarat,subs,X,startbetas,startsigma,etliksepNoMF; emtol=emtol, full=full,maxiter=1000);\n",
    "\n",
    "    bsGlobalmodel = [bsGlobalmodel; vec(betas)]\n",
    "    lsGlobalmodel = [lsGlobalmodel; lml(x,l,h)]\n",
    "    isGlobalmodel = [isGlobalmodel; iaic(x,l,h,betas,sigma)]\n",
    "    loocvGlobalmodel = loocv(datarat,subs,x,X,betas,sigma,etliksepNoMF;emtol=emtol, full=full)\n",
    "    loocvDfGlobalmodel = DataFrame(rat=repeat([rat],length(loocvGlobalmodel)),loocv=loocvGlobalmodel)\n",
    "    CSV.write(savepath*rat*\"loocvGlobalModel_\"*\".csv\",loocvGlobalmodel)\n",
    "end"
   ]
  }
 ],
 "metadata": {
  "kernelspec": {
   "display_name": "Julia 1.6.3",
   "language": "julia",
   "name": "julia-1.6"
  },
  "language_info": {
   "file_extension": ".jl",
   "mimetype": "application/julia",
   "name": "julia",
   "version": "1.6.3"
  }
 },
 "nbformat": 4,
 "nbformat_minor": 5
}
