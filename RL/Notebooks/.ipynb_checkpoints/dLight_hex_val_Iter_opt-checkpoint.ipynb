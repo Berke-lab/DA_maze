{
 "cells": [
  {
   "cell_type": "code",
   "execution_count": 1,
   "metadata": {},
   "outputs": [],
   "source": [
    "import sys\n",
    "path1 = '/Users/timkrausz/Documents/GitHub/DA_maze_paper/DA/Modules/'\n",
    "path2 = '/Users/timkrausz/Documents/GitHub/DA_maze_paper/RL/Modules/'\n",
    "sys.path += [path1,path2]"
   ]
  },
  {
   "cell_type": "code",
   "execution_count": 2,
   "metadata": {},
   "outputs": [],
   "source": [
    "import numpy as np\n",
    "import matplotlib.pyplot as plt\n",
    "import pandas as pd\n",
    "import seaborn as sns\n",
    "sns.set()\n",
    "plt.style.use('default')\n",
    "plt.style.use(\"seaborn-poster\")\n",
    "from multi_rat_da import *\n",
    "from hexLevelAnalyses import *\n",
    "from photometryQuantifications import plotRegSigLevel\n",
    "from valPropRats import *\n",
    "%matplotlib qt"
   ]
  },
  {
   "cell_type": "markdown",
   "metadata": {},
   "source": [
    "### load in hex-level df with port q values saved"
   ]
  },
  {
   "cell_type": "code",
   "execution_count": 3,
   "metadata": {},
   "outputs": [
    {
     "name": "stdout",
     "output_type": "stream",
     "text": [
      "Memory usage of dataframe is 54.99 MB\n",
      "Memory usage after optimization is: 12.60 MB\n",
      "Decreased by 77.1%\n"
     ]
    }
   ],
   "source": [
    "vrats = ValIterRats(None)\n",
    "loadpath = \"/Volumes/Tim/Photometry/10MfRatDataSet/\"\n",
    "datName = \"hexLevelDf\"\n",
    "vrats.df = reduce_mem_usage(pd.read_csv(loadpath+datName+\".csv\",index_col=[0]))\n",
    "#vrats.df.drop([\"acc\"],axis=1,inplace=True)\n",
    "vrats.directory_prefix = loadpath\n"
   ]
  },
  {
   "cell_type": "markdown",
   "metadata": {},
   "source": [
    "### add in Q values if needed"
   ]
  },
  {
   "cell_type": "code",
   "execution_count": 4,
   "metadata": {},
   "outputs": [],
   "source": [
    "create_triframe(vrats)\n",
    "vrats.get_portQvals(qtype=\"port\",level=\"rat\")"
   ]
  },
  {
   "cell_type": "markdown",
   "metadata": {},
   "source": [
    "### remove rats/fibers with no significant positive ramping"
   ]
  },
  {
   "cell_type": "code",
   "execution_count": 5,
   "metadata": {},
   "outputs": [],
   "source": [
    "vrats.df = vrats.df.loc[vrats.df.rat!=\"IM-1292\",]\n",
    "seshInfo = pd.read_csv(vrats.directory_prefix+\"sessionTable.csv\")\n",
    "seshInfo.loc[:,\"ratLoc\"] = seshInfo.rat + ':'+ seshInfo.fiberloc\n",
    "vrats.seshInfo = seshInfo\n",
    "del seshInfo\n",
    "vrats.seshInfo.loc[vrats.seshInfo.rat==\"IM-1532\",\"fiberloc\"] = \"NAcc-Core-Right\"\n",
    "\n",
    "seshsToRemove = vrats.seshInfo.loc[vrats.seshInfo.ratLoc==\"IM-1478:NAcc-Core-Right\",\"session\"].unique()\n",
    "vrats.df = vrats.df.loc[~(vrats.df.session.isin(seshsToRemove)),]"
   ]
  },
  {
   "cell_type": "markdown",
   "metadata": {},
   "source": [
    "### load transition matrices and barrier info"
   ]
  },
  {
   "cell_type": "code",
   "execution_count": 6,
   "metadata": {},
   "outputs": [
    {
     "name": "stdout",
     "output_type": "stream",
     "text": [
      "briefly switching directory_prefix to new Nas...\n",
      "directory_prefix back to nas 8\n",
      "briefly switching directory_prefix to new Nas...\n",
      "directory_prefix back to nas 8\n",
      "briefly switching directory_prefix to new Nas...\n",
      "directory_prefix back to nas 8\n",
      "briefly switching directory_prefix to new Nas...\n",
      "directory_prefix back to nas 8\n",
      "briefly switching directory_prefix to new Nas...\n",
      "directory_prefix back to nas 8\n",
      "briefly switching directory_prefix to new Nas...\n",
      "directory_prefix back to nas 8\n",
      "briefly switching directory_prefix to new Nas...\n",
      "directory_prefix back to nas 8\n",
      "briefly switching directory_prefix to new Nas...\n",
      "directory_prefix back to nas 8\n",
      "briefly switching directory_prefix to new Nas...\n",
      "directory_prefix back to nas 8\n",
      "briefly switching directory_prefix to new Nas...\n",
      "directory_prefix back to nas 8\n",
      "briefly switching directory_prefix to new Nas...\n",
      "directory_prefix back to nas 8\n",
      "briefly switching directory_prefix to new Nas...\n",
      "directory_prefix back to nas 8\n",
      "briefly switching directory_prefix to new Nas...\n",
      "directory_prefix back to nas 8\n",
      "briefly switching directory_prefix to new Nas...\n",
      "directory_prefix back to nas 8\n"
     ]
    }
   ],
   "source": [
    "vrats.directory_prefix = vrats.phot_directory_prefix\n",
    "vrats.load_tmats()\n",
    "vrats.get_barIDs()\n",
    "vrats.directory_prefix = loadpath"
   ]
  },
  {
   "cell_type": "code",
   "execution_count": 9,
   "metadata": {},
   "outputs": [],
   "source": [
    "dropInds = vrats.df.loc[(vrats.df.rat==\"IM-1272\")&(vrats.df.date==8282020)&(vrats.df.block==1)].index\n",
    "vrats.df.drop(dropInds,axis=0,inplace=True)"
   ]
  },
  {
   "cell_type": "markdown",
   "metadata": {},
   "source": [
    "### optimze gamma to fit DA in each session"
   ]
  },
  {
   "cell_type": "code",
   "execution_count": 7,
   "metadata": {},
   "outputs": [
    {
     "name": "stderr",
     "output_type": "stream",
     "text": [
      "100%|██████████| 70/70 [26:43<00:00, 22.91s/it]   \n"
     ]
    }
   ],
   "source": [
    "vrats.get_optValIterGams()"
   ]
  },
  {
   "cell_type": "markdown",
   "metadata": {},
   "source": [
    "- save plot with optimal gamma values for each session"
   ]
  },
  {
   "cell_type": "code",
   "execution_count": 8,
   "metadata": {},
   "outputs": [],
   "source": [
    "fig = plt.figure()\n",
    "hist = plt.hist(vrats.opt_gams,bins=100)\n",
    "plt.xlabel(\"Optimal gamma\",fontweight=\"bold\",fontsize=\"xx-large\")\n",
    "plt.ylabel(\"Session count\",fontweight=\"bold\",fontsize=\"xx-large\")\n",
    "plt.tight_layout()\n",
    "fig.savefig(vrats.directory_prefix+\"da_optimized_gammas4vIter.pdf\")"
   ]
  },
  {
   "cell_type": "markdown",
   "metadata": {},
   "source": [
    "- create table with gamma for each rat and session"
   ]
  },
  {
   "cell_type": "code",
   "execution_count": 9,
   "metadata": {},
   "outputs": [],
   "source": [
    "gamsByRat = pd.DataFrame(np.array([vrats.opt_gams,vrats.df.loc[vrats.df.session.diff()!=0,\"rat\"],\\\n",
    "                                   vrats.df.loc[vrats.df.session.diff()!=0,\"session\"]]).T,columns=[\"gamma\",\"rat\",\"session\"])\n",
    "gamsByRat.gamma = gamsByRat.gamma.astype(float)\n",
    "pd.pivot_table(data=gamsByRat,values=\"gamma\",index=[\"rat\",\"session\"],aggfunc=\"mean\").to_csv(vrats.directory_prefix+\"da_optimized_gammas4vIter.csv\")\n",
    "pd.pivot_table(data=gamsByRat,values=\"gamma\",index=[\"rat\"],aggfunc=\"mean\").to_csv(vrats.directory_prefix+\"da_optimized_gammas4vIter_byRat.csv\")"
   ]
  },
  {
   "cell_type": "markdown",
   "metadata": {},
   "source": [
    "- plot gamma distributions for each rat"
   ]
  },
  {
   "cell_type": "code",
   "execution_count": 10,
   "metadata": {},
   "outputs": [],
   "source": [
    "fig = plt.figure(figsize=(6,3.7))\n",
    "sns.barplot(x='rat',y='gamma',data=gamsByRat,color='lightgrey',ci=None)\n",
    "sns.stripplot(x='rat',y='gamma',data=gamsByRat,color='k',marker='o',size=6,ls='-',lw=4,edgecolor='darkblue')\n",
    "plt.ylabel(\"DA-optimized \"+r\"$\\gamma$\")\n",
    "plt.xlabel(\"Rat ID\")\n",
    "plt.xticks(rotation=-45)\n",
    "plt.tight_layout()\n",
    "fig.savefig(vrats.directory_prefix+\"da_optimized_gammasByRat4vIter.pdf\")"
   ]
  },
  {
   "cell_type": "markdown",
   "metadata": {},
   "source": [
    "- create dataframe for plots and regression analysis in R"
   ]
  },
  {
   "cell_type": "code",
   "execution_count": 11,
   "metadata": {},
   "outputs": [
    {
     "data": {
      "text/html": [
       "<div>\n",
       "<style scoped>\n",
       "    .dataframe tbody tr th:only-of-type {\n",
       "        vertical-align: middle;\n",
       "    }\n",
       "\n",
       "    .dataframe tbody tr th {\n",
       "        vertical-align: top;\n",
       "    }\n",
       "\n",
       "    .dataframe thead th {\n",
       "        text-align: right;\n",
       "    }\n",
       "</style>\n",
       "<table border=\"1\" class=\"dataframe\">\n",
       "  <thead>\n",
       "    <tr style=\"text-align: right;\">\n",
       "      <th></th>\n",
       "      <th>DA</th>\n",
       "      <th>vel</th>\n",
       "      <th>pairedHexState</th>\n",
       "      <th>tri</th>\n",
       "      <th>trial</th>\n",
       "      <th>block</th>\n",
       "      <th>session</th>\n",
       "      <th>Value</th>\n",
       "      <th>rat</th>\n",
       "    </tr>\n",
       "  </thead>\n",
       "  <tbody>\n",
       "    <tr>\n",
       "      <th>243431</th>\n",
       "      <td>-0.037964</td>\n",
       "      <td>63.78125</td>\n",
       "      <td>78</td>\n",
       "      <td>1</td>\n",
       "      <td>195</td>\n",
       "      <td>4</td>\n",
       "      <td>105</td>\n",
       "      <td>0.0</td>\n",
       "      <td>IM-1532</td>\n",
       "    </tr>\n",
       "    <tr>\n",
       "      <th>243432</th>\n",
       "      <td>0.330322</td>\n",
       "      <td>67.37500</td>\n",
       "      <td>95</td>\n",
       "      <td>1</td>\n",
       "      <td>195</td>\n",
       "      <td>4</td>\n",
       "      <td>105</td>\n",
       "      <td>0.0</td>\n",
       "      <td>IM-1532</td>\n",
       "    </tr>\n",
       "    <tr>\n",
       "      <th>243433</th>\n",
       "      <td>0.051514</td>\n",
       "      <td>74.43750</td>\n",
       "      <td>109</td>\n",
       "      <td>1</td>\n",
       "      <td>195</td>\n",
       "      <td>4</td>\n",
       "      <td>105</td>\n",
       "      <td>0.0</td>\n",
       "      <td>IM-1532</td>\n",
       "    </tr>\n",
       "    <tr>\n",
       "      <th>243434</th>\n",
       "      <td>0.273193</td>\n",
       "      <td>83.56250</td>\n",
       "      <td>119</td>\n",
       "      <td>1</td>\n",
       "      <td>195</td>\n",
       "      <td>4</td>\n",
       "      <td>105</td>\n",
       "      <td>0.0</td>\n",
       "      <td>IM-1532</td>\n",
       "    </tr>\n",
       "    <tr>\n",
       "      <th>243435</th>\n",
       "      <td>-0.356934</td>\n",
       "      <td>35.87500</td>\n",
       "      <td>123</td>\n",
       "      <td>1</td>\n",
       "      <td>195</td>\n",
       "      <td>4</td>\n",
       "      <td>105</td>\n",
       "      <td>0.0</td>\n",
       "      <td>IM-1532</td>\n",
       "    </tr>\n",
       "  </tbody>\n",
       "</table>\n",
       "</div>"
      ],
      "text/plain": [
       "              DA       vel  pairedHexState  tri  trial  block  session  Value  \\\n",
       "243431 -0.037964  63.78125              78    1    195      4      105    0.0   \n",
       "243432  0.330322  67.37500              95    1    195      4      105    0.0   \n",
       "243433  0.051514  74.43750             109    1    195      4      105    0.0   \n",
       "243434  0.273193  83.56250             119    1    195      4      105    0.0   \n",
       "243435 -0.356934  35.87500             123    1    195      4      105    0.0   \n",
       "\n",
       "            rat  \n",
       "243431  IM-1532  \n",
       "243432  IM-1532  \n",
       "243433  IM-1532  \n",
       "243434  IM-1532  \n",
       "243435  IM-1532  "
      ]
     },
     "execution_count": 11,
     "metadata": {},
     "output_type": "execute_result"
    }
   ],
   "source": [
    "add_withinBlockTriNumberToDf(vrats)\n",
    "vrats.create_optValDf()\n",
    "vrats.valDaDf.loc[vrats.valDaDf.notnull().all(axis=1),].to_csv(vrats.directory_prefix+\"valDaDf.csv\")\n",
    "vrats.valDaDf.tail()"
   ]
  },
  {
   "cell_type": "markdown",
   "metadata": {},
   "source": [
    "## visualize regression results"
   ]
  },
  {
   "cell_type": "markdown",
   "metadata": {},
   "source": [
    "- load and plot regression results"
   ]
  },
  {
   "cell_type": "code",
   "execution_count": 14,
   "metadata": {},
   "outputs": [],
   "source": [
    "valRegSum = pd.read_csv(vrats.directory_prefix+\"valDASum.csv\")\n",
    "valRegCoefs = pd.read_csv(vrats.directory_prefix+\"valDACoefsByRat.csv\")"
   ]
  },
  {
   "cell_type": "code",
   "execution_count": 20,
   "metadata": {},
   "outputs": [
    {
     "name": "stdout",
     "output_type": "stream",
     "text": [
      "p-value =  0.998046875\n"
     ]
    }
   ],
   "source": [
    "fig = plt.figure(figsize=(3.7,4))\n",
    "xvals = [\"Value\",\"Velocity\"]\n",
    "plt.bar([0,1],valRegSum.loc[1:2,\"Estimate\"].values,alpha=0.5,color='grey')\n",
    "sns.stripplot(data=valRegCoefs.loc[:,[\"Value\",\"vel_scaled\"]],color='k',size=10,marker='D',alpha=1)\n",
    "plt.xticks([0,1],xvals)\n",
    "plotRegSigLevel(valRegSum,0,.85,1)\n",
    "plotRegSigLevel(valRegSum,1,.85,2)\n",
    "sigPaired = get_sigRatsPaired_from2samples(valRegCoefs.loc[:,\"Value\"].values,valRegCoefs.loc[:,\"vel_scaled\"].values,\"greater\")\n",
    "plt.ylabel(\"DA Regression \"+r\"$\\beta $\",fontsize='xx-large')\n",
    "plt.tight_layout()\n",
    "fig.savefig(vrats.directory_prefix+\"coefBarPlotValVsVel.pdf\")"
   ]
  },
  {
   "cell_type": "code",
   "execution_count": 29,
   "metadata": {},
   "outputs": [],
   "source": [
    "fig = plt.figure(figsize=(3.7,6))\n",
    "xvals = [\"Value\"]\n",
    "plt.bar([0,1],valRegSum.loc[1,\"Estimate\"],alpha=0.5,color='grey')\n",
    "sns.stripplot(data=valRegCoefs.loc[:,[\"Value\"]],color='k',size=10,marker='D',alpha=1)\n",
    "plt.xticks([0],xvals)\n",
    "plotRegSigLevel(valRegSum,0,.85,1)\n",
    "plt.ylim(-1.5,1.5)\n",
    "plt.ylabel(\"DA Regression \"+r\"$\\beta $\",fontsize='xx-large')\n",
    "plt.axhline(y=0,ls='--',color='k',lw=2)\n",
    "plt.tight_layout()\n",
    "fig.savefig(vrats.directory_prefix+\"coefBarPlotVal.pdf\")"
   ]
  },
  {
   "cell_type": "markdown",
   "metadata": {},
   "source": [
    "- load and plot partial r2"
   ]
  },
  {
   "cell_type": "code",
   "execution_count": 18,
   "metadata": {},
   "outputs": [],
   "source": [
    "partialR2 = pd.read_csv(vrats.directory_prefix+\"valDaPartialR2s.csv\")"
   ]
  },
  {
   "cell_type": "code",
   "execution_count": 30,
   "metadata": {},
   "outputs": [],
   "source": [
    "fig = plt.figure(figsize=(4,6))\n",
    "#plt.bar([0,1],[4.67089,0.82169],color='darkgreen')\n",
    "plt.bar([0,1],partialR2.values[0,1:]*100,color='k')\n",
    "plt.xticks([0,1],[\"Value\",\"Velocity\"])\n",
    "plt.ylabel(\"Coefficient of partial determination (%)\")\n",
    "plt.tight_layout()\n",
    "fig.savefig(vrats.directory_prefix+\"partialR2ValVsVel.pdf\")"
   ]
  }
 ],
 "metadata": {
  "kernelspec": {
   "display_name": "Python 3",
   "language": "python",
   "name": "python3"
  },
  "language_info": {
   "codemirror_mode": {
    "name": "ipython",
    "version": 3
   },
   "file_extension": ".py",
   "mimetype": "text/x-python",
   "name": "python",
   "nbconvert_exporter": "python",
   "pygments_lexer": "ipython3",
   "version": "3.8.8"
  }
 },
 "nbformat": 4,
 "nbformat_minor": 4
}
