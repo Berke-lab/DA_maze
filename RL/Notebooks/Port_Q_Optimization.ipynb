{
 "cells": [
  {
   "cell_type": "code",
   "execution_count": 1,
   "id": "88c30157",
   "metadata": {},
   "outputs": [],
   "source": [
    "using CSV\n",
    "using PyPlot\n",
    "using DataFrames\n",
    "using SpecialFunctions:erf\n",
    "using StatsFuns:logsumexp,logistic"
   ]
  },
  {
   "cell_type": "code",
   "execution_count": null,
   "id": "b6efad38-3dde-424e-a3a9-a41b28a43dd3",
   "metadata": {},
   "outputs": [],
   "source": [
    "# load the EM library\n",
    "\n",
    "full = false    # Maintain full covariance matrix (vs a diagional one) at the group level\n",
    "emtol = 1e-2    # stopping condition (relative change) for EM\n",
    "\n",
    "em_directory = \"\" #directory where EM functions are stored, from Daw lab.\n",
    "\n",
    "push!(LOAD_PATH,em_directory)\n",
    "using EM\n",
    "\n",
    "#load the likelihood functions\n",
    "lik_directory = \"\" #directory where likelihood functions are stored, from modules folder.\n",
    "\n",
    "push!(LOAD_PATH,lik_directory)\n",
    "using likFuncs"
   ]
  },
  {
   "cell_type": "code",
   "execution_count": 3,
   "id": "8a730fc9",
   "metadata": {
    "collapsed": true,
    "jupyter": {
     "outputs_hidden": true
    },
    "tags": []
   },
   "outputs": [
    {
     "data": {
      "text/html": [
       "<div class=\"data-frame\"><p>16,005 rows × 22 columns (omitted printing of 13 columns)</p><table class=\"data-frame\"><thead><tr><th></th><th>Column1</th><th>port</th><th>rwd</th><th>nom_rwd_a</th><th>nom_rwd_b</th><th>tri</th><th>block</th><th>nom_rwd_c</th><th>lenAC</th></tr><tr><th></th><th title=\"Int64\">Int64</th><th title=\"Int8\">Int8</th><th title=\"Float64\">Float64</th><th title=\"Float64\">Float64</th><th title=\"Float64\">Float64</th><th title=\"Float64\">Float64</th><th title=\"Float64\">Float64</th><th title=\"Float64\">Float64</th><th title=\"Float64\">Float64</th></tr></thead><tbody><tr><th>1</th><td>0</td><td>2</td><td>1.0</td><td>50.0</td><td>10.0</td><td>0.0</td><td>1.0</td><td>90.0</td><td>19.0</td></tr><tr><th>2</th><td>1</td><td>3</td><td>1.0</td><td>50.0</td><td>10.0</td><td>1.0</td><td>1.0</td><td>90.0</td><td>19.0</td></tr><tr><th>3</th><td>2</td><td>2</td><td>0.0</td><td>50.0</td><td>10.0</td><td>2.0</td><td>1.0</td><td>90.0</td><td>19.0</td></tr><tr><th>4</th><td>3</td><td>1</td><td>0.0</td><td>50.0</td><td>10.0</td><td>3.0</td><td>1.0</td><td>90.0</td><td>19.0</td></tr><tr><th>5</th><td>4</td><td>3</td><td>1.0</td><td>50.0</td><td>10.0</td><td>4.0</td><td>1.0</td><td>90.0</td><td>19.0</td></tr><tr><th>6</th><td>5</td><td>2</td><td>0.0</td><td>50.0</td><td>10.0</td><td>5.0</td><td>1.0</td><td>90.0</td><td>19.0</td></tr><tr><th>7</th><td>6</td><td>1</td><td>0.0</td><td>50.0</td><td>10.0</td><td>6.0</td><td>1.0</td><td>90.0</td><td>19.0</td></tr><tr><th>8</th><td>7</td><td>2</td><td>0.0</td><td>50.0</td><td>10.0</td><td>7.0</td><td>1.0</td><td>90.0</td><td>19.0</td></tr><tr><th>9</th><td>8</td><td>3</td><td>0.0</td><td>50.0</td><td>10.0</td><td>8.0</td><td>1.0</td><td>90.0</td><td>19.0</td></tr><tr><th>10</th><td>9</td><td>2</td><td>1.0</td><td>50.0</td><td>10.0</td><td>9.0</td><td>1.0</td><td>90.0</td><td>19.0</td></tr><tr><th>11</th><td>10</td><td>1</td><td>1.0</td><td>50.0</td><td>10.0</td><td>10.0</td><td>1.0</td><td>90.0</td><td>19.0</td></tr><tr><th>12</th><td>11</td><td>2</td><td>1.0</td><td>50.0</td><td>10.0</td><td>11.0</td><td>1.0</td><td>90.0</td><td>19.0</td></tr><tr><th>13</th><td>12</td><td>3</td><td>1.0</td><td>50.0</td><td>10.0</td><td>12.0</td><td>1.0</td><td>90.0</td><td>19.0</td></tr><tr><th>14</th><td>13</td><td>1</td><td>1.0</td><td>50.0</td><td>10.0</td><td>13.0</td><td>1.0</td><td>90.0</td><td>19.0</td></tr><tr><th>15</th><td>14</td><td>2</td><td>0.0</td><td>50.0</td><td>10.0</td><td>14.0</td><td>1.0</td><td>90.0</td><td>19.0</td></tr><tr><th>16</th><td>15</td><td>3</td><td>0.0</td><td>50.0</td><td>10.0</td><td>15.0</td><td>1.0</td><td>90.0</td><td>19.0</td></tr><tr><th>17</th><td>16</td><td>1</td><td>1.0</td><td>50.0</td><td>10.0</td><td>16.0</td><td>1.0</td><td>90.0</td><td>19.0</td></tr><tr><th>18</th><td>17</td><td>3</td><td>1.0</td><td>50.0</td><td>10.0</td><td>17.0</td><td>1.0</td><td>90.0</td><td>19.0</td></tr><tr><th>19</th><td>18</td><td>2</td><td>0.0</td><td>50.0</td><td>10.0</td><td>18.0</td><td>1.0</td><td>90.0</td><td>19.0</td></tr><tr><th>20</th><td>19</td><td>1</td><td>0.0</td><td>50.0</td><td>10.0</td><td>19.0</td><td>1.0</td><td>90.0</td><td>19.0</td></tr><tr><th>21</th><td>20</td><td>2</td><td>0.0</td><td>50.0</td><td>10.0</td><td>20.0</td><td>1.0</td><td>90.0</td><td>19.0</td></tr><tr><th>22</th><td>21</td><td>1</td><td>0.0</td><td>50.0</td><td>10.0</td><td>21.0</td><td>1.0</td><td>90.0</td><td>19.0</td></tr><tr><th>23</th><td>22</td><td>2</td><td>0.0</td><td>50.0</td><td>10.0</td><td>22.0</td><td>1.0</td><td>90.0</td><td>19.0</td></tr><tr><th>24</th><td>23</td><td>3</td><td>1.0</td><td>50.0</td><td>10.0</td><td>23.0</td><td>1.0</td><td>90.0</td><td>19.0</td></tr><tr><th>25</th><td>24</td><td>1</td><td>0.0</td><td>50.0</td><td>10.0</td><td>24.0</td><td>1.0</td><td>90.0</td><td>19.0</td></tr><tr><th>26</th><td>25</td><td>2</td><td>0.0</td><td>50.0</td><td>10.0</td><td>25.0</td><td>1.0</td><td>90.0</td><td>19.0</td></tr><tr><th>27</th><td>26</td><td>1</td><td>1.0</td><td>50.0</td><td>10.0</td><td>26.0</td><td>1.0</td><td>90.0</td><td>19.0</td></tr><tr><th>28</th><td>27</td><td>3</td><td>0.0</td><td>50.0</td><td>10.0</td><td>27.0</td><td>1.0</td><td>90.0</td><td>19.0</td></tr><tr><th>29</th><td>28</td><td>2</td><td>0.0</td><td>50.0</td><td>10.0</td><td>28.0</td><td>1.0</td><td>90.0</td><td>19.0</td></tr><tr><th>30</th><td>29</td><td>3</td><td>1.0</td><td>50.0</td><td>10.0</td><td>29.0</td><td>1.0</td><td>90.0</td><td>19.0</td></tr><tr><th>&vellip;</th><td>&vellip;</td><td>&vellip;</td><td>&vellip;</td><td>&vellip;</td><td>&vellip;</td><td>&vellip;</td><td>&vellip;</td><td>&vellip;</td><td>&vellip;</td></tr></tbody></table></div>"
      ],
      "text/latex": [
       "\\begin{tabular}{r|cccccccccc}\n",
       "\t& Column1 & port & rwd & nom\\_rwd\\_a & nom\\_rwd\\_b & tri & block & nom\\_rwd\\_c & lenAC & \\\\\n",
       "\t\\hline\n",
       "\t& Int64 & Int8 & Float64 & Float64 & Float64 & Float64 & Float64 & Float64 & Float64 & \\\\\n",
       "\t\\hline\n",
       "\t1 & 0 & 2 & 1.0 & 50.0 & 10.0 & 0.0 & 1.0 & 90.0 & 19.0 & $\\dots$ \\\\\n",
       "\t2 & 1 & 3 & 1.0 & 50.0 & 10.0 & 1.0 & 1.0 & 90.0 & 19.0 & $\\dots$ \\\\\n",
       "\t3 & 2 & 2 & 0.0 & 50.0 & 10.0 & 2.0 & 1.0 & 90.0 & 19.0 & $\\dots$ \\\\\n",
       "\t4 & 3 & 1 & 0.0 & 50.0 & 10.0 & 3.0 & 1.0 & 90.0 & 19.0 & $\\dots$ \\\\\n",
       "\t5 & 4 & 3 & 1.0 & 50.0 & 10.0 & 4.0 & 1.0 & 90.0 & 19.0 & $\\dots$ \\\\\n",
       "\t6 & 5 & 2 & 0.0 & 50.0 & 10.0 & 5.0 & 1.0 & 90.0 & 19.0 & $\\dots$ \\\\\n",
       "\t7 & 6 & 1 & 0.0 & 50.0 & 10.0 & 6.0 & 1.0 & 90.0 & 19.0 & $\\dots$ \\\\\n",
       "\t8 & 7 & 2 & 0.0 & 50.0 & 10.0 & 7.0 & 1.0 & 90.0 & 19.0 & $\\dots$ \\\\\n",
       "\t9 & 8 & 3 & 0.0 & 50.0 & 10.0 & 8.0 & 1.0 & 90.0 & 19.0 & $\\dots$ \\\\\n",
       "\t10 & 9 & 2 & 1.0 & 50.0 & 10.0 & 9.0 & 1.0 & 90.0 & 19.0 & $\\dots$ \\\\\n",
       "\t11 & 10 & 1 & 1.0 & 50.0 & 10.0 & 10.0 & 1.0 & 90.0 & 19.0 & $\\dots$ \\\\\n",
       "\t12 & 11 & 2 & 1.0 & 50.0 & 10.0 & 11.0 & 1.0 & 90.0 & 19.0 & $\\dots$ \\\\\n",
       "\t13 & 12 & 3 & 1.0 & 50.0 & 10.0 & 12.0 & 1.0 & 90.0 & 19.0 & $\\dots$ \\\\\n",
       "\t14 & 13 & 1 & 1.0 & 50.0 & 10.0 & 13.0 & 1.0 & 90.0 & 19.0 & $\\dots$ \\\\\n",
       "\t15 & 14 & 2 & 0.0 & 50.0 & 10.0 & 14.0 & 1.0 & 90.0 & 19.0 & $\\dots$ \\\\\n",
       "\t16 & 15 & 3 & 0.0 & 50.0 & 10.0 & 15.0 & 1.0 & 90.0 & 19.0 & $\\dots$ \\\\\n",
       "\t17 & 16 & 1 & 1.0 & 50.0 & 10.0 & 16.0 & 1.0 & 90.0 & 19.0 & $\\dots$ \\\\\n",
       "\t18 & 17 & 3 & 1.0 & 50.0 & 10.0 & 17.0 & 1.0 & 90.0 & 19.0 & $\\dots$ \\\\\n",
       "\t19 & 18 & 2 & 0.0 & 50.0 & 10.0 & 18.0 & 1.0 & 90.0 & 19.0 & $\\dots$ \\\\\n",
       "\t20 & 19 & 1 & 0.0 & 50.0 & 10.0 & 19.0 & 1.0 & 90.0 & 19.0 & $\\dots$ \\\\\n",
       "\t21 & 20 & 2 & 0.0 & 50.0 & 10.0 & 20.0 & 1.0 & 90.0 & 19.0 & $\\dots$ \\\\\n",
       "\t22 & 21 & 1 & 0.0 & 50.0 & 10.0 & 21.0 & 1.0 & 90.0 & 19.0 & $\\dots$ \\\\\n",
       "\t23 & 22 & 2 & 0.0 & 50.0 & 10.0 & 22.0 & 1.0 & 90.0 & 19.0 & $\\dots$ \\\\\n",
       "\t24 & 23 & 3 & 1.0 & 50.0 & 10.0 & 23.0 & 1.0 & 90.0 & 19.0 & $\\dots$ \\\\\n",
       "\t25 & 24 & 1 & 0.0 & 50.0 & 10.0 & 24.0 & 1.0 & 90.0 & 19.0 & $\\dots$ \\\\\n",
       "\t26 & 25 & 2 & 0.0 & 50.0 & 10.0 & 25.0 & 1.0 & 90.0 & 19.0 & $\\dots$ \\\\\n",
       "\t27 & 26 & 1 & 1.0 & 50.0 & 10.0 & 26.0 & 1.0 & 90.0 & 19.0 & $\\dots$ \\\\\n",
       "\t28 & 27 & 3 & 0.0 & 50.0 & 10.0 & 27.0 & 1.0 & 90.0 & 19.0 & $\\dots$ \\\\\n",
       "\t29 & 28 & 2 & 0.0 & 50.0 & 10.0 & 28.0 & 1.0 & 90.0 & 19.0 & $\\dots$ \\\\\n",
       "\t30 & 29 & 3 & 1.0 & 50.0 & 10.0 & 29.0 & 1.0 & 90.0 & 19.0 & $\\dots$ \\\\\n",
       "\t$\\dots$ & $\\dots$ & $\\dots$ & $\\dots$ & $\\dots$ & $\\dots$ & $\\dots$ & $\\dots$ & $\\dots$ & $\\dots$ &  \\\\\n",
       "\\end{tabular}\n"
      ],
      "text/plain": [
       "\u001b[1m16005×22 DataFrame\u001b[0m\n",
       "\u001b[1m   Row \u001b[0m│\u001b[1m Column1 \u001b[0m\u001b[1m port \u001b[0m\u001b[1m rwd     \u001b[0m\u001b[1m nom_rwd_a \u001b[0m\u001b[1m nom_rwd_b \u001b[0m\u001b[1m tri     \u001b[0m\u001b[1m block   \u001b[0m\u001b[1m nom_r\u001b[0m ⋯\n",
       "\u001b[1m       \u001b[0m│\u001b[90m Int64   \u001b[0m\u001b[90m Int8 \u001b[0m\u001b[90m Float64 \u001b[0m\u001b[90m Float64   \u001b[0m\u001b[90m Float64   \u001b[0m\u001b[90m Float64 \u001b[0m\u001b[90m Float64 \u001b[0m\u001b[90m Float\u001b[0m ⋯\n",
       "───────┼────────────────────────────────────────────────────────────────────────\n",
       "     1 │       0     2      1.0       50.0       10.0      0.0      1.0        ⋯\n",
       "     2 │       1     3      1.0       50.0       10.0      1.0      1.0\n",
       "     3 │       2     2      0.0       50.0       10.0      2.0      1.0\n",
       "     4 │       3     1      0.0       50.0       10.0      3.0      1.0\n",
       "     5 │       4     3      1.0       50.0       10.0      4.0      1.0        ⋯\n",
       "     6 │       5     2      0.0       50.0       10.0      5.0      1.0\n",
       "     7 │       6     1      0.0       50.0       10.0      6.0      1.0\n",
       "     8 │       7     2      0.0       50.0       10.0      7.0      1.0\n",
       "     9 │       8     3      0.0       50.0       10.0      8.0      1.0        ⋯\n",
       "    10 │       9     2      1.0       50.0       10.0      9.0      1.0\n",
       "    11 │      10     1      1.0       50.0       10.0     10.0      1.0\n",
       "   ⋮   │    ⋮      ⋮       ⋮         ⋮          ⋮         ⋮        ⋮         ⋮ ⋱\n",
       " 15996 │   15995     2      0.0       90.0       50.0     54.0      3.0\n",
       " 15997 │   15996     3      0.0       90.0       50.0     55.0      3.0        ⋯\n",
       " 15998 │   15997     2      1.0       90.0       50.0     56.0      3.0\n",
       " 15999 │   15998     3      0.0       90.0       50.0     57.0      3.0\n",
       " 16000 │   15999     2      1.0       90.0       50.0     58.0      3.0\n",
       " 16001 │   16000     1      1.0       90.0       50.0     59.0      3.0        ⋯\n",
       " 16002 │   16001     3      0.0       90.0       50.0     60.0      3.0\n",
       " 16003 │   16002     2      0.0       90.0       50.0     61.0      3.0\n",
       " 16004 │   16003     1      0.0       90.0       50.0     62.0      3.0\n",
       " 16005 │   16004     2      0.0       50.0       10.0      0.0      4.0        ⋯\n",
       "\u001b[36m                                               15 columns and 15984 rows omitted\u001b[0m"
      ]
     },
     "execution_count": 3,
     "metadata": {},
     "output_type": "execute_result"
    }
   ],
   "source": [
    "# load the data\n",
    "\n",
    "#insert df path into function\n",
    "df = CSV.read(\"triframe.csv\", DataFrame);\n",
    "\n",
    "#df.sub = df.session\n",
    "#subs = unique(df.session) # to cluster at the session level\n",
    "#NS = length(subs)\n",
    "df.sub = df.rat\n",
    "subs = unique(df.rat)\n",
    "NS = length(subs)\n",
    "\n",
    "df.port = df.port .+ 1\n",
    "df.port = convert.(Int8,df[!,:port])\n",
    "df.currentport = Int64.([0; df.port[1:end-1]]) \n",
    "df.lrchoice = df.lrchoice .+ 1\n",
    "df"
   ]
  },
  {
   "cell_type": "markdown",
   "id": "3a3b224e",
   "metadata": {},
   "source": [
    "# Port Q learner optimization"
   ]
  },
  {
   "cell_type": "code",
   "execution_count": 7,
   "id": "69c0477f",
   "metadata": {
    "tags": []
   },
   "outputs": [
    {
     "name": "stdout",
     "output_type": "stream",
     "text": [
      "\n",
      "iter: 80\n",
      "betas: [1.53 -1.44 -0.18 -0.22]\n",
      "sigma: [0.51 -0.3 -0.01 -0.02; -0.3 0.22 -0.03 0.02; -0.01 -0.03 0.04 -0.01; -0.02 0.02 -0.01 0.0]\n",
      "free energy: -9221.486207\n",
      "change: [0.000172, -4.7e-5, -2.0e-5, -2.0e-6, 0.000978, -0.000651, -0.000696, -0.000458, 0.00025, -7.0e-5, 0.000148, 1.6e-5, -3.8e-5, 1.5e-5]\n",
      "max: 0.000978\n",
      "749.574049 seconds (10.06 G allocations: 746.791 GiB, 14.03% gc time, 0.80% compilation time)\n",
      "model qlik 3 port, aggregate log marginal likelihood: 9186.834345169731\n"
     ]
    },
    {
     "data": {
      "text/html": [
       "<div class=\"data-frame\"><p>10 rows × 4 columns</p><table class=\"data-frame\"><thead><tr><th></th><th>beta</th><th>alpha</th><th>ccwBias</th><th>dist_bias</th></tr><tr><th></th><th title=\"Float64\">Float64</th><th title=\"Float64\">Float64</th><th title=\"Float64\">Float64</th><th title=\"Float64\">Float64</th></tr></thead><tbody><tr><th>1</th><td>2.75739</td><td>0.0134133</td><td>-0.184902</td><td>-0.272958</td></tr><tr><th>2</th><td>2.54216</td><td>0.0324303</td><td>-0.422433</td><td>-0.217442</td></tr><tr><th>3</th><td>1.27591</td><td>0.0865239</td><td>-0.104254</td><td>-0.226532</td></tr><tr><th>4</th><td>0.589599</td><td>0.26513</td><td>-0.371423</td><td>-0.166685</td></tr><tr><th>5</th><td>1.39343</td><td>0.0850419</td><td>-0.224862</td><td>-0.176956</td></tr><tr><th>6</th><td>1.65382</td><td>0.0421338</td><td>0.111805</td><td>-0.321699</td></tr><tr><th>7</th><td>1.72843</td><td>0.0302564</td><td>0.0924233</td><td>-0.265701</td></tr><tr><th>8</th><td>1.62607</td><td>0.112733</td><td>-0.421039</td><td>-0.205079</td></tr><tr><th>9</th><td>1.03866</td><td>0.130566</td><td>-0.263752</td><td>-0.155836</td></tr><tr><th>10</th><td>0.645986</td><td>0.147959</td><td>-0.0412668</td><td>-0.20733</td></tr></tbody></table></div>"
      ],
      "text/latex": [
       "\\begin{tabular}{r|cccc}\n",
       "\t& beta & alpha & ccwBias & dist\\_bias\\\\\n",
       "\t\\hline\n",
       "\t& Float64 & Float64 & Float64 & Float64\\\\\n",
       "\t\\hline\n",
       "\t1 & 2.75739 & 0.0134133 & -0.184902 & -0.272958 \\\\\n",
       "\t2 & 2.54216 & 0.0324303 & -0.422433 & -0.217442 \\\\\n",
       "\t3 & 1.27591 & 0.0865239 & -0.104254 & -0.226532 \\\\\n",
       "\t4 & 0.589599 & 0.26513 & -0.371423 & -0.166685 \\\\\n",
       "\t5 & 1.39343 & 0.0850419 & -0.224862 & -0.176956 \\\\\n",
       "\t6 & 1.65382 & 0.0421338 & 0.111805 & -0.321699 \\\\\n",
       "\t7 & 1.72843 & 0.0302564 & 0.0924233 & -0.265701 \\\\\n",
       "\t8 & 1.62607 & 0.112733 & -0.421039 & -0.205079 \\\\\n",
       "\t9 & 1.03866 & 0.130566 & -0.263752 & -0.155836 \\\\\n",
       "\t10 & 0.645986 & 0.147959 & -0.0412668 & -0.20733 \\\\\n",
       "\\end{tabular}\n"
      ],
      "text/plain": [
       "\u001b[1m10×4 DataFrame\u001b[0m\n",
       "\u001b[1m Row \u001b[0m│\u001b[1m beta     \u001b[0m\u001b[1m alpha     \u001b[0m\u001b[1m ccwBias    \u001b[0m\u001b[1m dist_bias \u001b[0m\n",
       "\u001b[1m     \u001b[0m│\u001b[90m Float64  \u001b[0m\u001b[90m Float64   \u001b[0m\u001b[90m Float64    \u001b[0m\u001b[90m Float64   \u001b[0m\n",
       "─────┼────────────────────────────────────────────\n",
       "   1 │ 2.75739   0.0134133  -0.184902   -0.272958\n",
       "   2 │ 2.54216   0.0324303  -0.422433   -0.217442\n",
       "   3 │ 1.27591   0.0865239  -0.104254   -0.226532\n",
       "   4 │ 0.589599  0.26513    -0.371423   -0.166685\n",
       "   5 │ 1.39343   0.0850419  -0.224862   -0.176956\n",
       "   6 │ 1.65382   0.0421338   0.111805   -0.321699\n",
       "   7 │ 1.72843   0.0302564   0.0924233  -0.265701\n",
       "   8 │ 1.62607   0.112733   -0.421039   -0.205079\n",
       "   9 │ 1.03866   0.130566   -0.263752   -0.155836\n",
       "  10 │ 0.645986  0.147959   -0.0412668  -0.20733"
      ]
     },
     "execution_count": 7,
     "metadata": {},
     "output_type": "execute_result"
    }
   ],
   "source": [
    "df.sub = df.rat\n",
    "subs = unique(df.rat) # clustering on sessiosn right now\n",
    "NS = length(subs)\n",
    "X = ones(NS)\n",
    "\n",
    "betas = [0. 0 0 0];\n",
    "sigma = [1.,1,1.,1];\n",
    "@time (betasa,sigmaa,xa,la,ha) = em(df,subs,X,betas,sigma,qlik3port; maxiter=2000,emtol=1e-3, full=true);\n",
    "\n",
    "println(\"model qlik 3 port, aggregate log marginal likelihood: \",lml(xa,la,ha))\n",
    "q3portparams = DataFrame(xa,:auto)\n",
    "q3portparams = rename(q3portparams,:x1=>:beta,:x2=>:alpha,:x3=>:ccwBias,:x4=>:dist_bias)\n",
    "q3portparams[!,:alpha] = 0.5 .+ 0.5 .* erf.(q3portparams[!,:alpha]/sqrt(2))\n",
    "CSV.write(loadpath*\"tri_q3port_params.csv\",q3portparams)\n",
    "q3portparams"
   ]
  },
  {
   "cell_type": "markdown",
   "id": "4c583c34",
   "metadata": {},
   "source": [
    "# Hybrid model optimization"
   ]
  },
  {
   "cell_type": "code",
   "execution_count": 8,
   "id": "eaf9ccfd",
   "metadata": {},
   "outputs": [
    {
     "name": "stdout",
     "output_type": "stream",
     "text": [
      "\n",
      "iter: 46\n",
      "betas: [1.4 -1.45 -1.34 0.17 -0.21]\n",
      "sigma: [0.36 -0.13 -0.42 0.01 -0.01; -0.13 0.15 0.15 0.05 0.02; -0.42 0.15 0.52 -0.02 0.01; 0.01 0.05 -0.02 0.03 0.01; -0.01 0.02 0.01 0.01 0.0]\n",
      "free energy: -9317.374832\n",
      "change: [1.2e-5, -1.1e-5, -9.1e-5, 2.0e-5, -8.0e-6, 0.000359, -0.000125, -0.000168, 0.000724, -0.000288, 7.3e-5, 0.000725, 0.000691, 0.000808, 0.000161, -0.001, 0.000427, 1.0e-5, 3.9e-5, 5.6e-5]\n",
      "max: 0.001\n",
      "367.894470 seconds (6.50 G allocations: 635.620 GiB, 27.89% gc time, 0.25% compilation time)\n",
      "model qlik hybrid, aggregate log marginal likelihood: 9282.330766018516\n"
     ]
    },
    {
     "data": {
      "text/html": [
       "<div class=\"data-frame\"><p>10 rows × 5 columns</p><table class=\"data-frame\"><thead><tr><th></th><th>beta</th><th>lrmf</th><th>lrmb</th><th>ccwBias</th><th>bdist</th></tr><tr><th></th><th title=\"Float64\">Float64</th><th title=\"Float64\">Float64</th><th title=\"Float64\">Float64</th><th title=\"Float64\">Float64</th><th title=\"Float64\">Float64</th></tr></thead><tbody><tr><th>1</th><td>2.73954</td><td>0.0259815</td><td>0.00158738</td><td>0.202778</td><td>-0.256058</td></tr><tr><th>2</th><td>1.72726</td><td>0.0908449</td><td>0.0417556</td><td>0.326662</td><td>-0.198691</td></tr><tr><th>3</th><td>1.34247</td><td>0.0619876</td><td>0.0976946</td><td>0.10487</td><td>-0.216905</td></tr><tr><th>4</th><td>0.577919</td><td>0.221628</td><td>0.370405</td><td>0.360945</td><td>-0.154487</td></tr><tr><th>5</th><td>1.35113</td><td>0.0902732</td><td>0.0810844</td><td>0.208459</td><td>-0.165415</td></tr><tr><th>6</th><td>1.24824</td><td>0.0309009</td><td>0.166294</td><td>-0.108722</td><td>-0.305598</td></tr><tr><th>7</th><td>1.5195</td><td>0.0238876</td><td>0.0693425</td><td>-0.0939253</td><td>-0.266176</td></tr><tr><th>8</th><td>1.65516</td><td>0.132151</td><td>0.0572829</td><td>0.416976</td><td>-0.193925</td></tr><tr><th>9</th><td>1.08695</td><td>0.122339</td><td>0.124939</td><td>0.262102</td><td>-0.135358</td></tr><tr><th>10</th><td>0.727534</td><td>0.0746126</td><td>0.286481</td><td>0.0259464</td><td>-0.205288</td></tr></tbody></table></div>"
      ],
      "text/latex": [
       "\\begin{tabular}{r|ccccc}\n",
       "\t& beta & lrmf & lrmb & ccwBias & bdist\\\\\n",
       "\t\\hline\n",
       "\t& Float64 & Float64 & Float64 & Float64 & Float64\\\\\n",
       "\t\\hline\n",
       "\t1 & 2.73954 & 0.0259815 & 0.00158738 & 0.202778 & -0.256058 \\\\\n",
       "\t2 & 1.72726 & 0.0908449 & 0.0417556 & 0.326662 & -0.198691 \\\\\n",
       "\t3 & 1.34247 & 0.0619876 & 0.0976946 & 0.10487 & -0.216905 \\\\\n",
       "\t4 & 0.577919 & 0.221628 & 0.370405 & 0.360945 & -0.154487 \\\\\n",
       "\t5 & 1.35113 & 0.0902732 & 0.0810844 & 0.208459 & -0.165415 \\\\\n",
       "\t6 & 1.24824 & 0.0309009 & 0.166294 & -0.108722 & -0.305598 \\\\\n",
       "\t7 & 1.5195 & 0.0238876 & 0.0693425 & -0.0939253 & -0.266176 \\\\\n",
       "\t8 & 1.65516 & 0.132151 & 0.0572829 & 0.416976 & -0.193925 \\\\\n",
       "\t9 & 1.08695 & 0.122339 & 0.124939 & 0.262102 & -0.135358 \\\\\n",
       "\t10 & 0.727534 & 0.0746126 & 0.286481 & 0.0259464 & -0.205288 \\\\\n",
       "\\end{tabular}\n"
      ],
      "text/plain": [
       "\u001b[1m10×5 DataFrame\u001b[0m\n",
       "\u001b[1m Row \u001b[0m│\u001b[1m beta     \u001b[0m\u001b[1m lrmf      \u001b[0m\u001b[1m lrmb       \u001b[0m\u001b[1m ccwBias    \u001b[0m\u001b[1m bdist     \u001b[0m\n",
       "\u001b[1m     \u001b[0m│\u001b[90m Float64  \u001b[0m\u001b[90m Float64   \u001b[0m\u001b[90m Float64    \u001b[0m\u001b[90m Float64    \u001b[0m\u001b[90m Float64   \u001b[0m\n",
       "─────┼────────────────────────────────────────────────────────\n",
       "   1 │ 2.73954   0.0259815  0.00158738   0.202778   -0.256058\n",
       "   2 │ 1.72726   0.0908449  0.0417556    0.326662   -0.198691\n",
       "   3 │ 1.34247   0.0619876  0.0976946    0.10487    -0.216905\n",
       "   4 │ 0.577919  0.221628   0.370405     0.360945   -0.154487\n",
       "   5 │ 1.35113   0.0902732  0.0810844    0.208459   -0.165415\n",
       "   6 │ 1.24824   0.0309009  0.166294    -0.108722   -0.305598\n",
       "   7 │ 1.5195    0.0238876  0.0693425   -0.0939253  -0.266176\n",
       "   8 │ 1.65516   0.132151   0.0572829    0.416976   -0.193925\n",
       "   9 │ 1.08695   0.122339   0.124939     0.262102   -0.135358\n",
       "  10 │ 0.727534  0.0746126  0.286481     0.0259464  -0.205288"
      ]
     },
     "execution_count": 8,
     "metadata": {},
     "output_type": "execute_result"
    }
   ],
   "source": [
    "df.sub = df.rat\n",
    "subs = unique(df.rat) # clustering on sessiosn right now\n",
    "NS = length(subs)\n",
    "X = ones(NS)\n",
    "\n",
    "betas = [0. 0. 0. 0. 0.];\n",
    "sigma = [1.,1.,1.,1.,1.];\n",
    "@time (betas,sigma,x,l,h) = em(df,subs,X,betas,sigma,qlikh; maxiter=2000,emtol=1e-3, full=true);\n",
    "\n",
    "println(\"model qlik hybrid, aggregate log marginal likelihood: \",lml(x,l,h))\n",
    "hyb_params = DataFrame(x,:auto)\n",
    "hyb_params = rename(hyb_params,:x1=>:beta,:x2=>:lrmf,:x3=>:lrmb,:x4=>:ccwBias,:x5=>:bdist)#,:x6=>:retBias)\n",
    "hyb_params[!,:lrmf] = 0.5 .+ 0.5 .* erf.(hyb_params[!,:lrmf]/sqrt(2))\n",
    "hyb_params[!,:lrmb] = 0.5 .+ 0.5 .* erf.(hyb_params[!,:lrmb]/sqrt(2))\n",
    "CSV.write(loadpath*\"tri_hybrid_params.csv\",hyb_params)\n",
    "hyb_params"
   ]
  }
 ],
 "metadata": {
  "kernelspec": {
   "display_name": "Julia 1.6.3",
   "language": "julia",
   "name": "julia-1.6"
  },
  "language_info": {
   "file_extension": ".jl",
   "mimetype": "application/julia",
   "name": "julia",
   "version": "1.6.3"
  }
 },
 "nbformat": 4,
 "nbformat_minor": 5
}
