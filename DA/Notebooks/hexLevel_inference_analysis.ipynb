{
 "cells": [
  {
   "cell_type": "code",
   "execution_count": null,
   "id": "c03164f5-f4c4-4dfa-a90c-43ca8358c3af",
   "metadata": {},
   "outputs": [],
   "source": [
    "import sys\n",
    "sys.path.insert(0, '/Users/timkrausz/Documents/GitHub/DA_maze_paper/DA/Modules/')"
   ]
  },
  {
   "cell_type": "code",
   "execution_count": 1,
   "id": "1dd1514a-9a40-4284-ad65-11abc3f8af86",
   "metadata": {},
   "outputs": [],
   "source": [
    "import numpy as np\n",
    "import matplotlib.pyplot as plt\n",
    "import pandas as pd\n",
    "import seaborn as sns\n",
    "sns.set()\n",
    "plt.style.use('default')\n",
    "plt.style.use(\"seaborn-poster\")\n",
    "from multi_rat_da import *\n",
    "from hexLevelAnalyses import *\n",
    "from photometryQuantifications import *\n",
    "import ipywidgets as widgets\n",
    "from ipywidgets import interact, interactive, fixed, interact_manual\n",
    "%matplotlib qt"
   ]
  },
  {
   "cell_type": "code",
   "execution_count": 2,
   "id": "02c3c89f-f5f9-40f2-897c-13acf2bd5571",
   "metadata": {},
   "outputs": [
    {
     "name": "stdout",
     "output_type": "stream",
     "text": [
      "Memory usage of dataframe is 54.99 MB\n",
      "Memory usage after optimization is: 12.60 MB\n",
      "Decreased by 77.1%\n"
     ]
    }
   ],
   "source": [
    "hexData = PhotRats(None)\n",
    "# the directory containing your dataframe\n",
    "loadpath = \"/Volumes/Tim/Photometry/10MfRatDataSet/data4sharing/\"\n",
    "datName = \"hexLevelDf\"\n",
    "hexData.df = reduce_mem_usage(pd.read_csv(loadpath+datName+\".csv\",index_col=[0]))\n",
    "hexData.directory_prefix = loadpath"
   ]
  },
  {
   "cell_type": "code",
   "execution_count": 3,
   "id": "740ea169-e0ab-4d69-86c1-ac4fc27be35d",
   "metadata": {},
   "outputs": [],
   "source": [
    "hexData.df = hexData.df.loc[(hexData.df.rat!=\"IM-1292\"),]\n",
    "seshsToRemove = [90, 92, 94]\n",
    "hexData.df = hexData.df.loc[~(hexData.df.session.isin(seshsToRemove)),]\n",
    "hexData.df.reset_index(inplace=True)"
   ]
  },
  {
   "cell_type": "markdown",
   "id": "ae64a3b7-c25b-4530-838f-dc97af8c0835",
   "metadata": {},
   "source": [
    "## run all processing steps to organize data and compute relevant variables"
   ]
  },
  {
   "cell_type": "code",
   "execution_count": 10,
   "id": "1f8ad539-c405-4c8f-b188-15b46349b6f6",
   "metadata": {},
   "outputs": [],
   "source": [
    "create_tridf(hexData)\n",
    "\n",
    "get_portHist(hexData)\n",
    "\n",
    "get_back2samePortTrials(hexData)\n",
    "\n",
    "add_rewardLagColumns2Df(hexData,lags=5)\n",
    "\n",
    "add_pathSpecificRwdLagColumns2Df(hexData,lags=5)\n",
    "\n",
    "add_pathSimilarity2df(hexData)\n",
    "\n",
    "hexData.triframe = hexData.tridf\n",
    "\n",
    "add_prevRwdTakenAndAlt(hexData)\n",
    "\n",
    "add_altPathSpecificRwdLagColumns2Df(hexData,lags=1)"
   ]
  },
  {
   "cell_type": "markdown",
   "id": "fac1946d-1915-438b-ae87-a052c1987860",
   "metadata": {},
   "source": [
    "### create dataframe to test difference between same-path and alternative-path DA"
   ]
  },
  {
   "cell_type": "code",
   "execution_count": 12,
   "id": "a316a1c9-fb9e-4a73-b727-779e41807a6b",
   "metadata": {},
   "outputs": [],
   "source": [
    "ratSameValtPreCpDA = create_sameValtPreCpDARatMeans(hexData)\n",
    "\n",
    "sameVals = [ratSameValtPreCpDA[rat]['DARwdVsOmSame'] for rat in ratSameValtPreCpDA.keys()]\n",
    "altVals = [ratSameValtPreCpDA[rat]['DARwdVsOmAlt'] for rat in ratSameValtPreCpDA.keys()]"
   ]
  },
  {
   "cell_type": "markdown",
   "id": "02d7b2d6-2059-4795-bd50-17074c78810c",
   "metadata": {},
   "source": [
    "### check if same-path DA is significantly different from alternative-path DA"
   ]
  },
  {
   "cell_type": "code",
   "execution_count": null,
   "id": "123402e8-97b5-4a32-b19b-83d677920b4c",
   "metadata": {},
   "outputs": [],
   "source": [
    "wilcoxon(sameVals,altVals)"
   ]
  },
  {
   "cell_type": "markdown",
   "id": "fe809125-09f1-4310-b9e6-4dfcad850cc4",
   "metadata": {},
   "source": [
    "### visualize results and print p-values"
   ]
  },
  {
   "cell_type": "code",
   "execution_count": 21,
   "id": "732d3fae-984f-4297-a12f-e346ceb8fe34",
   "metadata": {},
   "outputs": [
    {
     "name": "stdout",
     "output_type": "stream",
     "text": [
      "44.0 0.00390625\n",
      "44.0 0.00390625\n"
     ]
    }
   ],
   "source": [
    "fig = plot_DAdifSameValt(hexData,ratSameValtPreCpDA)"
   ]
  },
  {
   "cell_type": "markdown",
   "id": "d568c1d2-a3cd-472c-92fd-1f1b2a4cc690",
   "metadata": {},
   "source": [
    "### save regression results for analysis in R"
   ]
  },
  {
   "cell_type": "code",
   "execution_count": 24,
   "id": "be0b8973-ce7b-4966-a45b-c03ab1b6e5d5",
   "metadata": {},
   "outputs": [],
   "source": [
    "hexData.df.to_csv(hexData.directory_prefix+\"hexDf_with_PreCp_and_prevRwdAltSame_correctAlignment.csv\")"
   ]
  }
 ],
 "metadata": {
  "kernelspec": {
   "display_name": "Python 3",
   "language": "python",
   "name": "python3"
  },
  "language_info": {
   "codemirror_mode": {
    "name": "ipython",
    "version": 3
   },
   "file_extension": ".py",
   "mimetype": "text/x-python",
   "name": "python",
   "nbconvert_exporter": "python",
   "pygments_lexer": "ipython3",
   "version": "3.8.8"
  }
 },
 "nbformat": 4,
 "nbformat_minor": 5
}
