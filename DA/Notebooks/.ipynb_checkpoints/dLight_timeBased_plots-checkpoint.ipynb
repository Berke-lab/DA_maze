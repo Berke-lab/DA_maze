{
 "cells": [
  {
   "cell_type": "code",
   "execution_count": 1,
   "id": "6c8133aa-65e1-404b-8556-7e06bd42d750",
   "metadata": {},
   "outputs": [],
   "source": [
    "import sys\n",
    "sys.path.insert(0, '/Users/timkrausz/Documents/GitHub/DA_maze_paper/DA/Modules/')"
   ]
  },
  {
   "cell_type": "code",
   "execution_count": 3,
   "id": "b2a898b4",
   "metadata": {},
   "outputs": [],
   "source": [
    "import numpy as np\n",
    "import matplotlib.pyplot as plt\n",
    "import pandas as pd\n",
    "import seaborn as sns\n",
    "sns.set()\n",
    "plt.style.use('default')\n",
    "plt.style.use(\"seaborn-poster\")\n",
    "from multi_rat_da import *\n",
    "from hexLevelAnalyses import *\n",
    "from photometryQuantifications import *\n",
    "from photometrySessionVizualizations import *\n",
    "%matplotlib qt"
   ]
  },
  {
   "cell_type": "markdown",
   "id": "fa78ed56-c4b5-44ab-b8dd-278968b8c16b",
   "metadata": {},
   "source": [
    "# **DF columns:** \n",
    "#### *green_z_scored*: isosbestic-corrected z-scored dLight signal\n",
    "#### *port*: port ID (0,1,2 for A,B,C) at moment of first entry per trial and -100 otherwise\n",
    "#### *hexlabel*: hex ID (1-49)\n",
    "#### *rwd*: reward received (0,1)\n",
    "#### *session*: session identifier number\n",
    "#### *block*: block ID\n",
    "#### *tri*: trial number within block\n",
    "#### *rat*\n",
    "#### *date*\n",
    "#### *session_type*: barrier or probability variant\n",
    "#### *vel*: velocity\n",
    "#### *lenAB*, *lenBC*, *lenAC* path length (in hexes) between labeled ports\n",
    "#### *nom_rwd_a*, *nom_rwd_b*, *nom_rwd_c*: nominal reward probability for ports\n",
    "#### *dtop*: distance (in hexes) to the destination port\n",
    "#### *lastleave*: 1 marks time when rat last left one port before entering another. 2 marks times after leaving port. 0 otherwise.\n",
    "#### *beamA, beamB, beamC*: 1 where infrared beam was broken at port, 0 otherwise.\n",
    "#### *pairedHexState*: hex-state defined based on direction of entry (function of prior hexlabel)"
   ]
  },
  {
   "cell_type": "markdown",
   "id": "acfa0b5b-b945-46c2-b6d8-8c806dabb8f9",
   "metadata": {},
   "source": [
    "# Load dataframe"
   ]
  },
  {
   "cell_type": "code",
   "execution_count": 5,
   "id": "139ba4c9",
   "metadata": {},
   "outputs": [
    {
     "name": "stderr",
     "output_type": "stream",
     "text": [
      "/Users/timkrausz/opt/anaconda3/lib/python3.8/site-packages/numpy/lib/arraysetops.py:583: FutureWarning: elementwise comparison failed; returning scalar instead, but in the future will perform elementwise comparison\n",
      "  mask |= (ar1 == a)\n"
     ]
    },
    {
     "name": "stdout",
     "output_type": "stream",
     "text": [
      "Memory usage of dataframe is 22590.88 MB\n",
      "Memory usage after optimization is: 5438.55 MB\n",
      "Decreased by 75.9%\n"
     ]
    }
   ],
   "source": [
    "loadpath = \"/Volumes/Tim/Photometry/10MfRatDataSet/data4sharing/\"\n",
    "datName = \"photLevelDf\"\n",
    "df = pd.read_csv(loadpath+datName+\".csv\",index_col=[0])\n",
    "photrats = PhotRats(None)\n",
    "photrats.df = reduce_mem_usage(df)\n",
    "del df\n",
    "photrats.directory_prefix = loadpath"
   ]
  },
  {
   "cell_type": "markdown",
   "id": "f31db176-ca1e-4136-b670-d60278f4ca39",
   "metadata": {},
   "source": [
    "## compute nom_rwd_chosen (nominal reward probability of chosen port) and add to dataframe"
   ]
  },
  {
   "cell_type": "code",
   "execution_count": 6,
   "id": "e5d7b8cd-29d6-4d51-a28c-24ace48c2039",
   "metadata": {},
   "outputs": [],
   "source": [
    "photrats.factor = \"nom_rwd\"\n",
    "photrats.get_vals_byChosenEtc(chosen_only=True)"
   ]
  },
  {
   "cell_type": "code",
   "execution_count": 7,
   "id": "61e7aad5-c7fb-4959-9927-47f508617e6d",
   "metadata": {},
   "outputs": [],
   "source": [
    "create_triframe(photrats)"
   ]
  },
  {
   "cell_type": "markdown",
   "id": "56d45b3f-3a46-48b1-941e-edace017baa8",
   "metadata": {},
   "source": [
    "## add port q values to dataframe"
   ]
  },
  {
   "cell_type": "code",
   "execution_count": 8,
   "id": "6ddbd729-713b-45ec-8b2a-b641be86d402",
   "metadata": {
    "collapsed": true,
    "jupyter": {
     "outputs_hidden": true
    },
    "tags": []
   },
   "outputs": [
    {
     "ename": "FileNotFoundError",
     "evalue": "[Errno 2] No such file or directory: '/Volumes/Tim/Photometry/10MfRatDataSet/data4sharing/tri_q3port_params.csv'",
     "output_type": "error",
     "traceback": [
      "\u001b[0;31m---------------------------------------------------------------------------\u001b[0m",
      "\u001b[0;31mFileNotFoundError\u001b[0m                         Traceback (most recent call last)",
      "\u001b[0;32m<ipython-input-8-557d931ef978>\u001b[0m in \u001b[0;36m<module>\u001b[0;34m\u001b[0m\n\u001b[0;32m----> 1\u001b[0;31m \u001b[0mphotrats\u001b[0m\u001b[0;34m.\u001b[0m\u001b[0mget_portQvals\u001b[0m\u001b[0;34m(\u001b[0m\u001b[0mqtype\u001b[0m\u001b[0;34m=\u001b[0m\u001b[0;34m\"port\"\u001b[0m\u001b[0;34m,\u001b[0m\u001b[0mlevel\u001b[0m\u001b[0;34m=\u001b[0m\u001b[0;34m\"rat\"\u001b[0m\u001b[0;34m)\u001b[0m\u001b[0;34m\u001b[0m\u001b[0;34m\u001b[0m\u001b[0m\n\u001b[0m",
      "\u001b[0;32m~/Documents/GitHub/DA_maze_paper/DA/Modules/portVal.py\u001b[0m in \u001b[0;36mget_portQvals\u001b[0;34m(self, qtype, level)\u001b[0m\n\u001b[1;32m     21\u001b[0m         \u001b[0mself\u001b[0m\u001b[0;34m.\u001b[0m\u001b[0mdf\u001b[0m\u001b[0;34m.\u001b[0m\u001b[0mloc\u001b[0m\u001b[0;34m[\u001b[0m\u001b[0;34m:\u001b[0m\u001b[0;34m,\u001b[0m\u001b[0;34m'Q_b'\u001b[0m\u001b[0;34m]\u001b[0m \u001b[0;34m=\u001b[0m \u001b[0mnp\u001b[0m\u001b[0;34m.\u001b[0m\u001b[0mnan\u001b[0m\u001b[0;34m\u001b[0m\u001b[0;34m\u001b[0m\u001b[0m\n\u001b[1;32m     22\u001b[0m         \u001b[0mself\u001b[0m\u001b[0;34m.\u001b[0m\u001b[0mdf\u001b[0m\u001b[0;34m.\u001b[0m\u001b[0mloc\u001b[0m\u001b[0;34m[\u001b[0m\u001b[0;34m:\u001b[0m\u001b[0;34m,\u001b[0m\u001b[0;34m'Q_c'\u001b[0m\u001b[0;34m]\u001b[0m \u001b[0;34m=\u001b[0m \u001b[0mnp\u001b[0m\u001b[0;34m.\u001b[0m\u001b[0mnan\u001b[0m\u001b[0;34m\u001b[0m\u001b[0;34m\u001b[0m\u001b[0m\n\u001b[0;32m---> 23\u001b[0;31m         \u001b[0mself\u001b[0m\u001b[0;34m.\u001b[0m\u001b[0mload_q_params\u001b[0m\u001b[0;34m(\u001b[0m\u001b[0mqtype\u001b[0m\u001b[0;34m)\u001b[0m\u001b[0;34m\u001b[0m\u001b[0;34m\u001b[0m\u001b[0m\n\u001b[0m\u001b[1;32m     24\u001b[0m         \u001b[0;32mif\u001b[0m \u001b[0mlevel\u001b[0m\u001b[0;34m==\u001b[0m\u001b[0;34m\"session\"\u001b[0m\u001b[0;34m:\u001b[0m\u001b[0;34m\u001b[0m\u001b[0;34m\u001b[0m\u001b[0m\n\u001b[1;32m     25\u001b[0m             \u001b[0mseshs\u001b[0m \u001b[0;34m=\u001b[0m \u001b[0mself\u001b[0m\u001b[0;34m.\u001b[0m\u001b[0mtriframe\u001b[0m\u001b[0;34m.\u001b[0m\u001b[0msession\u001b[0m\u001b[0;34m.\u001b[0m\u001b[0munique\u001b[0m\u001b[0;34m(\u001b[0m\u001b[0;34m)\u001b[0m\u001b[0;34m\u001b[0m\u001b[0;34m\u001b[0m\u001b[0m\n",
      "\u001b[0;32m~/Documents/GitHub/DA_maze_paper/DA/Modules/portVal.py\u001b[0m in \u001b[0;36mload_q_params\u001b[0;34m(self, qtype)\u001b[0m\n\u001b[1;32m     69\u001b[0m             \u001b[0mself\u001b[0m\u001b[0;34m.\u001b[0m\u001b[0mhyb_params\u001b[0m \u001b[0;34m=\u001b[0m \u001b[0mpd\u001b[0m\u001b[0;34m.\u001b[0m\u001b[0mread_csv\u001b[0m\u001b[0;34m(\u001b[0m\u001b[0mself\u001b[0m\u001b[0;34m.\u001b[0m\u001b[0mdirectory_prefix\u001b[0m\u001b[0;34m+\u001b[0m\u001b[0;34m\"tri_hybrid_params.csv\"\u001b[0m\u001b[0;34m)\u001b[0m\u001b[0;34m\u001b[0m\u001b[0;34m\u001b[0m\u001b[0m\n\u001b[1;32m     70\u001b[0m         \u001b[0;32melif\u001b[0m \u001b[0mqtype\u001b[0m \u001b[0;34m==\u001b[0m \u001b[0;34m'port'\u001b[0m\u001b[0;34m:\u001b[0m\u001b[0;34m\u001b[0m\u001b[0;34m\u001b[0m\u001b[0m\n\u001b[0;32m---> 71\u001b[0;31m             \u001b[0mself\u001b[0m\u001b[0;34m.\u001b[0m\u001b[0mq_params\u001b[0m \u001b[0;34m=\u001b[0m \u001b[0mpd\u001b[0m\u001b[0;34m.\u001b[0m\u001b[0mread_csv\u001b[0m\u001b[0;34m(\u001b[0m\u001b[0mself\u001b[0m\u001b[0;34m.\u001b[0m\u001b[0mdirectory_prefix\u001b[0m\u001b[0;34m+\u001b[0m\u001b[0;34m\"tri_q3port_params.csv\"\u001b[0m\u001b[0;34m)\u001b[0m\u001b[0;34m\u001b[0m\u001b[0;34m\u001b[0m\u001b[0m\n\u001b[0m\u001b[1;32m     72\u001b[0m \u001b[0;34m\u001b[0m\u001b[0m\n\u001b[1;32m     73\u001b[0m     \u001b[0;32mdef\u001b[0m \u001b[0mget_vals_byChosenEtc\u001b[0m\u001b[0;34m(\u001b[0m\u001b[0mself\u001b[0m\u001b[0;34m,\u001b[0m\u001b[0mchosen_only\u001b[0m\u001b[0;34m=\u001b[0m\u001b[0;32mFalse\u001b[0m\u001b[0;34m)\u001b[0m\u001b[0;34m:\u001b[0m\u001b[0;34m\u001b[0m\u001b[0;34m\u001b[0m\u001b[0m\n",
      "\u001b[0;32m~/opt/anaconda3/lib/python3.8/site-packages/pandas/io/parsers.py\u001b[0m in \u001b[0;36mread_csv\u001b[0;34m(filepath_or_buffer, sep, delimiter, header, names, index_col, usecols, squeeze, prefix, mangle_dupe_cols, dtype, engine, converters, true_values, false_values, skipinitialspace, skiprows, skipfooter, nrows, na_values, keep_default_na, na_filter, verbose, skip_blank_lines, parse_dates, infer_datetime_format, keep_date_col, date_parser, dayfirst, cache_dates, iterator, chunksize, compression, thousands, decimal, lineterminator, quotechar, quoting, doublequote, escapechar, comment, encoding, dialect, error_bad_lines, warn_bad_lines, delim_whitespace, low_memory, memory_map, float_precision, storage_options)\u001b[0m\n\u001b[1;32m    608\u001b[0m     \u001b[0mkwds\u001b[0m\u001b[0;34m.\u001b[0m\u001b[0mupdate\u001b[0m\u001b[0;34m(\u001b[0m\u001b[0mkwds_defaults\u001b[0m\u001b[0;34m)\u001b[0m\u001b[0;34m\u001b[0m\u001b[0;34m\u001b[0m\u001b[0m\n\u001b[1;32m    609\u001b[0m \u001b[0;34m\u001b[0m\u001b[0m\n\u001b[0;32m--> 610\u001b[0;31m     \u001b[0;32mreturn\u001b[0m \u001b[0m_read\u001b[0m\u001b[0;34m(\u001b[0m\u001b[0mfilepath_or_buffer\u001b[0m\u001b[0;34m,\u001b[0m \u001b[0mkwds\u001b[0m\u001b[0;34m)\u001b[0m\u001b[0;34m\u001b[0m\u001b[0;34m\u001b[0m\u001b[0m\n\u001b[0m\u001b[1;32m    611\u001b[0m \u001b[0;34m\u001b[0m\u001b[0m\n\u001b[1;32m    612\u001b[0m \u001b[0;34m\u001b[0m\u001b[0m\n",
      "\u001b[0;32m~/opt/anaconda3/lib/python3.8/site-packages/pandas/io/parsers.py\u001b[0m in \u001b[0;36m_read\u001b[0;34m(filepath_or_buffer, kwds)\u001b[0m\n\u001b[1;32m    460\u001b[0m \u001b[0;34m\u001b[0m\u001b[0m\n\u001b[1;32m    461\u001b[0m     \u001b[0;31m# Create the parser.\u001b[0m\u001b[0;34m\u001b[0m\u001b[0;34m\u001b[0m\u001b[0;34m\u001b[0m\u001b[0m\n\u001b[0;32m--> 462\u001b[0;31m     \u001b[0mparser\u001b[0m \u001b[0;34m=\u001b[0m \u001b[0mTextFileReader\u001b[0m\u001b[0;34m(\u001b[0m\u001b[0mfilepath_or_buffer\u001b[0m\u001b[0;34m,\u001b[0m \u001b[0;34m**\u001b[0m\u001b[0mkwds\u001b[0m\u001b[0;34m)\u001b[0m\u001b[0;34m\u001b[0m\u001b[0;34m\u001b[0m\u001b[0m\n\u001b[0m\u001b[1;32m    463\u001b[0m \u001b[0;34m\u001b[0m\u001b[0m\n\u001b[1;32m    464\u001b[0m     \u001b[0;32mif\u001b[0m \u001b[0mchunksize\u001b[0m \u001b[0;32mor\u001b[0m \u001b[0miterator\u001b[0m\u001b[0;34m:\u001b[0m\u001b[0;34m\u001b[0m\u001b[0;34m\u001b[0m\u001b[0m\n",
      "\u001b[0;32m~/opt/anaconda3/lib/python3.8/site-packages/pandas/io/parsers.py\u001b[0m in \u001b[0;36m__init__\u001b[0;34m(self, f, engine, **kwds)\u001b[0m\n\u001b[1;32m    817\u001b[0m             \u001b[0mself\u001b[0m\u001b[0;34m.\u001b[0m\u001b[0moptions\u001b[0m\u001b[0;34m[\u001b[0m\u001b[0;34m\"has_index_names\"\u001b[0m\u001b[0;34m]\u001b[0m \u001b[0;34m=\u001b[0m \u001b[0mkwds\u001b[0m\u001b[0;34m[\u001b[0m\u001b[0;34m\"has_index_names\"\u001b[0m\u001b[0;34m]\u001b[0m\u001b[0;34m\u001b[0m\u001b[0;34m\u001b[0m\u001b[0m\n\u001b[1;32m    818\u001b[0m \u001b[0;34m\u001b[0m\u001b[0m\n\u001b[0;32m--> 819\u001b[0;31m         \u001b[0mself\u001b[0m\u001b[0;34m.\u001b[0m\u001b[0m_engine\u001b[0m \u001b[0;34m=\u001b[0m \u001b[0mself\u001b[0m\u001b[0;34m.\u001b[0m\u001b[0m_make_engine\u001b[0m\u001b[0;34m(\u001b[0m\u001b[0mself\u001b[0m\u001b[0;34m.\u001b[0m\u001b[0mengine\u001b[0m\u001b[0;34m)\u001b[0m\u001b[0;34m\u001b[0m\u001b[0;34m\u001b[0m\u001b[0m\n\u001b[0m\u001b[1;32m    820\u001b[0m \u001b[0;34m\u001b[0m\u001b[0m\n\u001b[1;32m    821\u001b[0m     \u001b[0;32mdef\u001b[0m \u001b[0mclose\u001b[0m\u001b[0;34m(\u001b[0m\u001b[0mself\u001b[0m\u001b[0;34m)\u001b[0m\u001b[0;34m:\u001b[0m\u001b[0;34m\u001b[0m\u001b[0;34m\u001b[0m\u001b[0m\n",
      "\u001b[0;32m~/opt/anaconda3/lib/python3.8/site-packages/pandas/io/parsers.py\u001b[0m in \u001b[0;36m_make_engine\u001b[0;34m(self, engine)\u001b[0m\n\u001b[1;32m   1048\u001b[0m             )\n\u001b[1;32m   1049\u001b[0m         \u001b[0;31m# error: Too many arguments for \"ParserBase\"\u001b[0m\u001b[0;34m\u001b[0m\u001b[0;34m\u001b[0m\u001b[0;34m\u001b[0m\u001b[0m\n\u001b[0;32m-> 1050\u001b[0;31m         \u001b[0;32mreturn\u001b[0m \u001b[0mmapping\u001b[0m\u001b[0;34m[\u001b[0m\u001b[0mengine\u001b[0m\u001b[0;34m]\u001b[0m\u001b[0;34m(\u001b[0m\u001b[0mself\u001b[0m\u001b[0;34m.\u001b[0m\u001b[0mf\u001b[0m\u001b[0;34m,\u001b[0m \u001b[0;34m**\u001b[0m\u001b[0mself\u001b[0m\u001b[0;34m.\u001b[0m\u001b[0moptions\u001b[0m\u001b[0;34m)\u001b[0m  \u001b[0;31m# type: ignore[call-arg]\u001b[0m\u001b[0;34m\u001b[0m\u001b[0;34m\u001b[0m\u001b[0m\n\u001b[0m\u001b[1;32m   1051\u001b[0m \u001b[0;34m\u001b[0m\u001b[0m\n\u001b[1;32m   1052\u001b[0m     \u001b[0;32mdef\u001b[0m \u001b[0m_failover_to_python\u001b[0m\u001b[0;34m(\u001b[0m\u001b[0mself\u001b[0m\u001b[0;34m)\u001b[0m\u001b[0;34m:\u001b[0m\u001b[0;34m\u001b[0m\u001b[0;34m\u001b[0m\u001b[0m\n",
      "\u001b[0;32m~/opt/anaconda3/lib/python3.8/site-packages/pandas/io/parsers.py\u001b[0m in \u001b[0;36m__init__\u001b[0;34m(self, src, **kwds)\u001b[0m\n\u001b[1;32m   1865\u001b[0m \u001b[0;34m\u001b[0m\u001b[0m\n\u001b[1;32m   1866\u001b[0m         \u001b[0;31m# open handles\u001b[0m\u001b[0;34m\u001b[0m\u001b[0;34m\u001b[0m\u001b[0;34m\u001b[0m\u001b[0m\n\u001b[0;32m-> 1867\u001b[0;31m         \u001b[0mself\u001b[0m\u001b[0;34m.\u001b[0m\u001b[0m_open_handles\u001b[0m\u001b[0;34m(\u001b[0m\u001b[0msrc\u001b[0m\u001b[0;34m,\u001b[0m \u001b[0mkwds\u001b[0m\u001b[0;34m)\u001b[0m\u001b[0;34m\u001b[0m\u001b[0;34m\u001b[0m\u001b[0m\n\u001b[0m\u001b[1;32m   1868\u001b[0m         \u001b[0;32massert\u001b[0m \u001b[0mself\u001b[0m\u001b[0;34m.\u001b[0m\u001b[0mhandles\u001b[0m \u001b[0;32mis\u001b[0m \u001b[0;32mnot\u001b[0m \u001b[0;32mNone\u001b[0m\u001b[0;34m\u001b[0m\u001b[0;34m\u001b[0m\u001b[0m\n\u001b[1;32m   1869\u001b[0m         \u001b[0;32mfor\u001b[0m \u001b[0mkey\u001b[0m \u001b[0;32min\u001b[0m \u001b[0;34m(\u001b[0m\u001b[0;34m\"storage_options\"\u001b[0m\u001b[0;34m,\u001b[0m \u001b[0;34m\"encoding\"\u001b[0m\u001b[0;34m,\u001b[0m \u001b[0;34m\"memory_map\"\u001b[0m\u001b[0;34m,\u001b[0m \u001b[0;34m\"compression\"\u001b[0m\u001b[0;34m)\u001b[0m\u001b[0;34m:\u001b[0m\u001b[0;34m\u001b[0m\u001b[0;34m\u001b[0m\u001b[0m\n",
      "\u001b[0;32m~/opt/anaconda3/lib/python3.8/site-packages/pandas/io/parsers.py\u001b[0m in \u001b[0;36m_open_handles\u001b[0;34m(self, src, kwds)\u001b[0m\n\u001b[1;32m   1360\u001b[0m         \u001b[0mLet\u001b[0m \u001b[0mthe\u001b[0m \u001b[0mreaders\u001b[0m \u001b[0mopen\u001b[0m \u001b[0mIOHanldes\u001b[0m \u001b[0mafter\u001b[0m \u001b[0mthey\u001b[0m \u001b[0mare\u001b[0m \u001b[0mdone\u001b[0m \u001b[0;32mwith\u001b[0m \u001b[0mtheir\u001b[0m \u001b[0mpotential\u001b[0m \u001b[0mraises\u001b[0m\u001b[0;34m.\u001b[0m\u001b[0;34m\u001b[0m\u001b[0;34m\u001b[0m\u001b[0m\n\u001b[1;32m   1361\u001b[0m         \"\"\"\n\u001b[0;32m-> 1362\u001b[0;31m         self.handles = get_handle(\n\u001b[0m\u001b[1;32m   1363\u001b[0m             \u001b[0msrc\u001b[0m\u001b[0;34m,\u001b[0m\u001b[0;34m\u001b[0m\u001b[0;34m\u001b[0m\u001b[0m\n\u001b[1;32m   1364\u001b[0m             \u001b[0;34m\"r\"\u001b[0m\u001b[0;34m,\u001b[0m\u001b[0;34m\u001b[0m\u001b[0;34m\u001b[0m\u001b[0m\n",
      "\u001b[0;32m~/opt/anaconda3/lib/python3.8/site-packages/pandas/io/common.py\u001b[0m in \u001b[0;36mget_handle\u001b[0;34m(path_or_buf, mode, encoding, compression, memory_map, is_text, errors, storage_options)\u001b[0m\n\u001b[1;32m    640\u001b[0m                 \u001b[0merrors\u001b[0m \u001b[0;34m=\u001b[0m \u001b[0;34m\"replace\"\u001b[0m\u001b[0;34m\u001b[0m\u001b[0;34m\u001b[0m\u001b[0m\n\u001b[1;32m    641\u001b[0m             \u001b[0;31m# Encoding\u001b[0m\u001b[0;34m\u001b[0m\u001b[0;34m\u001b[0m\u001b[0;34m\u001b[0m\u001b[0m\n\u001b[0;32m--> 642\u001b[0;31m             handle = open(\n\u001b[0m\u001b[1;32m    643\u001b[0m                 \u001b[0mhandle\u001b[0m\u001b[0;34m,\u001b[0m\u001b[0;34m\u001b[0m\u001b[0;34m\u001b[0m\u001b[0m\n\u001b[1;32m    644\u001b[0m                 \u001b[0mioargs\u001b[0m\u001b[0;34m.\u001b[0m\u001b[0mmode\u001b[0m\u001b[0;34m,\u001b[0m\u001b[0;34m\u001b[0m\u001b[0;34m\u001b[0m\u001b[0m\n",
      "\u001b[0;31mFileNotFoundError\u001b[0m: [Errno 2] No such file or directory: '/Volumes/Tim/Photometry/10MfRatDataSet/data4sharing/tri_q3port_params.csv'"
     ]
    }
   ],
   "source": [
    "photrats.get_portQvals(qtype=\"port\",level=\"rat\")"
   ]
  },
  {
   "cell_type": "markdown",
   "id": "c849504f",
   "metadata": {},
   "source": [
    "## plot individual session dLight, reference, and velocity traces"
   ]
  },
  {
   "cell_type": "code",
   "execution_count": 241,
   "id": "29208cfe",
   "metadata": {},
   "outputs": [],
   "source": [
    "fig,s = plot_individualSeshTrace_RwdAndNewHexLabeled(photrats,\\\n",
    "                                        75,plot_newlyAvail=False,plot_ref=True)"
   ]
  },
  {
   "cell_type": "markdown",
   "id": "2168d1fc",
   "metadata": {},
   "source": [
    "## plot peak/trough after port entry as a function of p(rwd)"
   ]
  },
  {
   "cell_type": "code",
   "execution_count": 9,
   "id": "855028bb-7052-42af-934c-813340657d4b",
   "metadata": {},
   "outputs": [],
   "source": [
    "photrats.set_plot_trace(\"green_z_scored\")"
   ]
  },
  {
   "cell_type": "code",
   "execution_count": 7,
   "id": "27ad0145",
   "metadata": {},
   "outputs": [],
   "source": [
    "photrats.pool_factor = \"nom_rwd_chosen\"\n",
    "\n",
    "#rewarded trials\n",
    "photrats.dat = photrats.df.loc[(photrats.df.rwd==1)&(photrats.df.tri>25),]\n",
    "lowIndsRwd,midIndsRwd,highIndsRwd = photrats.getTriIndsByTerc(rwdtype=\"rwd\")\n",
    "\n",
    "#omission trials\n",
    "photrats.dat = photrats.df.loc[(photrats.df.rwd!=1)&(photrats.df.tri>25),]\n",
    "lowIndsOm,midIndsOm,highIndsOm = photrats.getTriIndsByTerc(rwdtype=\"om\")"
   ]
  },
  {
   "cell_type": "code",
   "execution_count": 10,
   "id": "3cc36fec",
   "metadata": {
    "tags": []
   },
   "outputs": [],
   "source": [
    "fig = plt.figure(figsize=(4,5.5))\n",
    "plot_peakTroughDaDifAfterPortEntry_barWithRats(photrats,highIndsRwd,midIndsRwd,lowIndsRwd)\n",
    "plot_peakTroughDaDifAfterPortEntry_barWithRats(photrats,\\\n",
    "                            highIndsOm,midIndsOm,lowIndsOm,peak=False,pltCol=\"blue\")"
   ]
  },
  {
   "cell_type": "code",
   "execution_count": 16,
   "id": "90366635",
   "metadata": {
    "tags": []
   },
   "outputs": [],
   "source": [
    "rwdCors,omCors = calc_DaChangeVprobCors(photrats)\n",
    "plt.suptitle(\"rwd pval = \"+str(wilcoxon(np.array(rwdCors)[:,0])[1])+\\\n",
    "            \"\\n om pval = \"+str(wilcoxon(np.array(omCors)[:,0])[1]))"
   ]
  },
  {
   "cell_type": "markdown",
   "id": "8acdc647",
   "metadata": {},
   "source": [
    "- plot port-aligned DA pooled by p(rwd) second half of blocks"
   ]
  },
  {
   "cell_type": "code",
   "execution_count": null,
   "id": "b78b034a-8b5e-44d9-984b-337da3ea4d8c",
   "metadata": {
    "tags": []
   },
   "outputs": [],
   "source": [
    "photrats.set_plot_window([-5,5])\n",
    "fig = plot_portAlignedDaInTime(photrats,secondHalfOnly=True,\\\n",
    "                               poolFactor=\"nom_rwd_chosen\",useRatGroupLevel=True)\n",
    "plt.xticks(np.arange(-5,6),np.arange(-5,6))\n",
    "plt.ylim(-.9,2.2)"
   ]
  },
  {
   "cell_type": "markdown",
   "id": "469bca66",
   "metadata": {},
   "source": [
    "## load transition matrices for each distinct maze configuration, and identify the hex IDs of each barrier location"
   ]
  },
  {
   "cell_type": "code",
   "execution_count": 10,
   "id": "abca167f",
   "metadata": {
    "tags": []
   },
   "outputs": [
    {
     "name": "stdout",
     "output_type": "stream",
     "text": [
      "no tmat saved for sesh 0 block 7\n",
      "no tmat saved for sesh 45 block 4\n",
      "unable to find barriers for session 0 block 7\n",
      "unable to find barriers for session 45 block 4\n"
     ]
    }
   ],
   "source": [
    "#set directory of transition matrices folder\n",
    "tmat_path = \"/Users/timkrausz/Documents/GitHub/DA_maze_paper/Data/Transition Matrices/\"\n",
    "photrats.directory_prefix = tmat_path\n",
    "photrats.load_tmats()\n",
    "photrats.get_barIDs()\n",
    "photrats.directory_prefix = loadpath"
   ]
  },
  {
   "cell_type": "markdown",
   "id": "cd15b31d",
   "metadata": {},
   "source": [
    "## plot q rpe lag regression"
   ]
  },
  {
   "cell_type": "code",
   "execution_count": 65,
   "id": "888a42ef",
   "metadata": {},
   "outputs": [
    {
     "name": "stderr",
     "output_type": "stream",
     "text": [
      "100%|██████████| 10/10 [05:43<00:00, 34.36s/it]\n"
     ]
    }
   ],
   "source": [
    "photrats.bin_size = int(photrats.fs/15)\n",
    "ratRwdRpes,ratOmRpes,ratRwdNs,ratOmNs = calcRpeRegByRatAndSesh(photrats,useQ=True)"
   ]
  },
  {
   "cell_type": "code",
   "execution_count": 83,
   "id": "a0e906ab",
   "metadata": {},
   "outputs": [],
   "source": [
    "plot_rpeLagRegCoefs(photrats,binsize=1000/12.5)"
   ]
  },
  {
   "cell_type": "code",
   "execution_count": 38,
   "id": "cb0919cb",
   "metadata": {},
   "outputs": [],
   "source": [
    "regWeightsByRat = calc_choiceRegWeightsByRat(photrats)"
   ]
  },
  {
   "cell_type": "code",
   "execution_count": 18,
   "id": "ade2c010",
   "metadata": {},
   "outputs": [
    {
     "data": {
      "text/plain": [
       "array(['IM-1272', 'IM-1273', 'IM-1276', 'IM-1291', 'IM-1292', 'IM-1322',\n",
       "       'IM-1398', 'IM-1434', 'IM-1458', 'IM-1478'], dtype='<U7')"
      ]
     },
     "execution_count": 18,
     "metadata": {},
     "output_type": "execute_result"
    }
   ],
   "source": [
    "np.array(photrats.triframe.rat.unique()).astype(str)"
   ]
  },
  {
   "cell_type": "code",
   "execution_count": 39,
   "id": "4e2fbf69",
   "metadata": {
    "collapsed": true,
    "jupyter": {
     "outputs_hidden": true
    },
    "tags": []
   },
   "outputs": [
    {
     "data": {
      "text/html": [
       "<div>\n",
       "<style scoped>\n",
       "    .dataframe tbody tr th:only-of-type {\n",
       "        vertical-align: middle;\n",
       "    }\n",
       "\n",
       "    .dataframe tbody tr th {\n",
       "        vertical-align: top;\n",
       "    }\n",
       "\n",
       "    .dataframe thead th {\n",
       "        text-align: right;\n",
       "    }\n",
       "</style>\n",
       "<table border=\"1\" class=\"dataframe\">\n",
       "  <thead>\n",
       "    <tr style=\"text-align: right;\">\n",
       "      <th></th>\n",
       "      <th>intercept</th>\n",
       "      <th>relative p(R)</th>\n",
       "      <th>relative distance</th>\n",
       "      <th>rat</th>\n",
       "    </tr>\n",
       "  </thead>\n",
       "  <tbody>\n",
       "    <tr>\n",
       "      <th>0</th>\n",
       "      <td>0.788138</td>\n",
       "      <td>0.840152</td>\n",
       "      <td>-2.901712</td>\n",
       "      <td>IM-1272</td>\n",
       "    </tr>\n",
       "    <tr>\n",
       "      <th>1</th>\n",
       "      <td>-0.067526</td>\n",
       "      <td>0.819950</td>\n",
       "      <td>-1.460891</td>\n",
       "      <td>IM-1273</td>\n",
       "    </tr>\n",
       "    <tr>\n",
       "      <th>2</th>\n",
       "      <td>0.703347</td>\n",
       "      <td>0.881085</td>\n",
       "      <td>-2.522147</td>\n",
       "      <td>IM-1276</td>\n",
       "    </tr>\n",
       "    <tr>\n",
       "      <th>3</th>\n",
       "      <td>0.030442</td>\n",
       "      <td>0.549869</td>\n",
       "      <td>-1.716633</td>\n",
       "      <td>IM-1291</td>\n",
       "    </tr>\n",
       "    <tr>\n",
       "      <th>4</th>\n",
       "      <td>0.166691</td>\n",
       "      <td>1.393542</td>\n",
       "      <td>-1.911691</td>\n",
       "      <td>IM-1292</td>\n",
       "    </tr>\n",
       "    <tr>\n",
       "      <th>5</th>\n",
       "      <td>0.668904</td>\n",
       "      <td>1.152568</td>\n",
       "      <td>-2.430597</td>\n",
       "      <td>IM-1322</td>\n",
       "    </tr>\n",
       "    <tr>\n",
       "      <th>6</th>\n",
       "      <td>0.865570</td>\n",
       "      <td>0.666288</td>\n",
       "      <td>-2.379002</td>\n",
       "      <td>IM-1398</td>\n",
       "    </tr>\n",
       "    <tr>\n",
       "      <th>7</th>\n",
       "      <td>-0.615642</td>\n",
       "      <td>1.637882</td>\n",
       "      <td>-1.195741</td>\n",
       "      <td>IM-1434</td>\n",
       "    </tr>\n",
       "    <tr>\n",
       "      <th>8</th>\n",
       "      <td>-0.605195</td>\n",
       "      <td>1.244594</td>\n",
       "      <td>-0.726433</td>\n",
       "      <td>IM-1478</td>\n",
       "    </tr>\n",
       "  </tbody>\n",
       "</table>\n",
       "</div>"
      ],
      "text/plain": [
       "   intercept  relative p(R)  relative distance      rat\n",
       "0   0.788138       0.840152          -2.901712  IM-1272\n",
       "1  -0.067526       0.819950          -1.460891  IM-1273\n",
       "2   0.703347       0.881085          -2.522147  IM-1276\n",
       "3   0.030442       0.549869          -1.716633  IM-1291\n",
       "4   0.166691       1.393542          -1.911691  IM-1292\n",
       "5   0.668904       1.152568          -2.430597  IM-1322\n",
       "6   0.865570       0.666288          -2.379002  IM-1398\n",
       "7  -0.615642       1.637882          -1.195741  IM-1434\n",
       "8  -0.605195       1.244594          -0.726433  IM-1478"
      ]
     },
     "execution_count": 39,
     "metadata": {},
     "output_type": "execute_result"
    }
   ],
   "source": [
    "regWeightsByRat.loc[:,\"rat\"] = np.array(photrats.triframe.rat.unique())\n",
    "regWeightsByRat"
   ]
  },
  {
   "cell_type": "markdown",
   "id": "999ded53",
   "metadata": {},
   "source": [
    "## plot DA aligned to new/blocked hex discovery\n",
    "- identify indices of blocked and new path discovery\n",
    "- identify indices of new path before entry and new path before ignored"
   ]
  },
  {
   "cell_type": "code",
   "execution_count": 30,
   "id": "edc94f48",
   "metadata": {
    "collapsed": true,
    "jupyter": {
     "outputs_hidden": true
    },
    "tags": []
   },
   "outputs": [
    {
     "name": "stdout",
     "output_type": "stream",
     "text": [
      "No previous adjacent hex entry detected for session  0  block  2\n",
      "session  1  block  5\n",
      "session  28  block  3\n",
      "session  22  block  3\n",
      "No previous adjacent hex entry detected for session  32  block  1\n",
      "session  57  block  3\n",
      "session  59  block  3\n",
      "session  61  block  2\n",
      "No previous adjacent hex entry detected for session  64  block  1\n",
      "No previous adjacent hex entry detected for session  89  block  1\n",
      "No previous adjacent hex entry detected for session  89  block  2\n",
      "No previous adjacent hex entry detected for session  93  block  1\n",
      "No previous adjacent hex entry detected for session  93  block  2\n",
      "No previous adjacent hex entry detected for session  98  block  1\n",
      "No previous adjacent hex entry detected for session  102  block  1\n",
      "session  102  block  3\n",
      "session  104  block  3\n",
      "session  1  block  2\n",
      "session  1  block  5\n",
      "session  28  block  3\n",
      "session  22  block  3\n",
      "session  57  block  3\n",
      "session  59  block  3\n",
      "session  102  block  3\n",
      "session  104  block  3\n",
      "session  1  block  5\n",
      "session  28  block  3\n",
      "session  22  block  3\n",
      "session  57  block  3\n",
      "session  59  block  3\n",
      "session  61  block  2\n",
      "session  102  block  3\n",
      "session  104  block  3\n"
     ]
    }
   ],
   "source": [
    "photrats.get_newlyAvailHexesBySesh()\n",
    "photrats.get_newlyBlockedHexesBySesh()\n",
    "\n",
    "#add entries to df\n",
    "photrats.add_newlyAvailHexesToDf()\n",
    "photrats.add_adjacent2newlyAvail()\n",
    "photrats.add_adjacent2newlyBlocked()\n",
    "\n",
    "newHexInds,newHexStates,adjHexStates,adjHexInds = find_newHexEntryAndPriorHexInds(photrats)\n",
    "blockedHexAdjInds,blockedHexAdjStates = find_blockedHexAdjInds(photrats)\n",
    "\n",
    "blockedHexAdjInds = np.array(blockedHexAdjInds)[np.where(~np.isnan(blockedHexAdjInds))]\n",
    "adjHexInds = np.array(adjHexInds)[np.where(~np.isnan(adjHexInds))]\n",
    "adjHexInds = adjHexInds[adjHexInds!=-1]\n",
    "blockedHexAdjInds = blockedHexAdjInds[blockedHexAdjInds!=-1]\n",
    "\n",
    "newHexAdjInds,newHexAdjStates,enteredHex,enteredHexSoon = find_newHexAdjInds(photrats)\n",
    "enteredInds,ignoredInds = find_enteredVignoredNewlyAvailInds(newHexAdjInds,enteredHex)\n",
    "enteredInds = np.array(enteredInds)\n",
    "ignoredInds = np.array(ignoredInds)"
   ]
  },
  {
   "cell_type": "code",
   "execution_count": 86,
   "id": "ecddcf89",
   "metadata": {},
   "outputs": [],
   "source": [
    "photrats.set_plot_trace(\"green_z_scored\")"
   ]
  },
  {
   "cell_type": "code",
   "execution_count": 618,
   "id": "4e8bb3e7",
   "metadata": {},
   "outputs": [],
   "source": [
    "availMeans,_ = calc_DaPeakDiffAfterNewPathInds(photrats,np.concatenate([enteredInds,ignoredInds]))"
   ]
  },
  {
   "cell_type": "code",
   "execution_count": 115,
   "id": "50b4a163",
   "metadata": {},
   "outputs": [],
   "source": [
    "blockedMeans,missingInd = calc_DaPeakDiffAfterNewPathInds(photrats,blockedHexAdjInds)"
   ]
  },
  {
   "cell_type": "code",
   "execution_count": 118,
   "id": "011fab7b",
   "metadata": {},
   "outputs": [
    {
     "name": "stdout",
     "output_type": "stream",
     "text": [
      "p-value =  0.001953125\n"
     ]
    },
    {
     "data": {
      "text/plain": [
       "(False, True, True)"
      ]
     },
     "execution_count": 118,
     "metadata": {},
     "output_type": "execute_result"
    }
   ],
   "source": [
    "get_sigRatsPaired_from2samples(tracePeakRatMeans,blockedMeans,\"greater\")"
   ]
  },
  {
   "cell_type": "code",
   "execution_count": 94,
   "id": "62c241e7",
   "metadata": {},
   "outputs": [
    {
     "name": "stdout",
     "output_type": "stream",
     "text": [
      "blocked hex: \n",
      "avail hex: \n",
      "paired test\n",
      "p-value =  0.0009765625\n"
     ]
    }
   ],
   "source": [
    "fig = plot_meanRatDaChangeAfterHexEntry(photrats,np.concatenate([enteredInds,ignoredInds]),\\\n",
    "                                        blockedHexAdjInds,pltCol1=\"deeppink\",pltCol2=\"k\")\n",
    "plt.xticks([0,1],[\"newly\\navailable\",\"newly\\nblocked\"])\n",
    "plt.tight_layout()"
   ]
  },
  {
   "cell_type": "code",
   "execution_count": 102,
   "id": "c05ad886",
   "metadata": {},
   "outputs": [
    {
     "name": "stdout",
     "output_type": "stream",
     "text": [
      "0.001953125\n"
     ]
    },
    {
     "data": {
      "text/plain": [
       "(False, True, True)"
      ]
     },
     "execution_count": 102,
     "metadata": {},
     "output_type": "execute_result"
    }
   ],
   "source": [
    "get_sigRats_fromMeanList(availMeans)"
   ]
  },
  {
   "cell_type": "code",
   "execution_count": 149,
   "id": "406e9bdb",
   "metadata": {},
   "outputs": [],
   "source": [
    "fig = plot_FirstEntryHexChange(photrats,np.concatenate([enteredInds,ignoredInds]),blockedHexAdjInds,legend_on=False)"
   ]
  },
  {
   "cell_type": "markdown",
   "id": "b5a21ec6",
   "metadata": {},
   "source": [
    "- plot DA aligned to new hex discovery pooled by whether rat entered or ignored new path"
   ]
  },
  {
   "cell_type": "code",
   "execution_count": 29,
   "id": "e9109f12",
   "metadata": {},
   "outputs": [],
   "source": [
    "photrats.set_plot_trace(\"green_z_scored\")\n",
    "fig = plotFirstAdjEntryByEnteredVsIgnored(photrats,enteredInds,ignoredInds,legend_on=True,pltCol1=\"#27aeef\",pltCol2= \"#b33dc6\",ls2='-')\n",
    "plt.ylim(-.9,2.2)"
   ]
  },
  {
   "cell_type": "code",
   "execution_count": 73,
   "id": "ca66e7b3",
   "metadata": {},
   "outputs": [],
   "source": [
    "ignoredInclusionRats = np.array(list(ignored_n_PerRat.keys()))[np.where(np.array(list(ignored_n_PerRat.values()))>=3)]\n",
    "inclusionInds = photrats.df.loc[photrats.df.rat.isin(ignoredInclusionRats)].index\n",
    "ignoredInds2include = ignoredInds[np.where(np.isin(ignoredInds,inclusionInds))]"
   ]
  },
  {
   "cell_type": "code",
   "execution_count": null,
   "id": "60c241d7",
   "metadata": {
    "tags": []
   },
   "outputs": [],
   "source": [
    "fig = plot_meanRatDaChangeAfterHexEntry(photrats,enteredInds,ignoredInds)\n",
    "plt.xticks([0,1],[\"entered\\navail\",\"ignored\\navail\"])\n",
    "plt.tight_layout()"
   ]
  },
  {
   "cell_type": "markdown",
   "id": "c511bd2d",
   "metadata": {},
   "source": [
    "- calculate difference in average rat DA trace (peak DA within 0.5s after hex entry - DA 1s before hex entry)"
   ]
  },
  {
   "cell_type": "code",
   "execution_count": 606,
   "id": "eaba2c1d",
   "metadata": {},
   "outputs": [],
   "source": [
    "photrats.set_plot_trace(\"green_z_scored\")"
   ]
  },
  {
   "cell_type": "code",
   "execution_count": 607,
   "id": "7a4024e1",
   "metadata": {
    "tags": []
   },
   "outputs": [],
   "source": [
    "fig,availratmeans,avail_n_PerRat = plot_ratTracesAtHexChangeDiscovery(photrats,np.concatenate([enteredInds,ignoredInds]),pltCol=\"deeppink\")\n",
    "\n",
    "fig,blockedratmeans,blocked_n_PerRat = plot_ratTracesAtHexChangeDiscovery(photrats,blockedHexAdjInds)\n",
    "\n",
    "with open(photrats.directory_prefix+\"availPathNumbers.txt\", 'w') as f:\n",
    "        f.write(str(avail_n_PerRat))\n",
    "with open(photrats.directory_prefix+\"blockedPathNumbers.txt\", 'w') as f:\n",
    "        f.write(str(blocked_n_PerRat))\n",
    "fig = plotFirstEntryHexChangeMeanOverRats(photrats,availratmeans,blockedratmeans,ls2=':')\n",
    "\n"
   ]
  },
  {
   "cell_type": "code",
   "execution_count": 165,
   "id": "019cc127",
   "metadata": {},
   "outputs": [],
   "source": [
    "fig = plotFirstEntryHexChangeMeanOverRats(photrats,availratmeans,blockedratmeans,ls2=':')"
   ]
  },
  {
   "cell_type": "code",
   "execution_count": 174,
   "id": "82dd4a09",
   "metadata": {},
   "outputs": [
    {
     "data": {
      "text/plain": [
       "['IM-1272', 'IM-1276', 'IM-1292', 'IM-1322', 'IM-1478']"
      ]
     },
     "execution_count": 174,
     "metadata": {},
     "output_type": "execute_result"
    }
   ],
   "source": [
    "ratsWithOkNum = [rat for rat in ignored_n_PerRat.keys() if ignored_n_PerRat[rat]>=3]"
   ]
  },
  {
   "cell_type": "code",
   "execution_count": 195,
   "id": "118b7bc6",
   "metadata": {
    "tags": []
   },
   "outputs": [
    {
     "name": "stderr",
     "output_type": "stream",
     "text": [
      "/Users/timkrausz/opt/anaconda3/lib/python3.8/site-packages/numpy/core/fromnumeric.py:3419: RuntimeWarning: Mean of empty slice.\n",
      "  return _methods._mean(a, axis=axis, dtype=dtype,\n",
      "/Users/timkrausz/opt/anaconda3/lib/python3.8/site-packages/numpy/core/_methods.py:188: RuntimeWarning: invalid value encountered in double_scalars\n",
      "  ret = ret.dtype.type(ret / rcount)\n"
     ]
    }
   ],
   "source": [
    "fig,enteredratmeans,entered_n_PerRat = plot_ratTracesAtHexChangeDiscovery(photrats,enteredInds,pltCol=\"#27aeef\")\n",
    "fig,ignoredratmeans,ignored_n_PerRat = plot_ratTracesAtHexChangeDiscovery(photrats,ignoredInds,pltCol=\"#b33dc6\")\n",
    "with open(photrats.directory_prefix+\"enteredPathNumbers.txt\", 'w') as f:\n",
    "        f.write(str(entered_n_PerRat))\n",
    "with open(photrats.directory_prefix+\"ignoredPathNumbers.txt\", 'w') as f:\n",
    "        f.write(str(ignored_n_PerRat))\n",
    "fig = plotFirstEntryHexChangeMeanOverRats(photrats,enteredratmeans,ignoredratmeans,pltCol1=\"#27aeef\",pltCol2=\"#b33dc6\")"
   ]
  },
  {
   "cell_type": "markdown",
   "id": "a04fdc2f",
   "metadata": {},
   "source": [
    "# plot single trial examples of maze configurations and tick plots."
   ]
  },
  {
   "cell_type": "code",
   "execution_count": null,
   "id": "845cffa5",
   "metadata": {
    "tags": []
   },
   "outputs": [],
   "source": [
    "plot_posOverlayAndTickPlot(photrats,s=99,posColor='cyan',edgCol='none',saveFig=True,\\\n",
    "                           secondHalf=True,plotOverlay=True,plotProbs=True,trans=0.1,vmin=1,vmax=8,density=False,blks=[1,2])"
   ]
  }
 ],
 "metadata": {
  "kernelspec": {
   "display_name": "Python 3",
   "language": "python",
   "name": "python3"
  },
  "language_info": {
   "codemirror_mode": {
    "name": "ipython",
    "version": 3
   },
   "file_extension": ".py",
   "mimetype": "text/x-python",
   "name": "python",
   "nbconvert_exporter": "python",
   "pygments_lexer": "ipython3",
   "version": "3.8.8"
  }
 },
 "nbformat": 4,
 "nbformat_minor": 5
}
