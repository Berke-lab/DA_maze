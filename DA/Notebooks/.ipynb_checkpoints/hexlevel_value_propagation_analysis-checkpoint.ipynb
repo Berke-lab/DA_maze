{
 "cells": [
  {
   "cell_type": "code",
   "execution_count": 1,
   "id": "e39afdff-7047-45a0-9156-391a8d92c112",
   "metadata": {},
   "outputs": [],
   "source": [
    "import sys\n",
    "sys.path.insert(0, '/Users/timkrausz/Documents/GitHub/DA_maze_paper/DA/Modules/')"
   ]
  },
  {
   "cell_type": "code",
   "execution_count": 2,
   "id": "5e3a018a-9b0a-4a66-8195-c84fb854d90a",
   "metadata": {},
   "outputs": [],
   "source": [
    "import numpy as np\n",
    "import matplotlib.pyplot as plt\n",
    "import pandas as pd\n",
    "import seaborn as sns\n",
    "sns.set()\n",
    "plt.style.use('default')\n",
    "plt.style.use(\"seaborn-poster\")\n",
    "from multi_rat_da import *\n",
    "from hexLevelAnalyses import *\n",
    "from photometryQuantifications import *\n",
    "%matplotlib qt"
   ]
  },
  {
   "cell_type": "markdown",
   "id": "f5e979d3-76f1-4b12-9037-a32f5952a8ba",
   "metadata": {},
   "source": [
    "# load dataframe and create object with relevant initial attributes"
   ]
  },
  {
   "cell_type": "code",
   "execution_count": 3,
   "id": "9ebae7e7-ccbf-466a-afee-a84ab9b4371b",
   "metadata": {},
   "outputs": [
    {
     "name": "stdout",
     "output_type": "stream",
     "text": [
      "Memory usage of dataframe is 52.45 MB\n",
      "Memory usage after optimization is: 12.54 MB\n",
      "Decreased by 76.1%\n"
     ]
    }
   ],
   "source": [
    "hexData = PhotRats(None)\n",
    "# the directory containing your dataframe\n",
    "loadpath = \"/Volumes/Tim/Photometry/10MfRatDataSet/data4sharing/\"\n",
    "datName = \"hexLevelDf\"\n",
    "hexData.df = reduce_mem_usage(pd.read_csv(loadpath+datName+\".csv\",index_col=[0]))\n",
    "hexData.directory_prefix = loadpath"
   ]
  },
  {
   "cell_type": "markdown",
   "id": "53c8a6ff-4e3b-450f-a2ac-fffdd887b4f0",
   "metadata": {},
   "source": [
    "### generate port-level q values if needed (requires parameters to have been optimized previously in julia)"
   ]
  },
  {
   "cell_type": "code",
   "execution_count": null,
   "id": "cbbce2fe-91d0-44c1-a26a-2de068a03c4c",
   "metadata": {},
   "outputs": [],
   "source": [
    "create_tridf(hexData)\n",
    "hexData.triframe = hexData.tridf.copy()\n",
    "del hexData.tridf\n",
    "hexData.triframe.loc[:,\"lrchoice\"] = make_lr(hexData.triframe.port.values)\n",
    "hexData.get_portQvals(qtype=\"port\",level=\"rat\")\n",
    "hexData.bin_size = 1"
   ]
  },
  {
   "cell_type": "markdown",
   "id": "3da5f060-15ce-40fe-8ad3-bed4c9d46792",
   "metadata": {},
   "source": [
    "# plot hex-level ramps under different conditions"
   ]
  },
  {
   "cell_type": "code",
   "execution_count": 140,
   "id": "ecdf60ab-dd8e-4ac4-997e-9345e673a1ab",
   "metadata": {},
   "outputs": [],
   "source": [
    "fig = plot_hexRamp(hexData,ylim=[-.17,0.47])\n",
    "fig.savefig(hexData.directory_prefix+\"/hexRamp_mapDist.pdf\")"
   ]
  },
  {
   "cell_type": "code",
   "execution_count": 16,
   "id": "492d2c42-6003-410e-a068-74ab76b7f7b5",
   "metadata": {
    "tags": []
   },
   "outputs": [],
   "source": [
    "fig = plot_hexRampByPrwd(hexData,stHex=14,ylim=[-.17,0.47])\n",
    "fig.savefig(hexData.directory_prefix+\"hexRampByPrwd2ndHalf_mapDist.pdf\")"
   ]
  },
  {
   "cell_type": "code",
   "execution_count": 14,
   "id": "b1cd15aa-dd2e-443b-9ae0-6e8df916e7cc",
   "metadata": {},
   "outputs": [],
   "source": [
    "fig = plot_hexRampByPrwd(hexData,var='vel',stHex=14,ylim=[10,50])\n",
    "fig.savefig(hexData.directory_prefix+\"hexSpeedRampByPrwd2ndHalf_mapDist.pdf\")"
   ]
  },
  {
   "cell_type": "markdown",
   "id": "4e4be84e-919a-4fb7-aa28-96bd5d79df79",
   "metadata": {},
   "source": [
    "# compute effects of prior reward at chosen port, other port, and previous port, on DA in each hex during port-approach"
   ]
  },
  {
   "cell_type": "code",
   "execution_count": 21,
   "id": "1fd74245-e464-4f0b-a4df-fef41c92c15d",
   "metadata": {},
   "outputs": [],
   "source": [
    "create_tridf(hexData)\n",
    "\n",
    "get_portHist(hexData)\n",
    "\n",
    "get_back2samePortTrials(hexData)\n",
    "\n",
    "add_rewardLagColumns2Df(hexData,lags=5)\n",
    "\n",
    "add_pathSpecificRwdLagColumns2Df(hexData,lags=5)\n",
    "\n",
    "add_pathSimilarity2df(hexData)\n",
    "\n",
    "add_otherPortPriorRewardOutcome(hexData)\n",
    "\n",
    "add_lastRewardColumn(hexData)"
   ]
  },
  {
   "cell_type": "code",
   "execution_count": null,
   "id": "d8032889-be34-451a-afd3-6b7a3def137f",
   "metadata": {},
   "outputs": [],
   "source": [
    "fig = plotDaChosenVotherVlastRegInSpace(hexData)"
   ]
  },
  {
   "cell_type": "markdown",
   "id": "d2b87c5f-d8e8-443a-916e-f86dcad6c938",
   "metadata": {},
   "source": [
    "# plot average of 0100 reward sequence"
   ]
  },
  {
   "cell_type": "code",
   "execution_count": null,
   "id": "b98d9776-4bd6-4244-9e7d-387923150bd9",
   "metadata": {},
   "outputs": [],
   "source": [
    "rewardPattern = [0,1,0,0] # set this here for use throughout notebook"
   ]
  },
  {
   "cell_type": "code",
   "execution_count": 114,
   "id": "25c0b935-42e8-4bae-8693-db45c1618fb4",
   "metadata": {},
   "outputs": [
    {
     "data": {
      "text/plain": [
       "Text(0.5, 0.98, '247 [0, 1, 0, 0] sequences')"
      ]
     },
     "execution_count": 114,
     "metadata": {},
     "output_type": "execute_result"
    }
   ],
   "source": [
    "rPat = rewardPattern\n",
    "entries = get_entriesByRwdSeq(hexData.df,rwd_pattern=rPat,stHex=10,alongPath=True,altPath=False,getPriorTri=False)\n",
    "fig = plot_traceByRwdSeq(rPat,entries,stHex=10,fsize=[4.5,6])\n",
    "plt.suptitle(str(np.shape(entries)[1])+\" \"+str(rPat)+\" sequences\")"
   ]
  },
  {
   "cell_type": "code",
   "execution_count": 115,
   "id": "8182d3f3-1abd-4df6-b4b4-264d28062ca4",
   "metadata": {},
   "outputs": [],
   "source": [
    "fig.savefig(hexData.directory_prefix+\"avgTraces_0100Pattern_samePath_mapDist.pdf\")"
   ]
  },
  {
   "cell_type": "markdown",
   "id": "5ad49661-95c0-4c35-84a7-3bd4da51df95",
   "metadata": {},
   "source": [
    "# plot ramp increases and decreases from a single reward or omission"
   ]
  },
  {
   "cell_type": "markdown",
   "id": "2810d9b1-e65c-4d1f-a534-1fd21ed02b66",
   "metadata": {},
   "source": [
    "- plot result for each rat, where rat previously took any path to the reward port\n",
    "- rpat specifies the reward pattern [reward outcome on t-2, reward outcome on t-1]"
   ]
  },
  {
   "cell_type": "code",
   "execution_count": 119,
   "id": "382dbc49-4ab6-44c4-8b83-0e122e112dc7",
   "metadata": {},
   "outputs": [],
   "source": [
    "rPat = [0,1]\n",
    "for rat in hexData.df.loc[:,\"rat\"].unique():\n",
    "    entries = get_entriesByRwdSeq(hexData.df.loc[hexData.df.rat==rat,:],rwd_pattern=rPat,alongPath=False,getPriorTri=True)\n",
    "    fig = plot_traceByRwdSeq(rPat,entries,fsize=[4.5,6],ylim=[None,None])\n",
    "    plt.suptitle(str(np.shape(entries)[1])+\" \"+str(rPat)+\" sequences for \"+rat)\n",
    "    plt.tight_layout()\n",
    "    plt.subplots_adjust(hspace=0.0)\n",
    "    fig.savefig(hexData.directory_prefix+\"/dataByRat/\"+rat+\"rampByRwdSeq_mapDist\"+str(rPat)+\".pdf\")"
   ]
  },
  {
   "cell_type": "markdown",
   "id": "05eb3432-b505-44ac-9524-7220307bacdd",
   "metadata": {},
   "source": [
    "# plot averages over rats under specified conditions\n",
    "- if altPath, plot traces when rat previously took alternative path\n",
    "- if alongPath, plot traces when rat previously took same path\n",
    "- if both False, plot traces when rat previously took any path to the current port\n",
    "- rpat specifies the reward pattern [reward outcome on t-2, reward outcome on t-1]"
   ]
  },
  {
   "cell_type": "code",
   "execution_count": null,
   "id": "84df1aae-b7e6-4744-82fd-573e8a111170",
   "metadata": {},
   "outputs": [],
   "source": [
    "plot_rampSequenceRatAvg(hexData,rPat=[0,1],altPath=False,alongPath=False)"
   ]
  },
  {
   "cell_type": "markdown",
   "id": "80b64d9d-149e-4577-b0b0-3a80c0717ed8",
   "metadata": {},
   "source": [
    "## plot distance of peak reward effect"
   ]
  },
  {
   "cell_type": "code",
   "execution_count": null,
   "id": "18db87e2-cf50-4cc4-9f03-d9d531474da6",
   "metadata": {},
   "outputs": [],
   "source": [
    "plot_distOfPeakRwdEffect(hexData,hbin=2)"
   ]
  },
  {
   "cell_type": "markdown",
   "id": "f57833a6-1716-452a-98d8-07c148b75837",
   "metadata": {},
   "source": [
    "## Remove avg ramp, scale and subtract from individual-run DA, compute null residuals, and assess significance at each hex along the path"
   ]
  },
  {
   "cell_type": "markdown",
   "id": "cd60ddb8-83ad-45cd-af10-81f6d33c4352",
   "metadata": {},
   "source": [
    "- calculate average ramps for scaling"
   ]
  },
  {
   "cell_type": "code",
   "execution_count": null,
   "id": "48c7c1de-e252-4d35-b9ea-b7be76d0ff2d",
   "metadata": {},
   "outputs": [],
   "source": [
    "calc_hexRampRatDict(hexData,stHex=10)"
   ]
  },
  {
   "cell_type": "markdown",
   "id": "7045fb00-b9f7-40d1-9a50-9e9f3fcf4ab7",
   "metadata": {},
   "source": [
    "- calculate residuals for same reward pattern as earlier plots"
   ]
  },
  {
   "cell_type": "code",
   "execution_count": 164,
   "id": "444ef234-d3c8-46de-80fa-409c7cb97eb8",
   "metadata": {},
   "outputs": [],
   "source": [
    "rpat = rewardPattern\n",
    "rwd_pattern_inds,rat_IDs = getRwdPatternInds(hexData.df.copy(),rpat,alongPath=True,getPriorTri=True)\n",
    "stHex=10\n",
    "residuals = [[] for _ in range(len(rpat)+1)]\n",
    "for patternedEntryInds,rat in zip(rwd_pattern_inds,rat_IDs):\n",
    "    for e in range(len(residuals)):\n",
    "        trace = hexData.df.loc[patternedEntryInds[e]-stHex:\\\n",
    "                                    patternedEntryInds[e],\"DA\"].values\n",
    "        residuals[e].append(calcRampResiduals(hexData,rat,trace))"
   ]
  },
  {
   "cell_type": "markdown",
   "id": "272d0a2e-9c06-4826-b8c2-192ca967a9c8",
   "metadata": {},
   "source": [
    "- perform 1000 shuffles of reward sequence from same data subset, and compute null residuals for each"
   ]
  },
  {
   "cell_type": "code",
   "execution_count": 196,
   "id": "eaebe226-a569-4797-bfd9-a6b1c1d85db5",
   "metadata": {},
   "outputs": [],
   "source": [
    "nullResids = [get_NullResidualsByRwdSeq(hexData,[0,1,0,0],getPriorTri=True) for i in range(1000)]"
   ]
  },
  {
   "cell_type": "code",
   "execution_count": 204,
   "id": "494a662d-b6c3-41dc-a71b-f9c14869e5b3",
   "metadata": {},
   "outputs": [],
   "source": [
    "fig = plotResidualsByRwdSeq(hexData,rpat,residuals,nullResids,fsize=[7,10],stHex=10,linwid=9)"
   ]
  }
 ],
 "metadata": {
  "kernelspec": {
   "display_name": "Python 3",
   "language": "python",
   "name": "python3"
  },
  "language_info": {
   "codemirror_mode": {
    "name": "ipython",
    "version": 3
   },
   "file_extension": ".py",
   "mimetype": "text/x-python",
   "name": "python",
   "nbconvert_exporter": "python",
   "pygments_lexer": "ipython3",
   "version": "3.8.8"
  }
 },
 "nbformat": 4,
 "nbformat_minor": 5
}
