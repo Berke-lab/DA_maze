{
 "cells": [
  {
   "cell_type": "code",
   "execution_count": null,
   "id": "5e3a018a-9b0a-4a66-8195-c84fb854d90a",
   "metadata": {},
   "outputs": [],
   "source": [
    "import numpy as np\n",
    "import matplotlib.pyplot as plt\n",
    "import pandas as pd\n",
    "import seaborn as sns\n",
    "sns.set()\n",
    "plt.style.use('default')\n",
    "plt.style.use(\"seaborn-poster\")\n",
    "from combined_phot_funcs import *\n",
    "from hexLevelAnalyses import *\n",
    "from photometryQuantifications import *\n",
    "%matplotlib qt"
   ]
  },
  {
   "cell_type": "markdown",
   "id": "f5e979d3-76f1-4b12-9037-a32f5952a8ba",
   "metadata": {},
   "source": [
    "# load dataframe and create object with relevant initial attributes"
   ]
  },
  {
   "cell_type": "code",
   "execution_count": 2,
   "id": "9ebae7e7-ccbf-466a-afee-a84ab9b4371b",
   "metadata": {},
   "outputs": [
    {
     "name": "stdout",
     "output_type": "stream",
     "text": [
      "Memory usage of dataframe is 54.99 MB\n",
      "Memory usage after optimization is: 12.60 MB\n",
      "Decreased by 77.1%\n"
     ]
    }
   ],
   "source": [
    "hexData = PhotRats(None)\n",
    "loadpath = \"\"# the directory containing your dataframe\n",
    "datName = \"hexLevelDf\"\n",
    "hexData.df = reduce_mem_usage(pd.read_csv(loadpath+datName+\".csv\"))\n",
    "hexData.directory_prefix = loadpath"
   ]
  },
  {
   "cell_type": "markdown",
   "id": "53c8a6ff-4e3b-450f-a2ac-fffdd887b4f0",
   "metadata": {},
   "source": [
    "### generate port-level q values if needed (requires parameters to have been optimized previously in julia)"
   ]
  },
  {
   "cell_type": "code",
   "execution_count": null,
   "id": "cbbce2fe-91d0-44c1-a26a-2de068a03c4c",
   "metadata": {},
   "outputs": [],
   "source": [
    "create_tridf(hexData)\n",
    "hexData.triframe = hexData.tridf.copy()\n",
    "del hexData.tridf\n",
    "hexData.triframe.loc[:,\"lrchoice\"] = make_lr(hexData.triframe.port.values)\n",
    "hexData.get_portQvals(qtype=\"port\",level=\"rat\")\n",
    "hexData.bin_size = 1"
   ]
  },
  {
   "cell_type": "markdown",
   "id": "3da5f060-15ce-40fe-8ad3-bed4c9d46792",
   "metadata": {},
   "source": [
    "# plot hex-level ramps under different conditions"
   ]
  },
  {
   "cell_type": "code",
   "execution_count": 141,
   "id": "01e53eb1-929c-4728-b995-c13fbc466a58",
   "metadata": {},
   "outputs": [],
   "source": [
    "plt.close(\"all\")"
   ]
  },
  {
   "cell_type": "code",
   "execution_count": 140,
   "id": "ecdf60ab-dd8e-4ac4-997e-9345e673a1ab",
   "metadata": {},
   "outputs": [],
   "source": [
    "fig = plot_hexRamp(hexData,ylim=[-.17,0.47])\n",
    "fig.savefig(hexData.directory_prefix+\"/hexRamp_mapDist.pdf\")"
   ]
  },
  {
   "cell_type": "code",
   "execution_count": 16,
   "id": "492d2c42-6003-410e-a068-74ab76b7f7b5",
   "metadata": {
    "tags": []
   },
   "outputs": [],
   "source": [
    "fig = plot_hexRampByPrwd(hexData,stHex=14,ylim=[-.17,0.47])\n",
    "fig.savefig(hexData.directory_prefix+\"hexRampByPrwd2ndHalf_mapDist.pdf\")"
   ]
  },
  {
   "cell_type": "code",
   "execution_count": 14,
   "id": "b1cd15aa-dd2e-443b-9ae0-6e8df916e7cc",
   "metadata": {},
   "outputs": [],
   "source": [
    "fig = plot_hexRampByPrwd(hexData,var='vel',stHex=14,ylim=[10,50])\n",
    "fig.savefig(hexData.directory_prefix+\"hexSpeedRampByPrwd2ndHalf_mapDist.pdf\")"
   ]
  },
  {
   "cell_type": "markdown",
   "id": "4e4be84e-919a-4fb7-aa28-96bd5d79df79",
   "metadata": {},
   "source": [
    "# compute effects of prior reward at chosen port, other port, and previous port, on DA in each hex during port-approach"
   ]
  },
  {
   "cell_type": "code",
   "execution_count": 21,
   "id": "1fd74245-e464-4f0b-a4df-fef41c92c15d",
   "metadata": {},
   "outputs": [],
   "source": [
    "create_tridf(hexData)\n",
    "get_portHist(hexData)\n",
    "get_back2samePortTrials(hexData)\n",
    "add_rewardLagColumns2Df(hexData,lags=5)\n",
    "add_pathSpecificRwdLagColumns2Df(hexData,lags=5)\n",
    "add_pathSimilarity2df(hexData)\n",
    "add_otherPortPriorRewardOutcome(hexData)\n",
    "add_lastRewardColumn(hexData)"
   ]
  },
  {
   "cell_type": "code",
   "execution_count": 22,
   "id": "d8032889-be34-451a-afd3-6b7a3def137f",
   "metadata": {},
   "outputs": [
    {
     "name": "stderr",
     "output_type": "stream",
     "text": [
      "/Users/timkrausz/opt/anaconda3/lib/python3.8/site-packages/numpy/core/_methods.py:261: RuntimeWarning: Degrees of freedom <= 0 for slice\n",
      "  ret = _var(a, axis=axis, dtype=dtype, out=out, ddof=ddof,\n",
      "/Users/timkrausz/opt/anaconda3/lib/python3.8/site-packages/numpy/core/_methods.py:250: RuntimeWarning: invalid value encountered in true_divide\n",
      "  ret = um.true_divide(\n"
     ]
    }
   ],
   "source": [
    "fig = plotDaChosenVotherVlastRegInSpace(hexData)"
   ]
  },
  {
   "cell_type": "markdown",
   "id": "d2b87c5f-d8e8-443a-916e-f86dcad6c938",
   "metadata": {},
   "source": [
    "# plot average of 0100 reward sequence"
   ]
  },
  {
   "cell_type": "code",
   "execution_count": 114,
   "id": "25c0b935-42e8-4bae-8693-db45c1618fb4",
   "metadata": {},
   "outputs": [
    {
     "data": {
      "text/plain": [
       "Text(0.5, 0.98, '247 [0, 1, 0, 0] sequences')"
      ]
     },
     "execution_count": 114,
     "metadata": {},
     "output_type": "execute_result"
    }
   ],
   "source": [
    "rPat = [0,1,0,0]\n",
    "entries = get_entriesByRwdSeq(hexData.df,rwd_pattern=rPat,stHex=10,alongPath=True,altPath=False,getPriorTri=False)\n",
    "fig = plot_traceByRwdSeq(rPat,entries,stHex=10,fsize=[4.5,6])\n",
    "plt.suptitle(str(np.shape(entries)[1])+\" \"+str(rPat)+\" sequences\")"
   ]
  },
  {
   "cell_type": "code",
   "execution_count": 115,
   "id": "8182d3f3-1abd-4df6-b4b4-264d28062ca4",
   "metadata": {},
   "outputs": [],
   "source": [
    "fig.savefig(hexData.directory_prefix+\"avgTraces_0100Pattern_samePath_mapDist.pdf\")"
   ]
  },
  {
   "cell_type": "markdown",
   "id": "5ad49661-95c0-4c35-84a7-3bd4da51df95",
   "metadata": {},
   "source": [
    "# plot ramp increases and decreases from a single reward or omission"
   ]
  },
  {
   "cell_type": "markdown",
   "id": "2810d9b1-e65c-4d1f-a534-1fd21ed02b66",
   "metadata": {},
   "source": [
    "- plot result for each rat, where rat previously took any path to the reward port\n",
    "- rpat specifies the reward pattern [reward outcome on t-2, reward outcome on t-1]"
   ]
  },
  {
   "cell_type": "code",
   "execution_count": 119,
   "id": "382dbc49-4ab6-44c4-8b83-0e122e112dc7",
   "metadata": {},
   "outputs": [],
   "source": [
    "rPat = [0,1]\n",
    "for rat in hexData.df.loc[:,\"rat\"].unique():\n",
    "    entries = get_entriesByRwdSeq(hexData.df.loc[hexData.df.rat==rat,:],rwd_pattern=rPat,alongPath=False,getPriorTri=True)\n",
    "    fig = plot_traceByRwdSeq(rPat,entries,fsize=[4.5,6],ylim=[None,None])\n",
    "    plt.suptitle(str(np.shape(entries)[1])+\" \"+str(rPat)+\" sequences for \"+rat)\n",
    "    plt.tight_layout()\n",
    "    plt.subplots_adjust(hspace=0.0)\n",
    "    fig.savefig(hexData.directory_prefix+\"/dataByRat/\"+rat+\"rampByRwdSeq_mapDist\"+str(rPat)+\".pdf\")"
   ]
  },
  {
   "cell_type": "markdown",
   "id": "05eb3432-b505-44ac-9524-7220307bacdd",
   "metadata": {},
   "source": [
    "# plot averages over rats under specified conditions\n",
    "- if altPath, plot traces when rat previously took alternative path\n",
    "- if alongPath, plot traces when rat previously took same path\n",
    "- if both False, plot traces when rat previously took any path to the current port\n",
    "- rpat specifies the reward pattern [reward outcome on t-2, reward outcome on t-1]"
   ]
  },
  {
   "cell_type": "code",
   "execution_count": 208,
   "id": "4f9d4a45-bd08-4bb1-8a7b-4ace2cc6169a",
   "metadata": {},
   "outputs": [
    {
     "data": {
      "text/plain": [
       "1935"
      ]
     },
     "execution_count": 208,
     "metadata": {},
     "output_type": "execute_result"
    }
   ],
   "source": [
    "alphaVal = 0.05\n",
    "altPath = False\n",
    "alongPath = False#not altPath\n",
    "rPat = [0,1]\n",
    "entriesByRat = np.zeros((len(rPat),9,16))\n",
    "totEntries = 0\n",
    "for r in range(len(hexData.df.loc[:,\"rat\"].unique())):\n",
    "    rat = hexData.df.loc[:,\"rat\"].unique()[r]\n",
    "    entries = get_entriesByRwdSeq(hexData.df.loc[hexData.df.rat==rat,:],rwd_pattern=rPat,alongPath=alongPath,altPath=altPath,getPriorTri=False)\n",
    "    totEntries += np.shape(entries)[1]\n",
    "    entriesByRat[:,r,:] = np.mean(entries,axis=1)\n",
    "fig = plot_traceByRwdSeq(rPat,entriesByRat,pltError=True,fsize=[6.5,5],ylim=[-.197,.51])\n",
    "entryDifs = calcDifInTracesByRwdSeq(entriesByRat)\n",
    "if rPat[-1]>0:\n",
    "    sigInds = np.arange(-15,1)[calcSigDifVs0Vector_usingWSR(entryDifs[0].T,greater=True)<alphaVal]\n",
    "else:\n",
    "    sigInds = np.arange(-15,1)[calcSigDifVs0Vector_usingWSR(entryDifs[0].T,less=True)<alphaVal]\n",
    "for i in sigInds:\n",
    "    plt.text(x=i-.1, y=0.35, s='*',fontweight='bold',fontsize='x-large')\n",
    "if altPath:\n",
    "    pathSpecString = \"altPathOnly\"\n",
    "elif alongPath:\n",
    "    pathSpecString = \"samePathOnly\"\n",
    "else:\n",
    "    pathSpecString = \"anyPath\"\n",
    "plt.suptitle(str(rPat)+\" sequence averaged over rats\\n\"+pathSpecString+\"; n = \"+str(totEntries)+\" events\")\n",
    "plt.tight_layout()\n",
    "fig.savefig(hexData.directory_prefix+\"rampBy\"+str(rPat)+\"RwdSeq_\"+pathSpecString+\"_RatAvg_mapDist.pdf\")\n",
    "#plt.subplots_adjust(hspace=0.2)\n",
    "fig2 = plotDifInTracesByRwdSeq(rPat,entries,remove_mean=False,pltError=True,linwid=4)\n",
    "plt.subplots_adjust(hspace=0.0)\n",
    "fig2.savefig(hexData.directory_prefix+\"rampDifsBy\"+str(rPat)+\"RwdSeqPathIdpt_\"+pathSpecString+\"_RatAvg_mapDist.pdf\")\n",
    "totEntries"
   ]
  },
  {
   "cell_type": "markdown",
   "id": "f57833a6-1716-452a-98d8-07c148b75837",
   "metadata": {},
   "source": [
    "### compute null residuals and assess significance at each hex along the path"
   ]
  },
  {
   "cell_type": "code",
   "execution_count": 196,
   "id": "eaebe226-a569-4797-bfd9-a6b1c1d85db5",
   "metadata": {},
   "outputs": [],
   "source": [
    "nullResids = [get_NullResidualsByRwdSeq(hexData,[0,1,0,0],getPriorTri=True) for i in range(1000)]"
   ]
  },
  {
   "cell_type": "code",
   "execution_count": 191,
   "id": "20198806-6a01-4023-ad06-b42a615546f1",
   "metadata": {
    "collapsed": true,
    "jupyter": {
     "outputs_hidden": true
    },
    "tags": []
   },
   "outputs": [
    {
     "ename": "KeyboardInterrupt",
     "evalue": "",
     "output_type": "error",
     "traceback": [
      "\u001b[0;31m---------------------------------------------------------------------------\u001b[0m",
      "\u001b[0;31mKeyboardInterrupt\u001b[0m                         Traceback (most recent call last)",
      "\u001b[0;32m<ipython-input-191-e81af8f109ad>\u001b[0m in \u001b[0;36m<module>\u001b[0;34m\u001b[0m\n\u001b[1;32m      1\u001b[0m \u001b[0mnullResids\u001b[0m \u001b[0;34m=\u001b[0m \u001b[0;34m[\u001b[0m\u001b[0;34m]\u001b[0m\u001b[0;34m\u001b[0m\u001b[0;34m\u001b[0m\u001b[0m\n\u001b[1;32m      2\u001b[0m \u001b[0;32mfor\u001b[0m \u001b[0mi\u001b[0m \u001b[0;32min\u001b[0m \u001b[0mrange\u001b[0m\u001b[0;34m(\u001b[0m\u001b[0;36m100\u001b[0m\u001b[0;34m)\u001b[0m\u001b[0;34m:\u001b[0m\u001b[0;34m\u001b[0m\u001b[0;34m\u001b[0m\u001b[0m\n\u001b[0;32m----> 3\u001b[0;31m     \u001b[0mnullResids\u001b[0m \u001b[0;34m=\u001b[0m \u001b[0mnullResids\u001b[0m \u001b[0;34m+\u001b[0m \u001b[0;34m[\u001b[0m\u001b[0mget_NullResidualsByRwdSeq\u001b[0m\u001b[0;34m(\u001b[0m\u001b[0mhexData\u001b[0m\u001b[0;34m,\u001b[0m\u001b[0;34m[\u001b[0m\u001b[0;36m0\u001b[0m\u001b[0;34m,\u001b[0m\u001b[0;36m1\u001b[0m\u001b[0;34m,\u001b[0m\u001b[0;36m0\u001b[0m\u001b[0;34m,\u001b[0m\u001b[0;36m0\u001b[0m\u001b[0;34m]\u001b[0m\u001b[0;34m,\u001b[0m\u001b[0mgetPriorTri\u001b[0m\u001b[0;34m=\u001b[0m\u001b[0;32mTrue\u001b[0m\u001b[0;34m)\u001b[0m \u001b[0;32mfor\u001b[0m \u001b[0mi\u001b[0m \u001b[0;32min\u001b[0m \u001b[0mrange\u001b[0m\u001b[0;34m(\u001b[0m\u001b[0;36m100\u001b[0m\u001b[0;34m)\u001b[0m\u001b[0;34m]\u001b[0m\u001b[0;34m\u001b[0m\u001b[0;34m\u001b[0m\u001b[0m\n\u001b[0m",
      "\u001b[0;32m<ipython-input-191-e81af8f109ad>\u001b[0m in \u001b[0;36m<listcomp>\u001b[0;34m(.0)\u001b[0m\n\u001b[1;32m      1\u001b[0m \u001b[0mnullResids\u001b[0m \u001b[0;34m=\u001b[0m \u001b[0;34m[\u001b[0m\u001b[0;34m]\u001b[0m\u001b[0;34m\u001b[0m\u001b[0;34m\u001b[0m\u001b[0m\n\u001b[1;32m      2\u001b[0m \u001b[0;32mfor\u001b[0m \u001b[0mi\u001b[0m \u001b[0;32min\u001b[0m \u001b[0mrange\u001b[0m\u001b[0;34m(\u001b[0m\u001b[0;36m100\u001b[0m\u001b[0;34m)\u001b[0m\u001b[0;34m:\u001b[0m\u001b[0;34m\u001b[0m\u001b[0;34m\u001b[0m\u001b[0m\n\u001b[0;32m----> 3\u001b[0;31m     \u001b[0mnullResids\u001b[0m \u001b[0;34m=\u001b[0m \u001b[0mnullResids\u001b[0m \u001b[0;34m+\u001b[0m \u001b[0;34m[\u001b[0m\u001b[0mget_NullResidualsByRwdSeq\u001b[0m\u001b[0;34m(\u001b[0m\u001b[0mhexData\u001b[0m\u001b[0;34m,\u001b[0m\u001b[0;34m[\u001b[0m\u001b[0;36m0\u001b[0m\u001b[0;34m,\u001b[0m\u001b[0;36m1\u001b[0m\u001b[0;34m,\u001b[0m\u001b[0;36m0\u001b[0m\u001b[0;34m,\u001b[0m\u001b[0;36m0\u001b[0m\u001b[0;34m]\u001b[0m\u001b[0;34m,\u001b[0m\u001b[0mgetPriorTri\u001b[0m\u001b[0;34m=\u001b[0m\u001b[0;32mTrue\u001b[0m\u001b[0;34m)\u001b[0m \u001b[0;32mfor\u001b[0m \u001b[0mi\u001b[0m \u001b[0;32min\u001b[0m \u001b[0mrange\u001b[0m\u001b[0;34m(\u001b[0m\u001b[0;36m100\u001b[0m\u001b[0;34m)\u001b[0m\u001b[0;34m]\u001b[0m\u001b[0;34m\u001b[0m\u001b[0;34m\u001b[0m\u001b[0m\n\u001b[0m",
      "\u001b[0;32m<ipython-input-161-163cad0d9e13>\u001b[0m in \u001b[0;36mget_NullResidualsByRwdSeq\u001b[0;34m(hexData, rwd_pattern, stHex, getPriorTri)\u001b[0m\n\u001b[1;32m      2\u001b[0m     '''Fit ramp to individusl traces in each reward pattern, subtract\n\u001b[1;32m      3\u001b[0m     fitted ramps, and return residuals.'''\n\u001b[0;32m----> 4\u001b[0;31m     \u001b[0mshuff_pattern_inds\u001b[0m\u001b[0;34m,\u001b[0m\u001b[0mrat_IDs\u001b[0m \u001b[0;34m=\u001b[0m \u001b[0mgetShuffledRwdPatternInds\u001b[0m\u001b[0;34m(\u001b[0m\u001b[0mhexData\u001b[0m\u001b[0;34m.\u001b[0m\u001b[0mdf\u001b[0m\u001b[0;34m.\u001b[0m\u001b[0mcopy\u001b[0m\u001b[0;34m(\u001b[0m\u001b[0;34m)\u001b[0m\u001b[0;34m,\u001b[0m\u001b[0mrwd_pattern\u001b[0m\u001b[0;34m,\u001b[0m\u001b[0mgetPriorTri\u001b[0m\u001b[0;34m)\u001b[0m\u001b[0;34m\u001b[0m\u001b[0;34m\u001b[0m\u001b[0m\n\u001b[0m\u001b[1;32m      5\u001b[0m \u001b[0;34m\u001b[0m\u001b[0m\n\u001b[1;32m      6\u001b[0m     \u001b[0mNull_residuals\u001b[0m \u001b[0;34m=\u001b[0m \u001b[0;34m[\u001b[0m\u001b[0;34m[\u001b[0m\u001b[0;34m]\u001b[0m \u001b[0;32mfor\u001b[0m \u001b[0m_\u001b[0m \u001b[0;32min\u001b[0m \u001b[0mrange\u001b[0m\u001b[0;34m(\u001b[0m\u001b[0mlen\u001b[0m\u001b[0;34m(\u001b[0m\u001b[0mrwd_pattern\u001b[0m\u001b[0;34m)\u001b[0m\u001b[0;34m+\u001b[0m\u001b[0mint\u001b[0m\u001b[0;34m(\u001b[0m\u001b[0mgetPriorTri\u001b[0m\u001b[0;34m)\u001b[0m\u001b[0;34m)\u001b[0m\u001b[0;34m]\u001b[0m\u001b[0;34m\u001b[0m\u001b[0;34m\u001b[0m\u001b[0m\n",
      "\u001b[0;32m<ipython-input-161-163cad0d9e13>\u001b[0m in \u001b[0;36mgetShuffledRwdPatternInds\u001b[0;34m(hexDf, rwd_pattern, getPriorTri)\u001b[0m\n\u001b[1;32m     46\u001b[0m     \u001b[0;32mfor\u001b[0m \u001b[0ms\u001b[0m \u001b[0;32min\u001b[0m \u001b[0mhexDf\u001b[0m\u001b[0;34m.\u001b[0m\u001b[0msession\u001b[0m\u001b[0;34m.\u001b[0m\u001b[0munique\u001b[0m\u001b[0;34m(\u001b[0m\u001b[0;34m)\u001b[0m\u001b[0;34m:\u001b[0m\u001b[0;34m\u001b[0m\u001b[0;34m\u001b[0m\u001b[0m\n\u001b[1;32m     47\u001b[0m         \u001b[0;32mfor\u001b[0m \u001b[0mb\u001b[0m \u001b[0;32min\u001b[0m \u001b[0mhexDf\u001b[0m\u001b[0;34m.\u001b[0m\u001b[0mloc\u001b[0m\u001b[0;34m[\u001b[0m\u001b[0mhexDf\u001b[0m\u001b[0;34m.\u001b[0m\u001b[0msession\u001b[0m\u001b[0;34m==\u001b[0m\u001b[0ms\u001b[0m\u001b[0;34m,\u001b[0m\u001b[0;34m\"block\"\u001b[0m\u001b[0;34m]\u001b[0m\u001b[0;34m.\u001b[0m\u001b[0munique\u001b[0m\u001b[0;34m(\u001b[0m\u001b[0;34m)\u001b[0m\u001b[0;34m:\u001b[0m\u001b[0;34m\u001b[0m\u001b[0;34m\u001b[0m\u001b[0m\n\u001b[0;32m---> 48\u001b[0;31m             dat = hexDf.loc[(hexDf.port!=-100)&(hexDf.session==s)\\\n\u001b[0m\u001b[1;32m     49\u001b[0m                                   &(hexDf.block==b),[\"port\",\"rwd\",\"samePath_t-1\",\"rt-1\"]].copy()\n\u001b[1;32m     50\u001b[0m             \u001b[0mdat\u001b[0m\u001b[0;34m.\u001b[0m\u001b[0mloc\u001b[0m\u001b[0;34m[\u001b[0m\u001b[0;34m:\u001b[0m\u001b[0;34m,\u001b[0m\u001b[0;34m\"path\"\u001b[0m\u001b[0;34m]\u001b[0m \u001b[0;34m=\u001b[0m \u001b[0mdat\u001b[0m\u001b[0;34m.\u001b[0m\u001b[0mport\u001b[0m\u001b[0;34m.\u001b[0m\u001b[0mastype\u001b[0m\u001b[0;34m(\u001b[0m\u001b[0mstr\u001b[0m\u001b[0;34m)\u001b[0m\u001b[0;34m+\u001b[0m\u001b[0mdat\u001b[0m\u001b[0;34m.\u001b[0m\u001b[0mport\u001b[0m\u001b[0;34m.\u001b[0m\u001b[0mshift\u001b[0m\u001b[0;34m(\u001b[0m\u001b[0;36m1\u001b[0m\u001b[0;34m)\u001b[0m\u001b[0;34m.\u001b[0m\u001b[0mfillna\u001b[0m\u001b[0;34m(\u001b[0m\u001b[0;34m-\u001b[0m\u001b[0;36m1\u001b[0m\u001b[0;34m)\u001b[0m\u001b[0;34m.\u001b[0m\u001b[0mastype\u001b[0m\u001b[0;34m(\u001b[0m\u001b[0mstr\u001b[0m\u001b[0;34m)\u001b[0m\u001b[0;34m\u001b[0m\u001b[0;34m\u001b[0m\u001b[0m\n",
      "\u001b[0;32m~/opt/anaconda3/lib/python3.8/site-packages/pandas/core/indexing.py\u001b[0m in \u001b[0;36m__getitem__\u001b[0;34m(self, key)\u001b[0m\n\u001b[1;32m    887\u001b[0m                     \u001b[0;31m# AttributeError for IntervalTree get_value\u001b[0m\u001b[0;34m\u001b[0m\u001b[0;34m\u001b[0m\u001b[0;34m\u001b[0m\u001b[0m\n\u001b[1;32m    888\u001b[0m                     \u001b[0;32mreturn\u001b[0m \u001b[0mself\u001b[0m\u001b[0;34m.\u001b[0m\u001b[0mobj\u001b[0m\u001b[0;34m.\u001b[0m\u001b[0m_get_value\u001b[0m\u001b[0;34m(\u001b[0m\u001b[0;34m*\u001b[0m\u001b[0mkey\u001b[0m\u001b[0;34m,\u001b[0m \u001b[0mtakeable\u001b[0m\u001b[0;34m=\u001b[0m\u001b[0mself\u001b[0m\u001b[0;34m.\u001b[0m\u001b[0m_takeable\u001b[0m\u001b[0;34m)\u001b[0m\u001b[0;34m\u001b[0m\u001b[0;34m\u001b[0m\u001b[0m\n\u001b[0;32m--> 889\u001b[0;31m             \u001b[0;32mreturn\u001b[0m \u001b[0mself\u001b[0m\u001b[0;34m.\u001b[0m\u001b[0m_getitem_tuple\u001b[0m\u001b[0;34m(\u001b[0m\u001b[0mkey\u001b[0m\u001b[0;34m)\u001b[0m\u001b[0;34m\u001b[0m\u001b[0;34m\u001b[0m\u001b[0m\n\u001b[0m\u001b[1;32m    890\u001b[0m         \u001b[0;32melse\u001b[0m\u001b[0;34m:\u001b[0m\u001b[0;34m\u001b[0m\u001b[0;34m\u001b[0m\u001b[0m\n\u001b[1;32m    891\u001b[0m             \u001b[0;31m# we by definition only have the 0th axis\u001b[0m\u001b[0;34m\u001b[0m\u001b[0;34m\u001b[0m\u001b[0;34m\u001b[0m\u001b[0m\n",
      "\u001b[0;32m~/opt/anaconda3/lib/python3.8/site-packages/pandas/core/indexing.py\u001b[0m in \u001b[0;36m_getitem_tuple\u001b[0;34m(self, tup)\u001b[0m\n\u001b[1;32m   1067\u001b[0m             \u001b[0;32mreturn\u001b[0m \u001b[0mself\u001b[0m\u001b[0;34m.\u001b[0m\u001b[0m_multi_take\u001b[0m\u001b[0;34m(\u001b[0m\u001b[0mtup\u001b[0m\u001b[0;34m)\u001b[0m\u001b[0;34m\u001b[0m\u001b[0;34m\u001b[0m\u001b[0m\n\u001b[1;32m   1068\u001b[0m \u001b[0;34m\u001b[0m\u001b[0m\n\u001b[0;32m-> 1069\u001b[0;31m         \u001b[0;32mreturn\u001b[0m \u001b[0mself\u001b[0m\u001b[0;34m.\u001b[0m\u001b[0m_getitem_tuple_same_dim\u001b[0m\u001b[0;34m(\u001b[0m\u001b[0mtup\u001b[0m\u001b[0;34m)\u001b[0m\u001b[0;34m\u001b[0m\u001b[0;34m\u001b[0m\u001b[0m\n\u001b[0m\u001b[1;32m   1070\u001b[0m \u001b[0;34m\u001b[0m\u001b[0m\n\u001b[1;32m   1071\u001b[0m     \u001b[0;32mdef\u001b[0m \u001b[0m_get_label\u001b[0m\u001b[0;34m(\u001b[0m\u001b[0mself\u001b[0m\u001b[0;34m,\u001b[0m \u001b[0mlabel\u001b[0m\u001b[0;34m,\u001b[0m \u001b[0maxis\u001b[0m\u001b[0;34m:\u001b[0m \u001b[0mint\u001b[0m\u001b[0;34m)\u001b[0m\u001b[0;34m:\u001b[0m\u001b[0;34m\u001b[0m\u001b[0;34m\u001b[0m\u001b[0m\n",
      "\u001b[0;32m~/opt/anaconda3/lib/python3.8/site-packages/pandas/core/indexing.py\u001b[0m in \u001b[0;36m_getitem_tuple_same_dim\u001b[0;34m(self, tup)\u001b[0m\n\u001b[1;32m    773\u001b[0m                 \u001b[0;32mcontinue\u001b[0m\u001b[0;34m\u001b[0m\u001b[0;34m\u001b[0m\u001b[0m\n\u001b[1;32m    774\u001b[0m \u001b[0;34m\u001b[0m\u001b[0m\n\u001b[0;32m--> 775\u001b[0;31m             \u001b[0mretval\u001b[0m \u001b[0;34m=\u001b[0m \u001b[0mgetattr\u001b[0m\u001b[0;34m(\u001b[0m\u001b[0mretval\u001b[0m\u001b[0;34m,\u001b[0m \u001b[0mself\u001b[0m\u001b[0;34m.\u001b[0m\u001b[0mname\u001b[0m\u001b[0;34m)\u001b[0m\u001b[0;34m.\u001b[0m\u001b[0m_getitem_axis\u001b[0m\u001b[0;34m(\u001b[0m\u001b[0mkey\u001b[0m\u001b[0;34m,\u001b[0m \u001b[0maxis\u001b[0m\u001b[0;34m=\u001b[0m\u001b[0mi\u001b[0m\u001b[0;34m)\u001b[0m\u001b[0;34m\u001b[0m\u001b[0;34m\u001b[0m\u001b[0m\n\u001b[0m\u001b[1;32m    776\u001b[0m             \u001b[0;31m# We should never have retval.ndim < self.ndim, as that should\u001b[0m\u001b[0;34m\u001b[0m\u001b[0;34m\u001b[0m\u001b[0;34m\u001b[0m\u001b[0m\n\u001b[1;32m    777\u001b[0m             \u001b[0;31m#  be handled by the _getitem_lowerdim call above.\u001b[0m\u001b[0;34m\u001b[0m\u001b[0;34m\u001b[0m\u001b[0;34m\u001b[0m\u001b[0m\n",
      "\u001b[0;32m~/opt/anaconda3/lib/python3.8/site-packages/pandas/core/indexing.py\u001b[0m in \u001b[0;36m_getitem_axis\u001b[0;34m(self, key, axis)\u001b[0m\n\u001b[1;32m   1111\u001b[0m                     \u001b[0;32mraise\u001b[0m \u001b[0mValueError\u001b[0m\u001b[0;34m(\u001b[0m\u001b[0;34m\"Cannot index with multidimensional key\"\u001b[0m\u001b[0;34m)\u001b[0m\u001b[0;34m\u001b[0m\u001b[0;34m\u001b[0m\u001b[0m\n\u001b[1;32m   1112\u001b[0m \u001b[0;34m\u001b[0m\u001b[0m\n\u001b[0;32m-> 1113\u001b[0;31m                 \u001b[0;32mreturn\u001b[0m \u001b[0mself\u001b[0m\u001b[0;34m.\u001b[0m\u001b[0m_getitem_iterable\u001b[0m\u001b[0;34m(\u001b[0m\u001b[0mkey\u001b[0m\u001b[0;34m,\u001b[0m \u001b[0maxis\u001b[0m\u001b[0;34m=\u001b[0m\u001b[0maxis\u001b[0m\u001b[0;34m)\u001b[0m\u001b[0;34m\u001b[0m\u001b[0;34m\u001b[0m\u001b[0m\n\u001b[0m\u001b[1;32m   1114\u001b[0m \u001b[0;34m\u001b[0m\u001b[0m\n\u001b[1;32m   1115\u001b[0m             \u001b[0;31m# nested tuple slicing\u001b[0m\u001b[0;34m\u001b[0m\u001b[0;34m\u001b[0m\u001b[0;34m\u001b[0m\u001b[0m\n",
      "\u001b[0;32m~/opt/anaconda3/lib/python3.8/site-packages/pandas/core/indexing.py\u001b[0m in \u001b[0;36m_getitem_iterable\u001b[0;34m(self, key, axis)\u001b[0m\n\u001b[1;32m   1051\u001b[0m \u001b[0;34m\u001b[0m\u001b[0m\n\u001b[1;32m   1052\u001b[0m         \u001b[0;31m# A collection of keys\u001b[0m\u001b[0;34m\u001b[0m\u001b[0;34m\u001b[0m\u001b[0;34m\u001b[0m\u001b[0m\n\u001b[0;32m-> 1053\u001b[0;31m         \u001b[0mkeyarr\u001b[0m\u001b[0;34m,\u001b[0m \u001b[0mindexer\u001b[0m \u001b[0;34m=\u001b[0m \u001b[0mself\u001b[0m\u001b[0;34m.\u001b[0m\u001b[0m_get_listlike_indexer\u001b[0m\u001b[0;34m(\u001b[0m\u001b[0mkey\u001b[0m\u001b[0;34m,\u001b[0m \u001b[0maxis\u001b[0m\u001b[0;34m,\u001b[0m \u001b[0mraise_missing\u001b[0m\u001b[0;34m=\u001b[0m\u001b[0;32mFalse\u001b[0m\u001b[0;34m)\u001b[0m\u001b[0;34m\u001b[0m\u001b[0;34m\u001b[0m\u001b[0m\n\u001b[0m\u001b[1;32m   1054\u001b[0m         return self.obj._reindex_with_indexers(\n\u001b[1;32m   1055\u001b[0m             \u001b[0;34m{\u001b[0m\u001b[0maxis\u001b[0m\u001b[0;34m:\u001b[0m \u001b[0;34m[\u001b[0m\u001b[0mkeyarr\u001b[0m\u001b[0;34m,\u001b[0m \u001b[0mindexer\u001b[0m\u001b[0;34m]\u001b[0m\u001b[0;34m}\u001b[0m\u001b[0;34m,\u001b[0m \u001b[0mcopy\u001b[0m\u001b[0;34m=\u001b[0m\u001b[0;32mTrue\u001b[0m\u001b[0;34m,\u001b[0m \u001b[0mallow_dups\u001b[0m\u001b[0;34m=\u001b[0m\u001b[0;32mTrue\u001b[0m\u001b[0;34m\u001b[0m\u001b[0;34m\u001b[0m\u001b[0m\n",
      "\u001b[0;32m~/opt/anaconda3/lib/python3.8/site-packages/pandas/core/indexing.py\u001b[0m in \u001b[0;36m_get_listlike_indexer\u001b[0;34m(self, key, axis, raise_missing)\u001b[0m\n\u001b[1;32m   1259\u001b[0m \u001b[0;34m\u001b[0m\u001b[0m\n\u001b[1;32m   1260\u001b[0m         \u001b[0;32mif\u001b[0m \u001b[0max\u001b[0m\u001b[0;34m.\u001b[0m\u001b[0m_index_as_unique\u001b[0m\u001b[0;34m:\u001b[0m\u001b[0;34m\u001b[0m\u001b[0;34m\u001b[0m\u001b[0m\n\u001b[0;32m-> 1261\u001b[0;31m             \u001b[0mindexer\u001b[0m \u001b[0;34m=\u001b[0m \u001b[0max\u001b[0m\u001b[0;34m.\u001b[0m\u001b[0mget_indexer_for\u001b[0m\u001b[0;34m(\u001b[0m\u001b[0mkeyarr\u001b[0m\u001b[0;34m)\u001b[0m\u001b[0;34m\u001b[0m\u001b[0;34m\u001b[0m\u001b[0m\n\u001b[0m\u001b[1;32m   1262\u001b[0m             \u001b[0mkeyarr\u001b[0m \u001b[0;34m=\u001b[0m \u001b[0max\u001b[0m\u001b[0;34m.\u001b[0m\u001b[0mreindex\u001b[0m\u001b[0;34m(\u001b[0m\u001b[0mkeyarr\u001b[0m\u001b[0;34m)\u001b[0m\u001b[0;34m[\u001b[0m\u001b[0;36m0\u001b[0m\u001b[0;34m]\u001b[0m\u001b[0;34m\u001b[0m\u001b[0;34m\u001b[0m\u001b[0m\n\u001b[1;32m   1263\u001b[0m         \u001b[0;32melse\u001b[0m\u001b[0;34m:\u001b[0m\u001b[0;34m\u001b[0m\u001b[0;34m\u001b[0m\u001b[0m\n",
      "\u001b[0;32m~/opt/anaconda3/lib/python3.8/site-packages/pandas/core/indexes/base.py\u001b[0m in \u001b[0;36mget_indexer_for\u001b[0;34m(self, target, **kwargs)\u001b[0m\n\u001b[1;32m   4958\u001b[0m         \"\"\"\n\u001b[1;32m   4959\u001b[0m         \u001b[0;32mif\u001b[0m \u001b[0mself\u001b[0m\u001b[0;34m.\u001b[0m\u001b[0m_index_as_unique\u001b[0m\u001b[0;34m:\u001b[0m\u001b[0;34m\u001b[0m\u001b[0;34m\u001b[0m\u001b[0m\n\u001b[0;32m-> 4960\u001b[0;31m             \u001b[0;32mreturn\u001b[0m \u001b[0mself\u001b[0m\u001b[0;34m.\u001b[0m\u001b[0mget_indexer\u001b[0m\u001b[0;34m(\u001b[0m\u001b[0mtarget\u001b[0m\u001b[0;34m,\u001b[0m \u001b[0;34m**\u001b[0m\u001b[0mkwargs\u001b[0m\u001b[0;34m)\u001b[0m\u001b[0;34m\u001b[0m\u001b[0;34m\u001b[0m\u001b[0m\n\u001b[0m\u001b[1;32m   4961\u001b[0m         \u001b[0mindexer\u001b[0m\u001b[0;34m,\u001b[0m \u001b[0m_\u001b[0m \u001b[0;34m=\u001b[0m \u001b[0mself\u001b[0m\u001b[0;34m.\u001b[0m\u001b[0mget_indexer_non_unique\u001b[0m\u001b[0;34m(\u001b[0m\u001b[0mtarget\u001b[0m\u001b[0;34m)\u001b[0m\u001b[0;34m\u001b[0m\u001b[0;34m\u001b[0m\u001b[0m\n\u001b[1;32m   4962\u001b[0m         \u001b[0;32mreturn\u001b[0m \u001b[0mindexer\u001b[0m\u001b[0;34m\u001b[0m\u001b[0;34m\u001b[0m\u001b[0m\n",
      "\u001b[0;32m~/opt/anaconda3/lib/python3.8/site-packages/pandas/core/indexes/base.py\u001b[0m in \u001b[0;36mget_indexer\u001b[0;34m(self, target, method, limit, tolerance)\u001b[0m\n\u001b[1;32m   3145\u001b[0m     ) -> np.ndarray:\n\u001b[1;32m   3146\u001b[0m         \u001b[0mmethod\u001b[0m \u001b[0;34m=\u001b[0m \u001b[0mmissing\u001b[0m\u001b[0;34m.\u001b[0m\u001b[0mclean_reindex_fill_method\u001b[0m\u001b[0;34m(\u001b[0m\u001b[0mmethod\u001b[0m\u001b[0;34m)\u001b[0m\u001b[0;34m\u001b[0m\u001b[0;34m\u001b[0m\u001b[0m\n\u001b[0;32m-> 3147\u001b[0;31m         \u001b[0mtarget\u001b[0m \u001b[0;34m=\u001b[0m \u001b[0mensure_index\u001b[0m\u001b[0;34m(\u001b[0m\u001b[0mtarget\u001b[0m\u001b[0;34m)\u001b[0m\u001b[0;34m\u001b[0m\u001b[0;34m\u001b[0m\u001b[0m\n\u001b[0m\u001b[1;32m   3148\u001b[0m         \u001b[0;32mif\u001b[0m \u001b[0mtolerance\u001b[0m \u001b[0;32mis\u001b[0m \u001b[0;32mnot\u001b[0m \u001b[0;32mNone\u001b[0m\u001b[0;34m:\u001b[0m\u001b[0;34m\u001b[0m\u001b[0;34m\u001b[0m\u001b[0m\n\u001b[1;32m   3149\u001b[0m             \u001b[0mtolerance\u001b[0m \u001b[0;34m=\u001b[0m \u001b[0mself\u001b[0m\u001b[0;34m.\u001b[0m\u001b[0m_convert_tolerance\u001b[0m\u001b[0;34m(\u001b[0m\u001b[0mtolerance\u001b[0m\u001b[0;34m,\u001b[0m \u001b[0mtarget\u001b[0m\u001b[0;34m)\u001b[0m\u001b[0;34m\u001b[0m\u001b[0;34m\u001b[0m\u001b[0m\n",
      "\u001b[0;32m~/opt/anaconda3/lib/python3.8/site-packages/pandas/core/indexes/base.py\u001b[0m in \u001b[0;36mensure_index\u001b[0;34m(index_like, copy)\u001b[0m\n\u001b[1;32m   5915\u001b[0m             \u001b[0mindex_like\u001b[0m \u001b[0;34m=\u001b[0m \u001b[0mcopy_func\u001b[0m\u001b[0;34m(\u001b[0m\u001b[0mindex_like\u001b[0m\u001b[0;34m)\u001b[0m\u001b[0;34m\u001b[0m\u001b[0;34m\u001b[0m\u001b[0m\n\u001b[1;32m   5916\u001b[0m \u001b[0;34m\u001b[0m\u001b[0m\n\u001b[0;32m-> 5917\u001b[0;31m     \u001b[0;32mreturn\u001b[0m \u001b[0mIndex\u001b[0m\u001b[0;34m(\u001b[0m\u001b[0mindex_like\u001b[0m\u001b[0;34m)\u001b[0m\u001b[0;34m\u001b[0m\u001b[0;34m\u001b[0m\u001b[0m\n\u001b[0m\u001b[1;32m   5918\u001b[0m \u001b[0;34m\u001b[0m\u001b[0m\n\u001b[1;32m   5919\u001b[0m \u001b[0;34m\u001b[0m\u001b[0m\n",
      "\u001b[0;32m~/opt/anaconda3/lib/python3.8/site-packages/pandas/core/indexes/base.py\u001b[0m in \u001b[0;36m__new__\u001b[0;34m(cls, data, dtype, copy, name, tupleize_cols, **kwargs)\u001b[0m\n\u001b[1;32m    339\u001b[0m \u001b[0;34m\u001b[0m\u001b[0m\n\u001b[1;32m    340\u001b[0m             \u001b[0;31m# maybe coerce to a sub-class\u001b[0m\u001b[0;34m\u001b[0m\u001b[0;34m\u001b[0m\u001b[0;34m\u001b[0m\u001b[0m\n\u001b[0;32m--> 341\u001b[0;31m             \u001b[0;32mif\u001b[0m \u001b[0mis_signed_integer_dtype\u001b[0m\u001b[0;34m(\u001b[0m\u001b[0mdata\u001b[0m\u001b[0;34m.\u001b[0m\u001b[0mdtype\u001b[0m\u001b[0;34m)\u001b[0m\u001b[0;34m:\u001b[0m\u001b[0;34m\u001b[0m\u001b[0;34m\u001b[0m\u001b[0m\n\u001b[0m\u001b[1;32m    342\u001b[0m                 \u001b[0;32mreturn\u001b[0m \u001b[0mInt64Index\u001b[0m\u001b[0;34m(\u001b[0m\u001b[0mdata\u001b[0m\u001b[0;34m,\u001b[0m \u001b[0mcopy\u001b[0m\u001b[0;34m=\u001b[0m\u001b[0mcopy\u001b[0m\u001b[0;34m,\u001b[0m \u001b[0mdtype\u001b[0m\u001b[0;34m=\u001b[0m\u001b[0mdtype\u001b[0m\u001b[0;34m,\u001b[0m \u001b[0mname\u001b[0m\u001b[0;34m=\u001b[0m\u001b[0mname\u001b[0m\u001b[0;34m)\u001b[0m\u001b[0;34m\u001b[0m\u001b[0;34m\u001b[0m\u001b[0m\n\u001b[1;32m    343\u001b[0m             \u001b[0;32melif\u001b[0m \u001b[0mis_unsigned_integer_dtype\u001b[0m\u001b[0;34m(\u001b[0m\u001b[0mdata\u001b[0m\u001b[0;34m.\u001b[0m\u001b[0mdtype\u001b[0m\u001b[0;34m)\u001b[0m\u001b[0;34m:\u001b[0m\u001b[0;34m\u001b[0m\u001b[0;34m\u001b[0m\u001b[0m\n",
      "\u001b[0;32m~/opt/anaconda3/lib/python3.8/site-packages/pandas/core/dtypes/common.py\u001b[0m in \u001b[0;36mis_signed_integer_dtype\u001b[0;34m(arr_or_dtype)\u001b[0m\n\u001b[1;32m    808\u001b[0m     \u001b[0;32mFalse\u001b[0m\u001b[0;34m\u001b[0m\u001b[0;34m\u001b[0m\u001b[0m\n\u001b[1;32m    809\u001b[0m     \"\"\"\n\u001b[0;32m--> 810\u001b[0;31m     \u001b[0;32mreturn\u001b[0m \u001b[0m_is_dtype_type\u001b[0m\u001b[0;34m(\u001b[0m\u001b[0marr_or_dtype\u001b[0m\u001b[0;34m,\u001b[0m \u001b[0mclasses_and_not_datetimelike\u001b[0m\u001b[0;34m(\u001b[0m\u001b[0mnp\u001b[0m\u001b[0;34m.\u001b[0m\u001b[0msignedinteger\u001b[0m\u001b[0;34m)\u001b[0m\u001b[0;34m)\u001b[0m\u001b[0;34m\u001b[0m\u001b[0;34m\u001b[0m\u001b[0m\n\u001b[0m\u001b[1;32m    811\u001b[0m \u001b[0;34m\u001b[0m\u001b[0m\n\u001b[1;32m    812\u001b[0m \u001b[0;34m\u001b[0m\u001b[0m\n",
      "\u001b[0;32m~/opt/anaconda3/lib/python3.8/site-packages/pandas/core/dtypes/common.py\u001b[0m in \u001b[0;36m_is_dtype_type\u001b[0;34m(arr_or_dtype, condition)\u001b[0m\n\u001b[1;32m   1608\u001b[0m \u001b[0;34m\u001b[0m\u001b[0m\n\u001b[1;32m   1609\u001b[0m \u001b[0;34m\u001b[0m\u001b[0m\n\u001b[0;32m-> 1610\u001b[0;31m \u001b[0;32mdef\u001b[0m \u001b[0m_is_dtype_type\u001b[0m\u001b[0;34m(\u001b[0m\u001b[0marr_or_dtype\u001b[0m\u001b[0;34m,\u001b[0m \u001b[0mcondition\u001b[0m\u001b[0;34m)\u001b[0m \u001b[0;34m->\u001b[0m \u001b[0mbool\u001b[0m\u001b[0;34m:\u001b[0m\u001b[0;34m\u001b[0m\u001b[0;34m\u001b[0m\u001b[0m\n\u001b[0m\u001b[1;32m   1611\u001b[0m     \"\"\"\n\u001b[1;32m   1612\u001b[0m     \u001b[0mReturn\u001b[0m \u001b[0ma\u001b[0m \u001b[0mboolean\u001b[0m \u001b[0;32mif\u001b[0m \u001b[0mthe\u001b[0m \u001b[0mcondition\u001b[0m \u001b[0;32mis\u001b[0m \u001b[0msatisfied\u001b[0m \u001b[0;32mfor\u001b[0m \u001b[0mthe\u001b[0m \u001b[0marr_or_dtype\u001b[0m\u001b[0;34m.\u001b[0m\u001b[0;34m\u001b[0m\u001b[0;34m\u001b[0m\u001b[0m\n",
      "\u001b[0;31mKeyboardInterrupt\u001b[0m: "
     ]
    }
   ],
   "source": [
    "nullResids = []\n",
    "for i in range(100):\n",
    "    nullResids = nullResids + [get_NullResidualsByRwdSeq(hexData,[0,1,0,0],getPriorTri=True) for i in range(100)]\n",
    "nullResids = np.array(nullResids)"
   ]
  },
  {
   "cell_type": "code",
   "execution_count": 198,
   "id": "a5711eac-62d4-42eb-9bdc-82b16dfbf5b2",
   "metadata": {},
   "outputs": [],
   "source": [
    "np.save(hexData.directory_prefix+\"nullResidualArray.npy\",nullResids)"
   ]
  },
  {
   "cell_type": "code",
   "execution_count": 29,
   "id": "d55e7831-89d5-4e8a-a164-e62878ce649e",
   "metadata": {},
   "outputs": [],
   "source": [
    "rpat = [0,1,0,0]\n",
    "resids = get_ResidualsByRwdSeq(hexData,rwd_pattern=rpat,stHex = 10,alongPath=True,getPriorTri=True)"
   ]
  },
  {
   "cell_type": "code",
   "execution_count": 164,
   "id": "444ef234-d3c8-46de-80fa-409c7cb97eb8",
   "metadata": {},
   "outputs": [],
   "source": [
    "rpat = [0,1,0,0]\n",
    "rwd_pattern_inds,rat_IDs = getRwdPatternInds(hexData.df.copy(),rpat,alongPath=True,getPriorTri=True)\n",
    "stHex=10\n",
    "residuals = [[] for _ in range(len(rpat)+1)]\n",
    "for patternedEntryInds,rat in zip(rwd_pattern_inds,rat_IDs):\n",
    "    for e in range(len(residuals)):\n",
    "        trace = hexData.df.loc[patternedEntryInds[e]-stHex:\\\n",
    "                                    patternedEntryInds[e],\"DA\"].values\n",
    "        residuals[e].append(calcRampResiduals(hexData,rat,trace))"
   ]
  },
  {
   "cell_type": "code",
   "execution_count": 204,
   "id": "494a662d-b6c3-41dc-a71b-f9c14869e5b3",
   "metadata": {},
   "outputs": [],
   "source": [
    "fig = plotResidualsByRwdSeq(hexData,rpat,residuals,nullResids,fsize=[7,10],stHex=10,linwid=9)"
   ]
  },
  {
   "cell_type": "code",
   "execution_count": 205,
   "id": "26b297ed-a312-4e15-9ee7-fe42f0376171",
   "metadata": {},
   "outputs": [],
   "source": [
    "fig.savefig(hexData.directory_prefix+\"nullResidualPlot.pdf\")"
   ]
  },
  {
   "cell_type": "markdown",
   "id": "80b64d9d-149e-4577-b0b0-3a80c0717ed8",
   "metadata": {},
   "source": [
    "# plot distance of peak reward effect over different spatial bins"
   ]
  },
  {
   "cell_type": "code",
   "execution_count": null,
   "id": "18db87e2-cf50-4cc4-9f03-d9d531474da6",
   "metadata": {},
   "outputs": [],
   "source": [
    "for hbin in range(5):\n",
    "    plot_distOfPeakRwdEffect(hexData,hbin)"
   ]
  },
  {
   "cell_type": "markdown",
   "id": "b95f8a26-7bf3-4ec9-be88-57ca821dfe42",
   "metadata": {},
   "source": [
    "# calculate deviation from optimal path length and plot under different block conditions"
   ]
  },
  {
   "cell_type": "code",
   "execution_count": 84,
   "id": "d8bd3380-c11c-4144-99a6-30f543b173e7",
   "metadata": {
    "tags": []
   },
   "outputs": [],
   "source": [
    "calc_distFromOptPathLen(allRatHexData)"
   ]
  },
  {
   "cell_type": "code",
   "execution_count": 7,
   "id": "f992cf6c-f08f-45a6-a5a9-b58677219f3c",
   "metadata": {},
   "outputs": [],
   "source": [
    "add_withinBlockTriNumberToDf(allRatHexData)"
   ]
  },
  {
   "cell_type": "code",
   "execution_count": 93,
   "id": "5037342c-78f8-4891-9d52-2b8a9e4b7fd0",
   "metadata": {},
   "outputs": [],
   "source": [
    "figAll = plot_deviationFromOptLen(allRatHexData,binByMedian=True,binSize=10,laterProb=False,laterBar=False)\n",
    "plt.ylim(0,3)\n",
    "figAll.savefig(hexData.directory_prefix+\"medianOptLenDeviationAll_95CI.pdf\")\n",
    "figProb = plot_deviationFromOptLen(allRatHexData,binByMedian=True,binSize=10,laterProb=True,laterBar=False)\n",
    "plt.ylim(0,3)\n",
    "figProb.savefig(hexData.directory_prefix+\"medianOptLenDeviationProbAfterBlock1_95CI.pdf\")\n",
    "figBar = plot_deviationFromOptLen(allRatHexData,binByMedian=True,binSize=10,laterProb=False,laterBar=True)\n",
    "plt.ylim(0,3)\n",
    "figBar.savefig(hexData.directory_prefix+\"medianOptLenDeviationBarAfterBlock1_95CI.pdf\")"
   ]
  }
 ],
 "metadata": {
  "kernelspec": {
   "display_name": "Python 3",
   "language": "python",
   "name": "python3"
  },
  "language_info": {
   "codemirror_mode": {
    "name": "ipython",
    "version": 3
   },
   "file_extension": ".py",
   "mimetype": "text/x-python",
   "name": "python",
   "nbconvert_exporter": "python",
   "pygments_lexer": "ipython3",
   "version": "3.8.8"
  }
 },
 "nbformat": 4,
 "nbformat_minor": 5
}
