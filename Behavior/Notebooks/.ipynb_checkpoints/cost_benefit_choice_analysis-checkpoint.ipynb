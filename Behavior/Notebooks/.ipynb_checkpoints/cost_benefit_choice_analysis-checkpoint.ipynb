{
 "cells": [
  {
   "cell_type": "code",
   "execution_count": null,
   "id": "a4231251-71e6-4bdb-bb2b-723fcaf74069",
   "metadata": {},
   "outputs": [],
   "source": [
    "import sys\n",
    "path1 = '/Users/timkrausz/Documents/GitHub/DA_maze_paper/DA/Modules/'\n",
    "path2 = '/Users/timkrausz/Documents/GitHub/DA_maze_paper/Behavior/Modules/'\n",
    "sys.path += [path1,path2]"
   ]
  },
  {
   "cell_type": "code",
   "execution_count": 1,
   "id": "c7b092fb-c6d0-4a89-b31a-59c6b01cd447",
   "metadata": {},
   "outputs": [],
   "source": [
    "import numpy as np\n",
    "import matplotlib.pyplot as plt\n",
    "import pandas as pd\n",
    "import seaborn as sns\n",
    "sns.set()\n",
    "plt.style.use('default')\n",
    "plt.style.use(\"seaborn-poster\")\n",
    "from multi_rat_da import *\n",
    "from hexLevelAnalyses import get_sigRats_fromMeanList\n",
    "from photometryQuantifications import *\n",
    "from scipy.stats import wilcoxon\n",
    "%matplotlib qt"
   ]
  },
  {
   "cell_type": "markdown",
   "id": "9d3d4fbf-c2c1-4d72-8685-933230629292",
   "metadata": {},
   "source": [
    "### load trial-level dataframe"
   ]
  },
  {
   "cell_type": "code",
   "execution_count": 2,
   "id": "26738f74-7922-4520-95da-14afb3df7bd7",
   "metadata": {
    "tags": []
   },
   "outputs": [],
   "source": [
    "loadpath = \"\" #location of dataset\n",
    "df = pd.read_csv(loadpath+\"triframe.csv\")\n",
    "photrats = PhotRats(None)\n",
    "photrats.triframe = df.copy()\n",
    "photrats.triframe.reset_index(inplace=True)\n",
    "del df\n",
    "photrats.directory_prefix = loadpath"
   ]
  },
  {
   "cell_type": "markdown",
   "id": "15c2aade-c1c5-41f4-9b49-45e69b3430f5",
   "metadata": {},
   "source": [
    "## create new dataframes with relevant columns for regression, and plot results"
   ]
  },
  {
   "cell_type": "code",
   "execution_count": 7,
   "id": "bf571ea4-3a5d-4562-89e3-c0758d3e1003",
   "metadata": {
    "tags": []
   },
   "outputs": [],
   "source": [
    "get_portHist(photrats)\n",
    "\n",
    "get_back2samePortTrials(photrats)\n",
    "\n",
    "add_rewardLagColumns2triframe(photrats)\n",
    "\n",
    "add_rewardLagColumns2triframeByPort(photrats,lags=5)\n",
    "\n",
    "add_samePathLagColumns2triframeByPort(photrats,lags=1)\n",
    "\n",
    "add_leftLastColumn(photrats)"
   ]
  },
  {
   "cell_type": "markdown",
   "id": "c92c6164-36ad-4e92-aca3-e4d5fbfa0ad4",
   "metadata": {},
   "source": [
    "### identify whether rat previously took the same or alternative path to the left available port, and if it was rewarded or not"
   ]
  },
  {
   "cell_type": "code",
   "execution_count": 12,
   "id": "9baa81a1-37ba-403f-83dc-a24935b567c6",
   "metadata": {},
   "outputs": [],
   "source": [
    "for l in range(1,6):\n",
    "    photrats.triframe.loc[:,\"rt-\"+str(l)+\"_left\"] = photrats.get_left_val(photrats.triframe,factor=\"rt-\"+str(l))\n",
    "photrats.triframe.loc[:,\"samePath_t-1_left\"] = photrats.get_left_val(photrats.triframe,factor=\"samePath_t-1\")"
   ]
  },
  {
   "cell_type": "markdown",
   "id": "b3689a13-4264-4231-8bd5-ac4b115f209d",
   "metadata": {},
   "source": [
    "### save as csv for regression analysis in R"
   ]
  },
  {
   "cell_type": "code",
   "execution_count": 29,
   "id": "f5deedaa-23ef-4d69-8973-55855fc542b2",
   "metadata": {},
   "outputs": [],
   "source": [
    "photrats.triframe.to_csv(photrats.directory_prefix+\"triframe4sameValtLeftChoiceReg.csv\")"
   ]
  },
  {
   "cell_type": "markdown",
   "id": "818ee5a4-bd39-4db8-991d-e2cff4a77de4",
   "metadata": {},
   "source": [
    "### create a dictionary of reward vs omission choice probabilities when rat previously took same vs alternative path"
   ]
  },
  {
   "cell_type": "code",
   "execution_count": 15,
   "id": "fd1c4604-509e-4a30-ab86-e5e839190437",
   "metadata": {},
   "outputs": [],
   "source": [
    "ratSameValtChoiceProbs,ratNs = create_sameValtChoiceDict(photrats)"
   ]
  },
  {
   "cell_type": "markdown",
   "id": "554893f1-499f-4f02-94cd-5875b772a2fb",
   "metadata": {},
   "source": [
    "### test if same and alt are sig dif from each other"
   ]
  },
  {
   "cell_type": "code",
   "execution_count": 24,
   "id": "abcb68c8-626a-45f5-9df5-41e2f7c3596b",
   "metadata": {},
   "outputs": [
    {
     "data": {
      "text/plain": [
       "WilcoxonResult(statistic=16.0, pvalue=0.275390625)"
      ]
     },
     "execution_count": 24,
     "metadata": {},
     "output_type": "execute_result"
    }
   ],
   "source": [
    "sameVals = [np.nanmean(ratSameValtChoiceProbs[rat][\"pDiffRwdVsOmSame\"]) for rat in ratSameValtChoiceProbs.keys()]\n",
    "altVals = [np.nanmean(ratSameValtChoiceProbs[rat][\"pDiffRwdVsOmAlt\"]) for rat in ratSameValtChoiceProbs.keys()]\n",
    "wilcoxon(sameVals,altVals)"
   ]
  },
  {
   "cell_type": "markdown",
   "id": "bfe72884-6738-42fc-84f3-a679653f2e28",
   "metadata": {},
   "source": [
    "### visualize result"
   ]
  },
  {
   "cell_type": "code",
   "execution_count": null,
   "id": "016faca3-96df-4284-844e-e481f0950828",
   "metadata": {},
   "outputs": [],
   "source": [
    "fig = plotChoosePortSameVAlt(photrats,ratSameValtChoiceProbs)\n",
    "plt.ylim(-.3,.3)\n",
    "plt.yticks(np.arange(-3,4)/10)"
   ]
  },
  {
   "cell_type": "markdown",
   "id": "710c8ced-56a6-46e2-a386-76d6fc8fa14f",
   "metadata": {},
   "source": [
    "# visualize individual rat sensitivities to costs and benefits"
   ]
  },
  {
   "cell_type": "code",
   "execution_count": 11,
   "id": "b8efaeb7-84b4-45ff-9971-e0bc0356f56b",
   "metadata": {},
   "outputs": [],
   "source": [
    "get_log_pchoos_v_costNben(photrats)\n",
    "add_scaledVarsToRegDf(photrats)\n",
    "photrats.regdf = photrats.regdf.loc[photrats.regdf.tri>25,]"
   ]
  },
  {
   "cell_type": "code",
   "execution_count": 39,
   "id": "5af2650b-1a07-4d0b-adbd-138a3bca98c0",
   "metadata": {},
   "outputs": [],
   "source": [
    "plot_choiceSigmoidsByRelativeCostsAndBen(photrats)"
   ]
  },
  {
   "cell_type": "markdown",
   "id": "c3f56468-1cc5-4baa-910e-e11e3ea4cc41",
   "metadata": {},
   "source": [
    "### plot individual regression weights for costs and benefits for each rat"
   ]
  },
  {
   "cell_type": "code",
   "execution_count": 13,
   "id": "0365fe99-2bf1-4a98-8c66-98bb83dbc964",
   "metadata": {},
   "outputs": [
    {
     "name": "stdout",
     "output_type": "stream",
     "text": [
      "Optimization terminated successfully.\n",
      "         Current function value: 0.534518\n",
      "         Iterations 6\n",
      "Optimization terminated successfully.\n",
      "         Current function value: 0.547970\n",
      "         Iterations 6\n",
      "Optimization terminated successfully.\n",
      "         Current function value: 0.560840\n",
      "         Iterations 6\n",
      "Optimization terminated successfully.\n",
      "         Current function value: 0.591582\n",
      "         Iterations 6\n",
      "Optimization terminated successfully.\n",
      "         Current function value: 0.575395\n",
      "         Iterations 6\n",
      "Optimization terminated successfully.\n",
      "         Current function value: 0.500732\n",
      "         Iterations 6\n",
      "Optimization terminated successfully.\n",
      "         Current function value: 0.536611\n",
      "         Iterations 6\n",
      "Optimization terminated successfully.\n",
      "         Current function value: 0.560975\n",
      "         Iterations 6\n",
      "Optimization terminated successfully.\n",
      "         Current function value: 0.630448\n",
      "         Iterations 5\n",
      "Optimization terminated successfully.\n",
      "         Current function value: 0.620402\n",
      "         Iterations 5\n"
     ]
    }
   ],
   "source": [
    "plot_choiceRegWeightsByRat(photrats)"
   ]
  },
  {
   "cell_type": "markdown",
   "id": "0cace0e3-41ad-4730-8a5c-7d548505002e",
   "metadata": {},
   "source": [
    "- adding significance test to individual rat regression weight calculation"
   ]
  },
  {
   "cell_type": "code",
   "execution_count": 36,
   "id": "5e75a59f-1aeb-4891-a71f-a22779153409",
   "metadata": {},
   "outputs": [
    {
     "data": {
      "text/plain": [
       "array([[ True,  True,  True],\n",
       "       [ True,  True,  True],\n",
       "       [ True,  True,  True],\n",
       "       [ True,  True,  True],\n",
       "       [ True,  True,  True],\n",
       "       [ True,  True,  True],\n",
       "       [ True,  True,  True],\n",
       "       [ True,  True,  True],\n",
       "       [ True,  True,  True],\n",
       "       [ True,  True,  True]])"
      ]
     },
     "execution_count": 36,
     "metadata": {},
     "output_type": "execute_result"
    }
   ],
   "source": [
    "regWeightsByRat.values[:,3:]<0.05"
   ]
  },
  {
   "cell_type": "markdown",
   "id": "cc94124d-9c85-47ec-8426-90ddfee20186",
   "metadata": {},
   "source": [
    "### get and save dataframe for mixed-effects p(choose L) regression in R"
   ]
  },
  {
   "cell_type": "code",
   "execution_count": 34,
   "id": "28f0560e-98c2-4e3b-aa78-dd7f1b070230",
   "metadata": {},
   "outputs": [],
   "source": [
    "get_log_pchoos_v_costNben(photrats)\n",
    "add_scaledVarsToRegDf(photrats)\n",
    "photrats.regdf.to_csv(photrats.directory_prefix+\"costVbenDf4reg.csv\")"
   ]
  },
  {
   "cell_type": "markdown",
   "id": "ce79487e-b393-4098-8cc3-c387462ead6c",
   "metadata": {},
   "source": [
    "### load regression results from R"
   ]
  },
  {
   "cell_type": "code",
   "execution_count": 46,
   "id": "7b350f30-39b0-46c2-bd5e-8443d2a2e0a1",
   "metadata": {},
   "outputs": [],
   "source": [
    "regCoefs = pd.read_csv(photrats.directory_prefix+\"chooseLregCoefsByRat.csv\")\n",
    "regSum = pd.read_csv(photrats.directory_prefix+\"chooseLregSummary.csv\")"
   ]
  },
  {
   "cell_type": "markdown",
   "id": "c10be771-949a-4feb-b0fc-ae0a8e6649ce",
   "metadata": {},
   "source": [
    "### plot regression results from R"
   ]
  },
  {
   "cell_type": "code",
   "execution_count": 50,
   "id": "4ea9def6-e080-4179-8512-789e1232f13a",
   "metadata": {},
   "outputs": [
    {
     "data": {
      "text/html": [
       "<div>\n",
       "<style scoped>\n",
       "    .dataframe tbody tr th:only-of-type {\n",
       "        vertical-align: middle;\n",
       "    }\n",
       "\n",
       "    .dataframe tbody tr th {\n",
       "        vertical-align: top;\n",
       "    }\n",
       "\n",
       "    .dataframe thead th {\n",
       "        text-align: right;\n",
       "    }\n",
       "</style>\n",
       "<table border=\"1\" class=\"dataframe\">\n",
       "  <thead>\n",
       "    <tr style=\"text-align: right;\">\n",
       "      <th></th>\n",
       "      <th>Unnamed: 0</th>\n",
       "      <th>Estimate</th>\n",
       "      <th>Std. Error</th>\n",
       "      <th>z value</th>\n",
       "      <th>Pr(&gt;|z|)</th>\n",
       "    </tr>\n",
       "  </thead>\n",
       "  <tbody>\n",
       "    <tr>\n",
       "      <th>0</th>\n",
       "      <td>(Intercept)</td>\n",
       "      <td>2.214101</td>\n",
       "      <td>0.309209</td>\n",
       "      <td>7.160538</td>\n",
       "      <td>8.036102e-13</td>\n",
       "    </tr>\n",
       "    <tr>\n",
       "      <th>1</th>\n",
       "      <td>pRwdScaled</td>\n",
       "      <td>1.613729</td>\n",
       "      <td>0.158150</td>\n",
       "      <td>10.203759</td>\n",
       "      <td>1.907441e-24</td>\n",
       "    </tr>\n",
       "    <tr>\n",
       "      <th>2</th>\n",
       "      <td>ldifScaled</td>\n",
       "      <td>-6.803168</td>\n",
       "      <td>0.548637</td>\n",
       "      <td>-12.400121</td>\n",
       "      <td>2.609282e-35</td>\n",
       "    </tr>\n",
       "  </tbody>\n",
       "</table>\n",
       "</div>"
      ],
      "text/plain": [
       "    Unnamed: 0  Estimate  Std. Error    z value      Pr(>|z|)\n",
       "0  (Intercept)  2.214101    0.309209   7.160538  8.036102e-13\n",
       "1   pRwdScaled  1.613729    0.158150  10.203759  1.907441e-24\n",
       "2   ldifScaled -6.803168    0.548637 -12.400121  2.609282e-35"
      ]
     },
     "execution_count": 50,
     "metadata": {},
     "output_type": "execute_result"
    }
   ],
   "source": [
    "regSum"
   ]
  },
  {
   "cell_type": "code",
   "execution_count": 53,
   "id": "5b9059ca-b7ef-46ce-9210-1e89ab0afa9c",
   "metadata": {},
   "outputs": [],
   "source": [
    "fig = plt.figure(figsize=(3.5,4))\n",
    "xvals = [\"p(reward)\",\"Distance\"]\n",
    "sns.barplot(data=regCoefs.loc[:,[\"pRwdScaled\",\"ldifScaled\"]],color='darkgrey',alpha=.5)\n",
    "sns.stripplot(data=regCoefs.loc[:,[\"pRwdScaled\",\"ldifScaled\"]],color='k',size=8,marker='X',alpha=.9)\n",
    "plt.axhline(y=0,ls='--',color='k')\n",
    "plt.xticks([0,1],xvals,fontweight=\"bold\")\n",
    "plotRegSigLevel(regSum,0,2.0,1)\n",
    "plotRegSigLevel(regSum,1,2.0,2)\n",
    "plt.ylim(-10,2.2)\n",
    "plt.ylabel(\"Path choice ß value\",fontsize='xx-large',fontweight='bold')\n",
    "plt.tight_layout()"
   ]
  },
  {
   "cell_type": "markdown",
   "id": "efd86c20-41bb-4ae2-9285-3152a0b83c1e",
   "metadata": {},
   "source": [
    "# plot change in port/path choice around block change"
   ]
  },
  {
   "cell_type": "code",
   "execution_count": 40,
   "id": "00a35d5e-1b33-4220-a37f-c9f79fcb50a6",
   "metadata": {},
   "outputs": [],
   "source": [
    "high2lowProb,high2lowDist,low2highProb,low2highDist = get_sessionProbAndDistChangeInds(photrats)"
   ]
  },
  {
   "cell_type": "code",
   "execution_count": null,
   "id": "8218e537-58cc-4990-99ab-f016ed6b9d67",
   "metadata": {
    "tags": []
   },
   "outputs": [],
   "source": [
    "lowsProb,highsProb,lowcountProb,highcountProb = calc_pChoosePortAtProbBlkTrans(photrats,high2lowProb,low2highProb)\n",
    "fig = plot_portChoiceAtProbBlkTrans(photrats,lowsProb,highsProb,smoothWin=5,blineStart=5,legend_on=False)\n",
    "plt.ylim(-.18,.18)"
   ]
  },
  {
   "cell_type": "code",
   "execution_count": null,
   "id": "2fdae457-3bb4-4689-848f-c348450efe59",
   "metadata": {
    "tags": []
   },
   "outputs": [],
   "source": [
    "lowsBar,highsBar,lowcountBar,highcountBar = calc_pChoosePathAtBarBlkTrans(photrats,high2lowDist,low2highDist)\n",
    "fig = plot_portChoiceAtBarBlkTrans(photrats,lowsBar,highsBar,smoothWin=5,blineStart=5,legend_on=False)"
   ]
  }
 ],
 "metadata": {
  "kernelspec": {
   "display_name": "Python 3",
   "language": "python",
   "name": "python3"
  },
  "language_info": {
   "codemirror_mode": {
    "name": "ipython",
    "version": 3
   },
   "file_extension": ".py",
   "mimetype": "text/x-python",
   "name": "python",
   "nbconvert_exporter": "python",
   "pygments_lexer": "ipython3",
   "version": "3.8.8"
  }
 },
 "nbformat": 4,
 "nbformat_minor": 5
}
